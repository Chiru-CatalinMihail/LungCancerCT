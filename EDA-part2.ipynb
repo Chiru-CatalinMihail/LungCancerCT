{
  "cells": [
    {
      "cell_type": "markdown",
      "metadata": {},
      "source": [
        "# EDA regarding:\n",
        "* Tries of balancing future batches on tumor area%\n",
        "* Justification for smallest feature space in U-Net "
      ]
    },
    {
      "cell_type": "markdown",
      "metadata": {
        "id": "iT5rWIF_N1Bf"
      },
      "source": [
        "# Install"
      ]
    },
    {
      "cell_type": "code",
      "execution_count": 2,
      "metadata": {
        "colab": {
          "base_uri": "https://localhost:8080/"
        },
        "id": "V3_0aAO_QSDg",
        "outputId": "c620f4aa-c4a1-41b9-d86e-3c967d1d830b"
      },
      "outputs": [
        {
          "name": "stdout",
          "output_type": "stream",
          "text": [
            "Requirement already satisfied: monai-weekly in /home/aimas/anaconda3/lib/python3.9/site-packages (1.4.dev2418)\n",
            "Requirement already satisfied: torch>=1.9 in /home/aimas/anaconda3/lib/python3.9/site-packages (from monai-weekly) (2.1.0)\n",
            "Requirement already satisfied: numpy>=1.20 in /home/aimas/anaconda3/lib/python3.9/site-packages (from monai-weekly) (1.24.4)\n",
            "Requirement already satisfied: nvidia-cuda-cupti-cu12==12.1.105 in /home/aimas/anaconda3/lib/python3.9/site-packages (from torch>=1.9->monai-weekly) (12.1.105)\n",
            "Requirement already satisfied: nvidia-cusparse-cu12==12.1.0.106 in /home/aimas/anaconda3/lib/python3.9/site-packages (from torch>=1.9->monai-weekly) (12.1.0.106)\n",
            "Requirement already satisfied: filelock in /home/aimas/anaconda3/lib/python3.9/site-packages (from torch>=1.9->monai-weekly) (3.6.0)\n",
            "Requirement already satisfied: nvidia-cublas-cu12==12.1.3.1 in /home/aimas/anaconda3/lib/python3.9/site-packages (from torch>=1.9->monai-weekly) (12.1.3.1)\n",
            "Requirement already satisfied: sympy in /home/aimas/anaconda3/lib/python3.9/site-packages (from torch>=1.9->monai-weekly) (1.10.1)\n",
            "Requirement already satisfied: nvidia-curand-cu12==10.3.2.106 in /home/aimas/anaconda3/lib/python3.9/site-packages (from torch>=1.9->monai-weekly) (10.3.2.106)\n",
            "Requirement already satisfied: nvidia-cufft-cu12==11.0.2.54 in /home/aimas/anaconda3/lib/python3.9/site-packages (from torch>=1.9->monai-weekly) (11.0.2.54)\n",
            "Requirement already satisfied: triton==2.1.0 in /home/aimas/anaconda3/lib/python3.9/site-packages (from torch>=1.9->monai-weekly) (2.1.0)\n",
            "Requirement already satisfied: nvidia-cuda-runtime-cu12==12.1.105 in /home/aimas/anaconda3/lib/python3.9/site-packages (from torch>=1.9->monai-weekly) (12.1.105)\n",
            "Requirement already satisfied: nvidia-cudnn-cu12==8.9.2.26 in /home/aimas/anaconda3/lib/python3.9/site-packages (from torch>=1.9->monai-weekly) (8.9.2.26)\n",
            "Requirement already satisfied: nvidia-cusolver-cu12==11.4.5.107 in /home/aimas/anaconda3/lib/python3.9/site-packages (from torch>=1.9->monai-weekly) (11.4.5.107)\n",
            "Requirement already satisfied: networkx in /home/aimas/anaconda3/lib/python3.9/site-packages (from torch>=1.9->monai-weekly) (2.8.4)\n",
            "Requirement already satisfied: fsspec in /home/aimas/anaconda3/lib/python3.9/site-packages (from torch>=1.9->monai-weekly) (2024.3.1)\n",
            "Requirement already satisfied: nvidia-nvtx-cu12==12.1.105 in /home/aimas/anaconda3/lib/python3.9/site-packages (from torch>=1.9->monai-weekly) (12.1.105)\n",
            "Requirement already satisfied: typing-extensions in /home/aimas/anaconda3/lib/python3.9/site-packages (from torch>=1.9->monai-weekly) (4.11.0)\n",
            "Requirement already satisfied: nvidia-nccl-cu12==2.18.1 in /home/aimas/anaconda3/lib/python3.9/site-packages (from torch>=1.9->monai-weekly) (2.18.1)\n",
            "Requirement already satisfied: jinja2 in /home/aimas/anaconda3/lib/python3.9/site-packages (from torch>=1.9->monai-weekly) (2.11.3)\n",
            "Requirement already satisfied: nvidia-cuda-nvrtc-cu12==12.1.105 in /home/aimas/anaconda3/lib/python3.9/site-packages (from torch>=1.9->monai-weekly) (12.1.105)\n",
            "Requirement already satisfied: nvidia-nvjitlink-cu12 in /home/aimas/anaconda3/lib/python3.9/site-packages (from nvidia-cusolver-cu12==11.4.5.107->torch>=1.9->monai-weekly) (12.3.52)\n",
            "Requirement already satisfied: MarkupSafe>=0.23 in /home/aimas/anaconda3/lib/python3.9/site-packages (from jinja2->torch>=1.9->monai-weekly) (2.0.1)\n",
            "Requirement already satisfied: mpmath>=0.19 in /home/aimas/anaconda3/lib/python3.9/site-packages (from sympy->torch>=1.9->monai-weekly) (1.2.1)\n"
          ]
        }
      ],
      "source": [
        "# !pip install monai-weekly"
      ]
    },
    {
      "cell_type": "markdown",
      "metadata": {
        "id": "INJs24XJt0VZ"
      },
      "source": [
        "# Import libraries"
      ]
    },
    {
      "cell_type": "code",
      "execution_count": 1,
      "metadata": {
        "colab": {
          "base_uri": "https://localhost:8080/"
        },
        "id": "uthljEqLt6Db",
        "outputId": "07759087-e0ca-4273-a9de-57b64fb264e4"
      },
      "outputs": [],
      "source": [
        "import os\n",
        "import warnings\n",
        "warnings.filterwarnings(\"ignore\") # remove some scikit-image warnings\n",
        "\n",
        "\n",
        "from monai.apps import DecathlonDataset\n",
        "from monai.data import DataLoader\n",
        "from monai.transforms import (\n",
        "    LoadImageD,\n",
        "    Compose,\n",
        "    LoadImageD,\n",
        ")\n",
        "\n",
        "import torch\n",
        "import numpy as np\n",
        "import matplotlib.pyplot as plt\n",
        "import random\n"
      ]
    },
    {
      "cell_type": "markdown",
      "metadata": {},
      "source": [
        "#### Set seeds"
      ]
    },
    {
      "cell_type": "code",
      "execution_count": 2,
      "metadata": {},
      "outputs": [],
      "source": [
        "import sys\n",
        "from tqdm import tqdm"
      ]
    },
    {
      "cell_type": "code",
      "execution_count": 3,
      "metadata": {},
      "outputs": [],
      "source": [
        "torch.manual_seed(0)\n",
        "np.random.seed(0)\n",
        "random.seed(0)"
      ]
    },
    {
      "cell_type": "markdown",
      "metadata": {},
      "source": [
        "### Hyperparameters"
      ]
    },
    {
      "cell_type": "code",
      "execution_count": 4,
      "metadata": {},
      "outputs": [],
      "source": [
        "BATCH_SIZE = 1\n",
        "\n",
        "IMG_HEIGHT = 128\n",
        "IMG_WIDTH = 128\n",
        "COLOUR_CHANNELS = 1\n",
        "NO_STACKED_IMGS = 5 # number of images to stack for the model (Determined by the average size of the tumour in EDA part 1)"
      ]
    },
    {
      "cell_type": "code",
      "execution_count": 6,
      "metadata": {},
      "outputs": [],
      "source": [
        "crt_dir = os.getcwd()\n",
        "\n",
        "datasets_path = f'{crt_dir}/datasets/MedicalDecathlon/'"
      ]
    },
    {
      "cell_type": "markdown",
      "metadata": {
        "id": "Ji0lKWB0uHp8"
      },
      "source": [
        "# Visualize data"
      ]
    },
    {
      "cell_type": "markdown",
      "metadata": {},
      "source": [
        "## TRAIN"
      ]
    },
    {
      "cell_type": "code",
      "execution_count": 9,
      "metadata": {},
      "outputs": [],
      "source": [
        "# Set up transform\n",
        "KEYS = [\"image\", \"label\"]\n",
        "\n",
        "base_transform = Compose([\n",
        "    LoadImageD(keys=KEYS),\n",
        "])"
      ]
    },
    {
      "cell_type": "code",
      "execution_count": 10,
      "metadata": {},
      "outputs": [],
      "source": [
        "import pickle as pkl\n",
        "\n",
        "with open(f'/home/aimas/Desktop/Disertatie_CataChiru/training_stacks.pkl', 'rb') as f:\n",
        "    patients = pkl.load(f)\n"
      ]
    },
    {
      "cell_type": "code",
      "execution_count": 12,
      "metadata": {},
      "outputs": [
        {
          "name": "stderr",
          "output_type": "stream",
          "text": [
            "Loading dataset: 100%|██████████| 51/51 [03:26<00:00,  4.05s/it]\n"
          ]
        }
      ],
      "source": [
        "# Load data\n",
        "train_name = 'training' # From Monai: ['training', 'validation', 'test']\n",
        "train_dataset = DecathlonDataset(root_dir = f'{datasets_path}{train_name}/',\n",
        "                           task = \"Task06_Lung\", section = train_name,\n",
        "                           transform = base_transform, download = False)\n",
        "\n",
        "for i in range(len(train_dataset)):\n",
        "    train_dataset[i]['image'] = train_dataset[i]['image'][:, :, patients[i]]\n",
        "    train_dataset[i]['label'] = train_dataset[i]['label'][:, :, patients[i]]\n",
        "\n",
        "\n",
        "train_loader = DataLoader(train_dataset, batch_size = 1, shuffle = False) #, num_workers = 1)"
      ]
    },
    {
      "cell_type": "code",
      "execution_count": 13,
      "metadata": {},
      "outputs": [
        {
          "name": "stderr",
          "output_type": "stream",
          "text": [
            "  0%|          | 0/51 [00:00<?, ?it/s]"
          ]
        },
        {
          "name": "stdout",
          "output_type": "stream",
          "text": [
            "torch.Size([1, 512, 512, 70])\n"
          ]
        },
        {
          "name": "stderr",
          "output_type": "stream",
          "text": [
            "\n"
          ]
        }
      ],
      "source": [
        "for patient_batch in tqdm(train_loader):\n",
        "    print(patient_batch['image'].shape)\n",
        "    break\n"
      ]
    },
    {
      "cell_type": "code",
      "execution_count": 22,
      "metadata": {},
      "outputs": [],
      "source": [
        "def average_tumour_surface(crt_loader, print_flag = False):\n",
        "    '''\n",
        "    Computes the average number of pixels that the tumour covers in the images of each patient\n",
        "    '''\n",
        "    surface_percentage_per_patient = []\n",
        "\n",
        "    i = 0\n",
        "    for patient_batch in tqdm(crt_loader):\n",
        "        label = patient_batch['label']\n",
        "        percentage_area = np.mean(np.sum(label.cpu().numpy(), axis = (1, 2)))\n",
        "\n",
        "        surface_percentage_per_patient.append(percentage_area)\n",
        "\n",
        "        if print_flag:\n",
        "            print(f\"For patient {i} the tumour covers {percentage_area} pixels\")\n",
        "        i += 1\n",
        "\n",
        "    return surface_percentage_per_patient\n",
        "\n"
      ]
    },
    {
      "cell_type": "code",
      "execution_count": 23,
      "metadata": {},
      "outputs": [
        {
          "name": "stderr",
          "output_type": "stream",
          "text": [
            "100%|██████████| 51/51 [00:01<00:00, 38.08it/s]\n"
          ]
        }
      ],
      "source": [
        "avg_tumour_area = average_tumour_surface(train_loader, print_flag = False)"
      ]
    },
    {
      "cell_type": "code",
      "execution_count": 25,
      "metadata": {},
      "outputs": [
        {
          "data": {
            "image/png": "[encoded data removed]",
            "text/plain": [
              "<Figure size 640x480 with 1 Axes>"
            ]
          },
          "metadata": {},
          "output_type": "display_data"
        }
      ],
      "source": [
        "plt.plot(avg_tumour_area)\n",
        "plt.title('Average tumour area per patient')\n",
        "\n",
        "# Put the mean value on the plot\n",
        "mean_tumour_area = np.mean(avg_tumour_area)\n",
        "plt.axhline(y = mean_tumour_area, color = 'r', linestyle = '--', label = f'Overall Mean (Pixels): {mean_tumour_area:.2f}')\n",
        "\n",
        "\n",
        "\n",
        "plt.ylabel('Tumour area (Pixels)')\n",
        "plt.xlabel('Patient ID')\n",
        "plt.xlim(0, len(avg_tumour_area))\n",
        "plt.legend()\n",
        "plt.show()\n"
      ]
    },
    {
      "cell_type": "code",
      "execution_count": 103,
      "metadata": {},
      "outputs": [],
      "source": [
        "def tumour_percentages_per_training_batches(crt_loader, NO_STACKED_IMGS):\n",
        "    '''\n",
        "    Computes for a specified number of stacked images the percentage of tumour voxels in each batch\n",
        "\n",
        "    Returns a list of tuples (voxels_with_tumour, percentage_of_tumour_in_batch_volume)\n",
        "    '''\n",
        "    percentages_batches = []\n",
        "\n",
        "    patient_idx = 0\n",
        "    for patient_batch in tqdm(crt_loader):\n",
        "        print(f'Patient {patient_idx}')\n",
        "        patient_label = patient_batch['label'][0].numpy()\n",
        "        patient_idx += 1\n",
        "\n",
        "        for i in range(0, patient_label.shape[-1], NO_STACKED_IMGS):\n",
        "            crt_label = patient_label[:, :, i:i+NO_STACKED_IMGS]\n",
        "\n",
        "            voxels_with_tumour = np.sum(crt_label)\n",
        "            volume = np.prod(crt_label.shape)\n",
        "\n",
        "            percentages_batches.append((voxels_with_tumour, 100*voxels_with_tumour / volume))\n",
        "\n",
        "\n",
        "    return percentages_batches"
      ]
    },
    {
      "cell_type": "code",
      "execution_count": 105,
      "metadata": {},
      "outputs": [
        {
          "name": "stderr",
          "output_type": "stream",
          "text": [
            "  2%|▏         | 1/51 [00:00<00:05,  9.39it/s]"
          ]
        },
        {
          "name": "stdout",
          "output_type": "stream",
          "text": [
            "Patient 0\n",
            "Patient 1\n",
            "Patient 2\n",
            "Patient 3\n",
            "Patient 4\n",
            "Patient 5\n"
          ]
        },
        {
          "name": "stderr",
          "output_type": "stream",
          "text": [
            " 22%|██▏       | 11/51 [00:00<00:01, 30.42it/s]"
          ]
        },
        {
          "name": "stdout",
          "output_type": "stream",
          "text": [
            "Patient 6\n",
            "Patient 7\n",
            "Patient 8\n",
            "Patient 9\n",
            "Patient 10\n",
            "Patient 11\n",
            "Patient 12\n",
            "Patient 13\n",
            "Patient 14\n",
            "Patient 15\n"
          ]
        },
        {
          "name": "stderr",
          "output_type": "stream",
          "text": [
            " 43%|████▎     | 22/51 [00:00<00:00, 40.54it/s]"
          ]
        },
        {
          "name": "stdout",
          "output_type": "stream",
          "text": [
            "Patient 16\n",
            "Patient 17\n",
            "Patient 18\n",
            "Patient 19\n",
            "Patient 20\n",
            "Patient 21\n",
            "Patient 22\n",
            "Patient 23\n",
            "Patient 24\n",
            "Patient 25\n"
          ]
        },
        {
          "name": "stderr",
          "output_type": "stream",
          "text": [
            " 55%|█████▍    | 28/51 [00:00<00:00, 36.58it/s]"
          ]
        },
        {
          "name": "stdout",
          "output_type": "stream",
          "text": [
            "Patient 26\n",
            "Patient 27\n",
            "Patient 28\n",
            "Patient 29\n",
            "Patient 30\n",
            "Patient 31\n",
            "Patient 32\n"
          ]
        },
        {
          "name": "stderr",
          "output_type": "stream",
          "text": [
            " 73%|███████▎  | 37/51 [00:01<00:00, 34.95it/s]"
          ]
        },
        {
          "name": "stdout",
          "output_type": "stream",
          "text": [
            "Patient 33\n",
            "Patient 34\n",
            "Patient 35\n",
            "Patient 36\n",
            "Patient 37\n",
            "Patient 38\n",
            "Patient 39\n"
          ]
        },
        {
          "name": "stderr",
          "output_type": "stream",
          "text": [
            " 88%|████████▊ | 45/51 [00:01<00:00, 31.46it/s]"
          ]
        },
        {
          "name": "stdout",
          "output_type": "stream",
          "text": [
            "Patient 40\n",
            "Patient 41\n",
            "Patient 42\n",
            "Patient 43\n",
            "Patient 44\n",
            "Patient 45\n",
            "Patient 46\n"
          ]
        },
        {
          "name": "stderr",
          "output_type": "stream",
          "text": [
            "100%|██████████| 51/51 [00:01<00:00, 33.91it/s]"
          ]
        },
        {
          "name": "stdout",
          "output_type": "stream",
          "text": [
            "Patient 47\n",
            "Patient 48\n",
            "Patient 49\n",
            "Patient 50\n"
          ]
        },
        {
          "name": "stderr",
          "output_type": "stream",
          "text": [
            "\n"
          ]
        }
      ],
      "source": [
        "percentages_batches_tr = tumour_percentages_per_training_batches(train_loader, NO_STACKED_IMGS)"
      ]
    },
    {
      "cell_type": "code",
      "execution_count": 106,
      "metadata": {},
      "outputs": [
        {
          "data": {
            "text/plain": [
              "[(985.0, 0.0751495361328125),\n",
              " (2991.0, 0.2281951904296875),\n",
              " (5110.0, 0.389862060546875),\n",
              " (7864.0, 0.5999755859375),\n",
              " (9937.0, 0.7581329345703125),\n",
              " (10831.0, 0.8263397216796875),\n",
              " (10467.0, 0.7985687255859375),\n",
              " (9790.0, 0.746917724609375),\n",
              " (8783.0, 0.6700897216796875),\n",
              " (7537.0, 0.5750274658203125),\n",
              " (6386.0, 0.487213134765625),\n",
              " (5012.0, 0.38238525390625),\n",
              " (3644.0, 0.27801513671875),\n",
              " (1098.0, 0.083770751953125),\n",
              " (1029.0, 0.0785064697265625),\n",
              " (6568.0, 0.5010986328125),\n",
              " (11273.0, 0.8600616455078125),\n",
              " (9017.0, 0.6879425048828125),\n",
              " (6839.0, 0.5217742919921875),\n",
              " (5025.0, 0.3833770751953125),\n",
              " (1067.0, 0.0814056396484375),\n",
              " (300.0, 0.02288818359375),\n",
              " (25.0, 0.0095367431640625),\n",
              " (988.0, 0.07537841796875),\n",
              " (3124.0, 0.23834228515625),\n",
              " (5841.0, 0.4456329345703125),\n",
              " (7669.0, 0.5850982666015625),\n",
              " (7908.0, 0.60333251953125),\n",
              " (3546.0, 0.270538330078125),\n",
              " (202.0, 0.077056884765625),\n",
              " (828.0, 0.06317138671875),\n",
              " (2340.0, 0.17852783203125),\n",
              " (1565.0, 0.1194000244140625),\n",
              " (150.0, 0.0286102294921875),\n",
              " (643.0, 0.0490570068359375),\n",
              " (647.0, 0.0493621826171875),\n",
              " (36.0, 0.01373291015625),\n",
              " (2811.0, 0.2144622802734375),\n",
              " (6091.0, 0.4647064208984375),\n",
              " (8130.0, 0.620269775390625),\n",
              " (7445.0, 0.5680084228515625),\n",
              " (5667.0, 0.4323577880859375),\n",
              " (3627.0, 0.2767181396484375),\n",
              " (3239.0, 0.2471160888671875),\n",
              " (1880.0, 0.1434326171875),\n",
              " (213.0, 0.04062652587890625),\n",
              " (2693.0, 0.2054595947265625),\n",
              " (728.0, 0.069427490234375),\n",
              " (3764.0, 0.28717041015625),\n",
              " (4253.0, 0.3244781494140625),\n",
              " (1222.0, 0.15538533528645834),\n",
              " (970.0, 0.074005126953125),\n",
              " (1157.0, 0.0882720947265625),\n",
              " (661.0, 0.0504302978515625),\n",
              " (185.0, 0.0141143798828125),\n",
              " (1936.0, 0.147705078125),\n",
              " (2628.0, 0.20050048828125),\n",
              " (2378.0, 0.181427001953125),\n",
              " (1176.0, 0.0897216796875),\n",
              " (49.0, 0.0186920166015625),\n",
              " (1786.0, 0.136260986328125),\n",
              " (2718.0, 0.207366943359375),\n",
              " (3453.0, 0.2634429931640625),\n",
              " (5305.0, 0.4047393798828125),\n",
              " (8654.0, 0.660247802734375),\n",
              " (12688.0, 0.968017578125),\n",
              " (15690.0, 1.197052001953125),\n",
              " (16339.0, 1.2465667724609375),\n",
              " (15638.0, 1.193084716796875),\n",
              " (13588.0, 1.03668212890625),\n",
              " (7527.0, 0.5742645263671875),\n",
              " (2988.0, 0.22796630859375),\n",
              " (669.0, 0.0510406494140625),\n",
              " (1127.0, 0.0859832763671875),\n",
              " (681.0, 0.0519561767578125),\n",
              " (242.0, 0.02307891845703125),\n",
              " (3777.0, 0.2881622314453125),\n",
              " (2498.0, 0.23822784423828125),\n",
              " (849.0, 0.0647735595703125),\n",
              " (2048.0, 0.15625),\n",
              " (2539.0, 0.1937103271484375),\n",
              " (1818.0, 0.138702392578125),\n",
              " (791.0, 0.0603485107421875),\n",
              " (724.0, 0.05523681640625),\n",
              " (1690.0, 0.128936767578125),\n",
              " (666.0, 0.06351470947265625),\n",
              " (477.0, 0.0363922119140625),\n",
              " (1204.0, 0.09185791015625),\n",
              " (967.0, 0.0737762451171875),\n",
              " (83.0, 0.0316619873046875),\n",
              " (212.0, 0.01617431640625),\n",
              " (637.0, 0.0485992431640625),\n",
              " (1441.0, 0.1099395751953125),\n",
              " (2869.0, 0.2188873291015625),\n",
              " (3377.0, 0.2576446533203125),\n",
              " (3035.0, 0.2315521240234375),\n",
              " (2129.0, 0.1624298095703125),\n",
              " (1960.0, 0.1495361328125),\n",
              " (3785.0, 0.2887725830078125),\n",
              " (2107.0, 0.20093917846679688),\n",
              " (685.0, 0.0522613525390625),\n",
              " (624.0, 0.047607421875),\n",
              " (238.0, 0.018157958984375),\n",
              " (2126.0, 0.162200927734375),\n",
              " (4257.0, 0.3247833251953125),\n",
              " (3576.0, 0.2728271484375),\n",
              " (2735.0, 0.2086639404296875),\n",
              " (1315.0, 0.1003265380859375),\n",
              " (106.0, 0.0202178955078125),\n",
              " (207.0, 0.0157928466796875),\n",
              " (688.0, 0.052490234375),\n",
              " (1164.0, 0.08880615234375),\n",
              " (1636.0, 0.12481689453125),\n",
              " (1149.0, 0.0876617431640625),\n",
              " (1078.0, 0.082244873046875),\n",
              " (776.0, 0.0592041015625),\n",
              " (352.0, 0.02685546875),\n",
              " (409.0, 0.0312042236328125),\n",
              " (2672.0, 0.203857421875),\n",
              " (4043.0, 0.3084564208984375),\n",
              " (4481.0, 0.3418731689453125),\n",
              " (3468.0, 0.26458740234375),\n",
              " (1918.0, 0.146331787109375),\n",
              " (827.0, 0.0630950927734375),\n",
              " (7046.0, 0.537567138671875),\n",
              " (8814.0, 0.672454833984375),\n",
              " (8805.0, 0.6717681884765625),\n",
              " (5790.0, 0.441741943359375),\n",
              " (2999.0, 0.2288055419921875),\n",
              " (663.0, 0.06322860717773438),\n",
              " (1609.0, 0.1227569580078125),\n",
              " (2502.0, 0.190887451171875),\n",
              " (1836.0, 0.14007568359375),\n",
              " (18.0, 0.0034332275390625),\n",
              " (274.0, 0.020904541015625),\n",
              " (597.0, 0.0455474853515625),\n",
              " (95.0, 0.012079874674479166),\n",
              " (2558.0, 0.195159912109375),\n",
              " (4825.0, 0.3681182861328125),\n",
              " (595.0, 0.11348724365234375),\n",
              " (971.0, 0.0740814208984375),\n",
              " (4024.0, 0.3070068359375),\n",
              " (6200.0, 0.4730224609375),\n",
              " (6758.0, 0.515594482421875),\n",
              " (5873.0, 0.4480743408203125),\n",
              " (3121.0, 0.2381134033203125),\n",
              " (364.0, 0.069427490234375),\n",
              " (4083.0, 0.3115081787109375),\n",
              " (9595.0, 0.7320404052734375),\n",
              " (13289.0, 1.0138702392578125),\n",
              " (14126.0, 1.077728271484375),\n",
              " (14934.0, 1.139373779296875),\n",
              " (14680.0, 1.1199951171875),\n",
              " (12150.0, 0.926971435546875),\n",
              " (8808.0, 0.6719970703125),\n",
              " (5112.0, 0.3900146484375),\n",
              " (3706.0, 0.282745361328125),\n",
              " (5406.0, 0.412445068359375),\n",
              " (5885.0, 0.4489898681640625),\n",
              " (1922.0, 0.146636962890625),\n",
              " (1211.0, 0.0923919677734375),\n",
              " (445.0, 0.0339508056640625),\n",
              " (1241.0, 0.0946807861328125),\n",
              " (2704.0, 0.206298828125),\n",
              " (2346.0, 0.178985595703125),\n",
              " (78.0, 0.029754638671875),\n",
              " (1262.0, 0.096282958984375),\n",
              " (1752.0, 0.1336669921875),\n",
              " (990.0, 0.09441375732421875),\n",
              " (322.0, 0.024566650390625),\n",
              " (1360.0, 0.103759765625),\n",
              " (2730.0, 0.208282470703125),\n",
              " (4498.0, 0.343170166015625),\n",
              " (3877.0, 0.2957916259765625),\n",
              " (494.0, 0.06281534830729167),\n",
              " (767.0, 0.0585174560546875),\n",
              " (1051.0, 0.0801849365234375),\n",
              " (17.0, 0.0064849853515625),\n",
              " (1207.0, 0.0920867919921875),\n",
              " (1278.0, 0.097503662109375),\n",
              " (1465.0, 0.1117706298828125),\n",
              " (2072.0, 0.1580810546875),\n",
              " (2203.0, 0.1680755615234375),\n",
              " (1199.0, 0.0914764404296875),\n",
              " (1065.0, 0.0812530517578125),\n",
              " (818.0, 0.062408447265625),\n",
              " (357.0, 0.034046173095703125),\n",
              " (1504.0, 0.11474609375),\n",
              " (2320.0, 0.177001953125),\n",
              " (5541.0, 0.4227447509765625),\n",
              " (7863.0, 0.5998992919921875),\n",
              " (8222.0, 0.627288818359375),\n",
              " (10907.0, 0.8321380615234375),\n",
              " (15394.0, 1.174468994140625),\n",
              " (16250.0, 1.239776611328125),\n",
              " (15654.0, 1.194305419921875),\n",
              " (14262.0, 1.088104248046875),\n",
              " (14128.0, 1.077880859375),\n",
              " (12316.0, 0.93963623046875),\n",
              " (7524.0, 0.57403564453125),\n",
              " (1570.0, 0.14972686767578125),\n",
              " (1511.0, 0.1152801513671875),\n",
              " (3229.0, 0.2463531494140625),\n",
              " (1346.0, 0.17115275065104166),\n",
              " (283.0, 0.0215911865234375),\n",
              " (1699.0, 0.1296234130859375),\n",
              " (3809.0, 0.2906036376953125),\n",
              " (2905.0, 0.2216339111328125),\n",
              " (505.0, 0.1926422119140625),\n",
              " (841.0, 0.0641632080078125),\n",
              " (806.0, 0.061492919921875),\n",
              " (16.0, 0.006103515625),\n",
              " (4810.0, 0.366973876953125),\n",
              " (13557.0, 1.0343170166015625),\n",
              " (10644.0, 0.81207275390625),\n",
              " (2395.0, 0.22840499877929688),\n",
              " (738.0, 0.056304931640625),\n",
              " (1043.0, 0.0795745849609375),\n",
              " (84.0, 0.03204345703125),\n",
              " (2768.0, 0.211181640625),\n",
              " (8992.0, 0.68603515625),\n",
              " (16579.0, 1.2648773193359375),\n",
              " (19764.0, 1.50787353515625),\n",
              " (18631.0, 1.4214324951171875),\n",
              " (20153.0, 1.5375518798828125),\n",
              " (21107.0, 1.6103363037109375),\n",
              " (17204.0, 1.31256103515625),\n",
              " (11432.0, 0.8721923828125),\n",
              " (7214.0, 0.550384521484375),\n",
              " (3724.0, 0.28411865234375),\n",
              " (479.0, 0.0365447998046875),\n",
              " (399.0, 0.0304412841796875),\n",
              " (1756.0, 0.13397216796875),\n",
              " (4523.0, 0.3450775146484375),\n",
              " (4413.0, 0.4208564758300781),\n",
              " (8.0, 0.0006103515625),\n",
              " (6255.0, 0.4772186279296875),\n",
              " (9378.0, 0.715484619140625),\n",
              " (9852.0, 0.75164794921875),\n",
              " (11870.0, 0.905609130859375),\n",
              " (13370.0, 1.020050048828125),\n",
              " (16702.0, 1.274261474609375),\n",
              " (14959.0, 1.1412811279296875),\n",
              " (13489.0, 1.0291290283203125),\n",
              " (13204.0, 1.00738525390625),\n",
              " (10365.0, 0.7907867431640625),\n",
              " (10045.0, 0.7663726806640625),\n",
              " (9225.0, 0.7038116455078125),\n",
              " (6251.0, 0.4769134521484375),\n",
              " (1767.0, 0.2246856689453125),\n",
              " (192.0, 0.0146484375),\n",
              " (730.0, 0.055694580078125),\n",
              " (3259.0, 0.2486419677734375),\n",
              " (5134.0, 0.391693115234375),\n",
              " (7160.0, 0.5462646484375),\n",
              " (3709.0, 0.2829742431640625),\n",
              " (2794.0, 0.213165283203125),\n",
              " (129.0, 0.0492095947265625),\n",
              " (1069.0, 0.0815582275390625),\n",
              " (3431.0, 0.2617645263671875),\n",
              " (5141.0, 0.3922271728515625),\n",
              " (5082.0, 0.387725830078125),\n",
              " (1858.0, 0.141754150390625),\n",
              " (44.0, 0.01678466796875),\n",
              " (397.0, 0.0302886962890625),\n",
              " (1754.0, 0.133819580078125),\n",
              " (816.0, 0.103759765625),\n",
              " (219.0, 0.0167083740234375),\n",
              " (606.0, 0.046234130859375),\n",
              " (254.0, 0.019378662109375),\n",
              " (1841.0, 0.1404571533203125),\n",
              " (8706.0, 0.664215087890625),\n",
              " (15238.0, 1.162567138671875),\n",
              " (19722.0, 1.504669189453125),\n",
              " (24406.0, 1.862030029296875),\n",
              " (31683.0, 2.4172210693359375),\n",
              " (34548.0, 2.63580322265625),\n",
              " (34352.0, 2.620849609375),\n",
              " (33920.0, 2.587890625),\n",
              " (32584.0, 2.4859619140625),\n",
              " (30602.0, 2.334747314453125),\n",
              " (27051.0, 2.0638275146484375),\n",
              " (21313.0, 1.6260528564453125),\n",
              " (13944.0, 1.0638427734375),\n",
              " (6899.0, 0.5263519287109375),\n",
              " (1666.0, 0.15888214111328125),\n",
              " (963.0, 0.0734710693359375),\n",
              " (1647.0, 0.1256561279296875),\n",
              " (470.0, 0.04482269287109375),\n",
              " (649.0, 0.0495147705078125),\n",
              " (107.0, 0.0408172607421875),\n",
              " (4228.0, 0.32257080078125),\n",
              " (261.0, 0.024890899658203125)]"
            ]
          },
          "execution_count": 106,
          "metadata": {},
          "output_type": "execute_result"
        }
      ],
      "source": [
        "percentages_batches_tr"
      ]
    },
    {
      "cell_type": "code",
      "execution_count": 107,
      "metadata": {},
      "outputs": [
        {
          "data": {
            "image/png": "[encoded data removed]",
            "text/plain": [
              "<Figure size 640x480 with 1 Axes>"
            ]
          },
          "metadata": {},
          "output_type": "display_data"
        }
      ],
      "source": [
        "percentages_only_tr = np.array([perc[1] for perc in percentages_batches_tr])\n",
        "percentages_only_tr = sorted(percentages_only_tr)\n",
        "plt.plot(percentages_only_tr)\n",
        "plt.title(f'Percentage of tumour in each batch for stack-size={NO_STACKED_IMGS} ')\n",
        "plt.xlabel('Batch ID')\n",
        "plt.ylabel('Percentage of tumour')\n",
        "plt.show()"
      ]
    },
    {
      "cell_type": "code",
      "execution_count": 188,
      "metadata": {},
      "outputs": [
        {
          "data": {
            "text/plain": [
              "293"
            ]
          },
          "execution_count": 188,
          "metadata": {},
          "output_type": "execute_result"
        }
      ],
      "source": [
        "len(percentages_only_tr)"
      ]
    },
    {
      "cell_type": "code",
      "execution_count": 186,
      "metadata": {},
      "outputs": [
        {
          "name": "stdout",
          "output_type": "stream",
          "text": [
            "[0, 0.125, 0.14285714285714285, 0.16666666666666666, 0.2, 0.25, 0.3333333333333333, 0.5, 1.0, 2]\n"
          ]
        },
        {
          "data": {
            "text/plain": [
              "{0: 107,\n",
              " 0.125: 11,\n",
              " 0.14285714285714285: 12,\n",
              " 0.16666666666666666: 10,\n",
              " 0.2: 25,\n",
              " 0.25: 22,\n",
              " 0.3333333333333333: 26,\n",
              " 0.5: 43,\n",
              " 1.0: 30,\n",
              " 2: 7}"
            ]
          },
          "execution_count": 186,
          "metadata": {},
          "output_type": "execute_result"
        }
      ],
      "source": [
        "# Tried to find a way of binning the percentages so that the distribution is somewhat even\n",
        "# Using logarithmic bins oversaturates 2 bins and leaves the rest empty\n",
        "# Using linear bins does not work either\n",
        "# Neither does using 1/x bins\n",
        "# It looks like it is 1/x up to one point and then a polynomial function\n",
        "\n",
        "bins = [0] + [1/x for x in [1,2,3,4,5,6,7,8]] + [2]\n",
        "\n",
        "bins = sorted(bins)\n",
        "print(bins)\n",
        "frequencies = {bin: 0 for bin in bins}\n",
        "\n",
        "\n",
        "for perc in percentages_only_tr:\n",
        "    for i in range(len(bins) + 1):\n",
        "        # print(perc, bins[i])\n",
        "        if i + 1 == len(bins):\n",
        "            frequencies[bins[i]] += 1\n",
        "            break\n",
        "        elif perc < bins[i + 1]:\n",
        "            frequencies[bins[i]] += 1\n",
        "            break\n",
        "\n",
        "frequencies"
      ]
    },
    {
      "cell_type": "code",
      "execution_count": 190,
      "metadata": {},
      "outputs": [
        {
          "data": {
            "text/plain": [
              "293"
            ]
          },
          "execution_count": 190,
          "metadata": {},
          "output_type": "execute_result"
        }
      ],
      "source": [
        "sum(frequencies.values())"
      ]
    },
    {
      "cell_type": "code",
      "execution_count": 187,
      "metadata": {},
      "outputs": [
        {
          "data": {
            "image/png": "[encoded data removed]",
            "text/plain": [
              "<Figure size 1000x600 with 1 Axes>"
            ]
          },
          "metadata": {},
          "output_type": "display_data"
        }
      ],
      "source": [
        "# frequencies = np.linspace(0, 3, 10)\n",
        "\n",
        "# Logarithmic scale histogram\n",
        "\n",
        "plt.figure(figsize=(10, 6))\n",
        "plt.bar(bins, frequencies.values(), align='edge', width=0.05)\n",
        "\n",
        "# Put count on top of the bars\n",
        "for i in range(len(bins)):\n",
        "    plt.text(bins[i], frequencies[bins[i]], str(frequencies[bins[i]]), ha='center', va='bottom')\n",
        "plt.xticks(bins)\n",
        "\n",
        "plt.title(f'Frequency of tumour percentage in each batch for stack-size={NO_STACKED_IMGS}')\n",
        "plt.xlabel('Percentage of tumour volume in batch (>=)')\n",
        "# plt.x\n",
        "plt.ylabel('Frequency')\n",
        "\n",
        "#Tight layout\n",
        "plt.tight_layout()\n",
        "# plt.gca().set_xscale(\"log\")\n",
        "plt.show()"
      ]
    },
    {
      "cell_type": "code",
      "execution_count": 157,
      "metadata": {},
      "outputs": [],
      "source": [
        "def hyperparam_tuning_no_stacks(crt_loader, finetune_zero_batches = False, finetune_tumour_percentage = False):\n",
        "    '''\n",
        "    Iterates over a range of stack sizes and computes:\n",
        "    - The number of batches with 0% tumour if finetune_zero_batches is True\n",
        "        In this set-up, it will stop when the number of batches with 0% tumour starts increasing\n",
        "        We want to minimize the number of batches with 0% tumour, because it poissons the training\n",
        "\n",
        "    - The average percentage volume of tumour in each batch if finetune_tumour_percentage is True\n",
        "        Once preprocessing is done on the dataset, we want a stack size that has a good distribution of tumour percentages\n",
        "        We keep track of the total number of batches for each stack size, as it is easier to have a higher percentage of tumour in a smaller batch\n",
        "        We want to maximize the average percentage of tumour in each batch, taking into account the total number of batches\n",
        "    '''\n",
        "\n",
        "    max_stack = 64\n",
        "    NO_STACKED_IMGS_RANGE = range(3, max_stack+1)\n",
        "\n",
        "    no_zero_batches, tumour_percentage = [], []\n",
        "\n",
        "    for crt_no_stacks in NO_STACKED_IMGS_RANGE:\n",
        "        print(f'Running for stack size: {crt_no_stacks}/{max_stack}')\n",
        "\n",
        "        zero_batches = 0\n",
        "        total_batches = 0\n",
        "        tumour_percentage_in_batch = []\n",
        "\n",
        "        for patient_batch in tqdm(crt_loader):\n",
        "            patient_label = patient_batch['label'][0].numpy()\n",
        "\n",
        "            for i in range(0, patient_label.shape[-1], crt_no_stacks):\n",
        "                crt_label = patient_label[:, :, i:i+crt_no_stacks]\n",
        "\n",
        "                if finetune_zero_batches:\n",
        "                    zero_batches += (np.sum(crt_label) == 0)\n",
        "\n",
        "                if finetune_tumour_percentage:\n",
        "                    tumour_percentage_in_batch.append(100*np.sum(crt_label) / np.prod(crt_label.shape))\n",
        "    \n",
        "                total_batches += 1\n",
        "\n",
        "        tumour_percentage_in_batch = np.mean(tumour_percentage_in_batch)\n",
        "        if finetune_tumour_percentage:\n",
        "            tumour_percentage.append((crt_no_stacks, tumour_percentage_in_batch, total_batches))\n",
        "\n",
        "        # if len(no_zero_batches) !=0:\n",
        "        #     # Daca am pentru un numar de stackuri mai multe batchuri cu 0% tumour decat pentru numarul anterior, atunci ma opresc pentru ca deja baga prea multe 0-uri\n",
        "        #     if zero_batches > no_zero_batches[-1] + 50:\n",
        "        #         no_zero_batches.append(zero_batches)\n",
        "        #     else:\n",
        "        #         no_zero_batches.append(no_zero_batches[-1])\n",
        "\n",
        "        if finetune_tumour_percentage:\n",
        "            no_zero_batches.append((crt_no_stacks, zero_batches, total_batches))\n",
        "\n",
        "\n",
        "    return no_zero_batches, tumour_percentage"
      ]
    },
    {
      "cell_type": "code",
      "execution_count": 74,
      "metadata": {},
      "outputs": [
        {
          "name": "stdout",
          "output_type": "stream",
          "text": [
            "Running for stack size: 3/64\n"
          ]
        },
        {
          "name": "stderr",
          "output_type": "stream",
          "text": [
            "100%|██████████| 51/51 [00:02<00:00, 24.97it/s]\n"
          ]
        },
        {
          "name": "stdout",
          "output_type": "stream",
          "text": [
            "Running for stack size: 4/64\n"
          ]
        },
        {
          "name": "stderr",
          "output_type": "stream",
          "text": [
            "100%|██████████| 51/51 [00:01<00:00, 30.76it/s]\n"
          ]
        },
        {
          "name": "stdout",
          "output_type": "stream",
          "text": [
            "Running for stack size: 5/64\n"
          ]
        },
        {
          "name": "stderr",
          "output_type": "stream",
          "text": [
            "100%|██████████| 51/51 [00:01<00:00, 33.95it/s]\n"
          ]
        },
        {
          "name": "stdout",
          "output_type": "stream",
          "text": [
            "Running for stack size: 6/64\n"
          ]
        },
        {
          "name": "stderr",
          "output_type": "stream",
          "text": [
            "100%|██████████| 51/51 [00:01<00:00, 38.59it/s]\n"
          ]
        },
        {
          "name": "stdout",
          "output_type": "stream",
          "text": [
            "Running for stack size: 7/64\n"
          ]
        },
        {
          "name": "stderr",
          "output_type": "stream",
          "text": [
            "100%|██████████| 51/51 [00:01<00:00, 42.09it/s]\n"
          ]
        },
        {
          "name": "stdout",
          "output_type": "stream",
          "text": [
            "Running for stack size: 8/64\n"
          ]
        },
        {
          "name": "stderr",
          "output_type": "stream",
          "text": [
            "100%|██████████| 51/51 [00:01<00:00, 43.17it/s]\n"
          ]
        },
        {
          "name": "stdout",
          "output_type": "stream",
          "text": [
            "Running for stack size: 9/64\n"
          ]
        },
        {
          "name": "stderr",
          "output_type": "stream",
          "text": [
            "100%|██████████| 51/51 [00:01<00:00, 45.50it/s]\n"
          ]
        },
        {
          "name": "stdout",
          "output_type": "stream",
          "text": [
            "Running for stack size: 10/64\n"
          ]
        },
        {
          "name": "stderr",
          "output_type": "stream",
          "text": [
            "100%|██████████| 51/51 [00:01<00:00, 47.54it/s]\n"
          ]
        },
        {
          "name": "stdout",
          "output_type": "stream",
          "text": [
            "Running for stack size: 11/64\n"
          ]
        },
        {
          "name": "stderr",
          "output_type": "stream",
          "text": [
            "100%|██████████| 51/51 [00:01<00:00, 48.55it/s]\n"
          ]
        },
        {
          "name": "stdout",
          "output_type": "stream",
          "text": [
            "Running for stack size: 12/64\n"
          ]
        },
        {
          "name": "stderr",
          "output_type": "stream",
          "text": [
            "100%|██████████| 51/51 [00:00<00:00, 51.47it/s]\n"
          ]
        },
        {
          "name": "stdout",
          "output_type": "stream",
          "text": [
            "Running for stack size: 13/64\n"
          ]
        },
        {
          "name": "stderr",
          "output_type": "stream",
          "text": [
            "100%|██████████| 51/51 [00:00<00:00, 55.20it/s]\n"
          ]
        },
        {
          "name": "stdout",
          "output_type": "stream",
          "text": [
            "Running for stack size: 14/64\n"
          ]
        },
        {
          "name": "stderr",
          "output_type": "stream",
          "text": [
            "100%|██████████| 51/51 [00:00<00:00, 57.47it/s]\n"
          ]
        },
        {
          "name": "stdout",
          "output_type": "stream",
          "text": [
            "Running for stack size: 15/64\n"
          ]
        },
        {
          "name": "stderr",
          "output_type": "stream",
          "text": [
            "100%|██████████| 51/51 [00:00<00:00, 60.77it/s]\n"
          ]
        },
        {
          "name": "stdout",
          "output_type": "stream",
          "text": [
            "Running for stack size: 16/64\n"
          ]
        },
        {
          "name": "stderr",
          "output_type": "stream",
          "text": [
            "100%|██████████| 51/51 [00:00<00:00, 57.05it/s]\n"
          ]
        },
        {
          "name": "stdout",
          "output_type": "stream",
          "text": [
            "Running for stack size: 17/64\n"
          ]
        },
        {
          "name": "stderr",
          "output_type": "stream",
          "text": [
            "100%|██████████| 51/51 [00:00<00:00, 58.65it/s]\n"
          ]
        },
        {
          "name": "stdout",
          "output_type": "stream",
          "text": [
            "Running for stack size: 18/64\n"
          ]
        },
        {
          "name": "stderr",
          "output_type": "stream",
          "text": [
            "100%|██████████| 51/51 [00:00<00:00, 60.75it/s]\n"
          ]
        },
        {
          "name": "stdout",
          "output_type": "stream",
          "text": [
            "Running for stack size: 19/64\n"
          ]
        },
        {
          "name": "stderr",
          "output_type": "stream",
          "text": [
            "100%|██████████| 51/51 [00:00<00:00, 60.90it/s]\n"
          ]
        },
        {
          "name": "stdout",
          "output_type": "stream",
          "text": [
            "Running for stack size: 20/64\n"
          ]
        },
        {
          "name": "stderr",
          "output_type": "stream",
          "text": [
            "100%|██████████| 51/51 [00:00<00:00, 66.57it/s]\n"
          ]
        },
        {
          "name": "stdout",
          "output_type": "stream",
          "text": [
            "Running for stack size: 21/64\n"
          ]
        },
        {
          "name": "stderr",
          "output_type": "stream",
          "text": [
            "100%|██████████| 51/51 [00:00<00:00, 66.08it/s]\n"
          ]
        },
        {
          "name": "stdout",
          "output_type": "stream",
          "text": [
            "Running for stack size: 22/64\n"
          ]
        },
        {
          "name": "stderr",
          "output_type": "stream",
          "text": [
            "100%|██████████| 51/51 [00:00<00:00, 65.45it/s]\n"
          ]
        },
        {
          "name": "stdout",
          "output_type": "stream",
          "text": [
            "Running for stack size: 23/64\n"
          ]
        },
        {
          "name": "stderr",
          "output_type": "stream",
          "text": [
            "100%|██████████| 51/51 [00:00<00:00, 64.86it/s]\n"
          ]
        },
        {
          "name": "stdout",
          "output_type": "stream",
          "text": [
            "Running for stack size: 24/64\n"
          ]
        },
        {
          "name": "stderr",
          "output_type": "stream",
          "text": [
            "100%|██████████| 51/51 [00:00<00:00, 69.84it/s]\n"
          ]
        },
        {
          "name": "stdout",
          "output_type": "stream",
          "text": [
            "Running for stack size: 25/64\n"
          ]
        },
        {
          "name": "stderr",
          "output_type": "stream",
          "text": [
            "100%|██████████| 51/51 [00:00<00:00, 67.17it/s]\n"
          ]
        },
        {
          "name": "stdout",
          "output_type": "stream",
          "text": [
            "Running for stack size: 26/64\n"
          ]
        },
        {
          "name": "stderr",
          "output_type": "stream",
          "text": [
            "100%|██████████| 51/51 [00:00<00:00, 70.27it/s]\n"
          ]
        },
        {
          "name": "stdout",
          "output_type": "stream",
          "text": [
            "Running for stack size: 27/64\n"
          ]
        },
        {
          "name": "stderr",
          "output_type": "stream",
          "text": [
            "100%|██████████| 51/51 [00:00<00:00, 71.00it/s]\n"
          ]
        },
        {
          "name": "stdout",
          "output_type": "stream",
          "text": [
            "Running for stack size: 28/64\n"
          ]
        },
        {
          "name": "stderr",
          "output_type": "stream",
          "text": [
            "100%|██████████| 51/51 [00:00<00:00, 72.02it/s]\n"
          ]
        },
        {
          "name": "stdout",
          "output_type": "stream",
          "text": [
            "Running for stack size: 29/64\n"
          ]
        },
        {
          "name": "stderr",
          "output_type": "stream",
          "text": [
            "100%|██████████| 51/51 [00:00<00:00, 68.84it/s]\n"
          ]
        },
        {
          "name": "stdout",
          "output_type": "stream",
          "text": [
            "Running for stack size: 30/64\n"
          ]
        },
        {
          "name": "stderr",
          "output_type": "stream",
          "text": [
            "100%|██████████| 51/51 [00:00<00:00, 69.42it/s]\n"
          ]
        },
        {
          "name": "stdout",
          "output_type": "stream",
          "text": [
            "Running for stack size: 31/64\n"
          ]
        },
        {
          "name": "stderr",
          "output_type": "stream",
          "text": [
            "100%|██████████| 51/51 [00:00<00:00, 71.13it/s]\n"
          ]
        },
        {
          "name": "stdout",
          "output_type": "stream",
          "text": [
            "Running for stack size: 32/64\n"
          ]
        },
        {
          "name": "stderr",
          "output_type": "stream",
          "text": [
            "100%|██████████| 51/51 [00:00<00:00, 73.50it/s]\n"
          ]
        },
        {
          "name": "stdout",
          "output_type": "stream",
          "text": [
            "Running for stack size: 33/64\n"
          ]
        },
        {
          "name": "stderr",
          "output_type": "stream",
          "text": [
            "100%|██████████| 51/51 [00:00<00:00, 73.96it/s]\n"
          ]
        },
        {
          "name": "stdout",
          "output_type": "stream",
          "text": [
            "Running for stack size: 34/64\n"
          ]
        },
        {
          "name": "stderr",
          "output_type": "stream",
          "text": [
            "100%|██████████| 51/51 [00:00<00:00, 75.85it/s]\n"
          ]
        },
        {
          "name": "stdout",
          "output_type": "stream",
          "text": [
            "Running for stack size: 35/64\n"
          ]
        },
        {
          "name": "stderr",
          "output_type": "stream",
          "text": [
            "100%|██████████| 51/51 [00:00<00:00, 77.65it/s]\n"
          ]
        },
        {
          "name": "stdout",
          "output_type": "stream",
          "text": [
            "Running for stack size: 36/64\n"
          ]
        },
        {
          "name": "stderr",
          "output_type": "stream",
          "text": [
            "100%|██████████| 51/51 [00:00<00:00, 79.81it/s]\n"
          ]
        },
        {
          "name": "stdout",
          "output_type": "stream",
          "text": [
            "Running for stack size: 37/64\n"
          ]
        },
        {
          "name": "stderr",
          "output_type": "stream",
          "text": [
            "100%|██████████| 51/51 [00:00<00:00, 76.19it/s]\n"
          ]
        },
        {
          "name": "stdout",
          "output_type": "stream",
          "text": [
            "Running for stack size: 38/64\n"
          ]
        },
        {
          "name": "stderr",
          "output_type": "stream",
          "text": [
            "100%|██████████| 51/51 [00:00<00:00, 81.38it/s]\n"
          ]
        },
        {
          "name": "stdout",
          "output_type": "stream",
          "text": [
            "Running for stack size: 39/64\n"
          ]
        },
        {
          "name": "stderr",
          "output_type": "stream",
          "text": [
            "100%|██████████| 51/51 [00:00<00:00, 81.40it/s]\n"
          ]
        },
        {
          "name": "stdout",
          "output_type": "stream",
          "text": [
            "Running for stack size: 40/64\n"
          ]
        },
        {
          "name": "stderr",
          "output_type": "stream",
          "text": [
            "100%|██████████| 51/51 [00:00<00:00, 83.21it/s]\n"
          ]
        },
        {
          "name": "stdout",
          "output_type": "stream",
          "text": [
            "Running for stack size: 41/64\n"
          ]
        },
        {
          "name": "stderr",
          "output_type": "stream",
          "text": [
            "100%|██████████| 51/51 [00:00<00:00, 86.90it/s]\n"
          ]
        },
        {
          "name": "stdout",
          "output_type": "stream",
          "text": [
            "Running for stack size: 42/64\n"
          ]
        },
        {
          "name": "stderr",
          "output_type": "stream",
          "text": [
            "100%|██████████| 51/51 [00:00<00:00, 85.45it/s]\n"
          ]
        },
        {
          "name": "stdout",
          "output_type": "stream",
          "text": [
            "Running for stack size: 43/64\n"
          ]
        },
        {
          "name": "stderr",
          "output_type": "stream",
          "text": [
            "100%|██████████| 51/51 [00:00<00:00, 83.22it/s]\n"
          ]
        },
        {
          "name": "stdout",
          "output_type": "stream",
          "text": [
            "Running for stack size: 44/64\n"
          ]
        },
        {
          "name": "stderr",
          "output_type": "stream",
          "text": [
            "100%|██████████| 51/51 [00:00<00:00, 84.43it/s]\n"
          ]
        },
        {
          "name": "stdout",
          "output_type": "stream",
          "text": [
            "Running for stack size: 45/64\n"
          ]
        },
        {
          "name": "stderr",
          "output_type": "stream",
          "text": [
            "100%|██████████| 51/51 [00:00<00:00, 84.38it/s]\n"
          ]
        },
        {
          "name": "stdout",
          "output_type": "stream",
          "text": [
            "Running for stack size: 46/64\n"
          ]
        },
        {
          "name": "stderr",
          "output_type": "stream",
          "text": [
            "100%|██████████| 51/51 [00:00<00:00, 87.38it/s]\n"
          ]
        },
        {
          "name": "stdout",
          "output_type": "stream",
          "text": [
            "Running for stack size: 47/64\n"
          ]
        },
        {
          "name": "stderr",
          "output_type": "stream",
          "text": [
            "100%|██████████| 51/51 [00:00<00:00, 86.68it/s] \n"
          ]
        },
        {
          "name": "stdout",
          "output_type": "stream",
          "text": [
            "Running for stack size: 48/64\n"
          ]
        },
        {
          "name": "stderr",
          "output_type": "stream",
          "text": [
            "100%|██████████| 51/51 [00:00<00:00, 85.23it/s]\n"
          ]
        },
        {
          "name": "stdout",
          "output_type": "stream",
          "text": [
            "Running for stack size: 49/64\n"
          ]
        },
        {
          "name": "stderr",
          "output_type": "stream",
          "text": [
            "100%|██████████| 51/51 [00:00<00:00, 83.96it/s]\n"
          ]
        },
        {
          "name": "stdout",
          "output_type": "stream",
          "text": [
            "Running for stack size: 50/64\n"
          ]
        },
        {
          "name": "stderr",
          "output_type": "stream",
          "text": [
            "100%|██████████| 51/51 [00:00<00:00, 87.57it/s]\n"
          ]
        },
        {
          "name": "stdout",
          "output_type": "stream",
          "text": [
            "Running for stack size: 51/64\n"
          ]
        },
        {
          "name": "stderr",
          "output_type": "stream",
          "text": [
            "100%|██████████| 51/51 [00:00<00:00, 85.96it/s] \n"
          ]
        },
        {
          "name": "stdout",
          "output_type": "stream",
          "text": [
            "Running for stack size: 52/64\n"
          ]
        },
        {
          "name": "stderr",
          "output_type": "stream",
          "text": [
            "100%|██████████| 51/51 [00:00<00:00, 86.63it/s]\n"
          ]
        },
        {
          "name": "stdout",
          "output_type": "stream",
          "text": [
            "Running for stack size: 53/64\n"
          ]
        },
        {
          "name": "stderr",
          "output_type": "stream",
          "text": [
            "100%|██████████| 51/51 [00:00<00:00, 81.28it/s]\n"
          ]
        },
        {
          "name": "stdout",
          "output_type": "stream",
          "text": [
            "Running for stack size: 54/64\n"
          ]
        },
        {
          "name": "stderr",
          "output_type": "stream",
          "text": [
            "100%|██████████| 51/51 [00:00<00:00, 82.98it/s]\n"
          ]
        },
        {
          "name": "stdout",
          "output_type": "stream",
          "text": [
            "Running for stack size: 55/64\n"
          ]
        },
        {
          "name": "stderr",
          "output_type": "stream",
          "text": [
            "100%|██████████| 51/51 [00:00<00:00, 85.01it/s]\n"
          ]
        },
        {
          "name": "stdout",
          "output_type": "stream",
          "text": [
            "Running for stack size: 56/64\n"
          ]
        },
        {
          "name": "stderr",
          "output_type": "stream",
          "text": [
            "100%|██████████| 51/51 [00:00<00:00, 81.07it/s]\n"
          ]
        },
        {
          "name": "stdout",
          "output_type": "stream",
          "text": [
            "Running for stack size: 57/64\n"
          ]
        },
        {
          "name": "stderr",
          "output_type": "stream",
          "text": [
            "100%|██████████| 51/51 [00:00<00:00, 85.84it/s]\n"
          ]
        },
        {
          "name": "stdout",
          "output_type": "stream",
          "text": [
            "Running for stack size: 58/64\n"
          ]
        },
        {
          "name": "stderr",
          "output_type": "stream",
          "text": [
            "100%|██████████| 51/51 [00:00<00:00, 77.56it/s]\n"
          ]
        },
        {
          "name": "stdout",
          "output_type": "stream",
          "text": [
            "Running for stack size: 59/64\n"
          ]
        },
        {
          "name": "stderr",
          "output_type": "stream",
          "text": [
            "100%|██████████| 51/51 [00:00<00:00, 86.33it/s]\n"
          ]
        },
        {
          "name": "stdout",
          "output_type": "stream",
          "text": [
            "Running for stack size: 60/64\n"
          ]
        },
        {
          "name": "stderr",
          "output_type": "stream",
          "text": [
            "100%|██████████| 51/51 [00:00<00:00, 89.35it/s] \n"
          ]
        },
        {
          "name": "stdout",
          "output_type": "stream",
          "text": [
            "Running for stack size: 61/64\n"
          ]
        },
        {
          "name": "stderr",
          "output_type": "stream",
          "text": [
            "100%|██████████| 51/51 [00:00<00:00, 86.94it/s] \n"
          ]
        },
        {
          "name": "stdout",
          "output_type": "stream",
          "text": [
            "Running for stack size: 62/64\n"
          ]
        },
        {
          "name": "stderr",
          "output_type": "stream",
          "text": [
            "100%|██████████| 51/51 [00:00<00:00, 88.84it/s] \n"
          ]
        },
        {
          "name": "stdout",
          "output_type": "stream",
          "text": [
            "Running for stack size: 63/64\n"
          ]
        },
        {
          "name": "stderr",
          "output_type": "stream",
          "text": [
            "100%|██████████| 51/51 [00:00<00:00, 85.30it/s] \n"
          ]
        },
        {
          "name": "stdout",
          "output_type": "stream",
          "text": [
            "Running for stack size: 64/64\n"
          ]
        },
        {
          "name": "stderr",
          "output_type": "stream",
          "text": [
            "100%|██████████| 51/51 [00:00<00:00, 83.10it/s]\n"
          ]
        }
      ],
      "source": [
        "no_zero_batches, tumour_percentage = hyperparam_tuning_no_stacks(train_loader, finetune_zero_batches=False, finetune_tumour_percentage=True)"
      ]
    },
    {
      "cell_type": "code",
      "execution_count": 75,
      "metadata": {},
      "outputs": [
        {
          "data": {
            "text/plain": [
              "[(3, 0, 474),\n",
              " (4, 0, 364),\n",
              " (5, 0, 293),\n",
              " (6, 0, 252),\n",
              " (7, 0, 212),\n",
              " (8, 0, 195),\n",
              " (9, 0, 175),\n",
              " (10, 0, 161),\n",
              " (11, 0, 147),\n",
              " (12, 0, 138),\n",
              " (13, 0, 131),\n",
              " (14, 0, 116),\n",
              " (15, 0, 110),\n",
              " (16, 0, 106),\n",
              " (17, 0, 104),\n",
              " (18, 0, 98),\n",
              " (19, 0, 94),\n",
              " (20, 0, 90),\n",
              " (21, 0, 85),\n",
              " (22, 0, 84),\n",
              " (23, 0, 83),\n",
              " (24, 0, 81),\n",
              " (25, 0, 79),\n",
              " (26, 0, 78),\n",
              " (27, 0, 76),\n",
              " (28, 0, 74),\n",
              " (29, 0, 73),\n",
              " (30, 0, 72),\n",
              " (31, 0, 71),\n",
              " (32, 0, 70),\n",
              " (33, 0, 70),\n",
              " (34, 0, 70),\n",
              " (35, 0, 65),\n",
              " (36, 0, 64),\n",
              " (37, 0, 63),\n",
              " (38, 0, 63),\n",
              " (39, 0, 63),\n",
              " (40, 0, 61),\n",
              " (41, 0, 60),\n",
              " (42, 0, 59),\n",
              " (43, 0, 59),\n",
              " (44, 0, 58),\n",
              " (45, 0, 58),\n",
              " (46, 0, 58),\n",
              " (47, 0, 58),\n",
              " (48, 0, 58),\n",
              " (49, 0, 58),\n",
              " (50, 0, 58),\n",
              " (51, 0, 58),\n",
              " (52, 0, 58),\n",
              " (53, 0, 58),\n",
              " (54, 0, 58),\n",
              " (55, 0, 57),\n",
              " (56, 0, 57),\n",
              " (57, 0, 57),\n",
              " (58, 0, 57),\n",
              " (59, 0, 57),\n",
              " (60, 0, 56),\n",
              " (61, 0, 56),\n",
              " (62, 0, 56),\n",
              " (63, 0, 56),\n",
              " (64, 0, 56)]"
            ]
          },
          "execution_count": 75,
          "metadata": {},
          "output_type": "execute_result"
        }
      ],
      "source": [
        "no_zero_batches"
      ]
    },
    {
      "cell_type": "code",
      "execution_count": 76,
      "metadata": {},
      "outputs": [
        {
          "data": {
            "text/plain": [
              "[(3, 0.4124845298198373, 474),\n",
              " (4, 0.4046956261435708, 364),\n",
              " (5, 0.40269146464654887, 293),\n",
              " (6, 0.39292973816079435, 252),\n",
              " (7, 0.39891403640376905, 212),\n",
              " (8, 0.3841048765822936, 195),\n",
              " (9, 0.3821015814264345, 175),\n",
              " (10, 0.37694435811637483, 161),\n",
              " (11, 0.3778963554915485, 147),\n",
              " (12, 0.37128222817112366, 138),\n",
              " (13, 0.3637288388864529, 131),\n",
              " (14, 0.3767440528048609, 116),\n",
              " (15, 0.3742708100838468, 110),\n",
              " (16, 0.36868766551864357, 106),\n",
              " (17, 0.3569438795615966, 104),\n",
              " (18, 0.35766990356624884, 98),\n",
              " (19, 0.3572800282781391, 94),\n",
              " (20, 0.3576171996835005, 90),\n",
              " (21, 0.36491224918045945, 85),\n",
              " (22, 0.3569200195610781, 84),\n",
              " (23, 0.34725589074501517, 83),\n",
              " (24, 0.3448871762538468, 81),\n",
              " (25, 0.34064394984783314, 79),\n",
              " (26, 0.3350451218694093, 78),\n",
              " (27, 0.33304750457849347, 76),\n",
              " (28, 0.33431132581079154, 74),\n",
              " (29, 0.33208903100220155, 73),\n",
              " (30, 0.3270903116427179, 72),\n",
              " (31, 0.3244181945499723, 71),\n",
              " (32, 0.3214164291076209, 70),\n",
              " (33, 0.3137235451959783, 70),\n",
              " (34, 0.305056455352291, 70),\n",
              " (35, 0.3178768770049618, 65),\n",
              " (36, 0.3172948125354291, 64),\n",
              " (37, 0.31557822060558516, 63),\n",
              " (38, 0.31168411461722456, 63),\n",
              " (39, 0.3082959774818753, 63),\n",
              " (40, 0.3141688659833098, 61),\n",
              " (41, 0.31744642835257064, 60),\n",
              " (42, 0.32060330310306, 59),\n",
              " (43, 0.31904906478163964, 59),\n",
              " (44, 0.3225548117111316, 58),\n",
              " (45, 0.32072315376221394, 58),\n",
              " (46, 0.3187803130100511, 58),\n",
              " (47, 0.3166814224150149, 58),\n",
              " (48, 0.3143674758447151, 58),\n",
              " (49, 0.3118275882675071, 58),\n",
              " (50, 0.3092973277313179, 58),\n",
              " (51, 0.3065833860549763, 58),\n",
              " (52, 0.3038493382893913, 58),\n",
              " (53, 0.30036457934056865, 58),\n",
              " (54, 0.2959619324240284, 58),\n",
              " (55, 0.29716298711143313, 57),\n",
              " (56, 0.2945556935665526, 57),\n",
              " (57, 0.2919684035247732, 57),\n",
              " (58, 0.2890629836525696, 57),\n",
              " (59, 0.2856074930930978, 57),\n",
              " (60, 0.28504970972372623, 56),\n",
              " (61, 0.2822773863433747, 56),\n",
              " (62, 0.2793236267534966, 56),\n",
              " (63, 0.27638842557057075, 56),\n",
              " (64, 0.2731894513812666, 56)]"
            ]
          },
          "execution_count": 76,
          "metadata": {},
          "output_type": "execute_result"
        }
      ],
      "source": [
        "tumour_percentage"
      ]
    },
    {
      "cell_type": "code",
      "execution_count": 77,
      "metadata": {},
      "outputs": [],
      "source": [
        "def plot_hyperparam_tuning(crt_evaluation_metric, title_txt, xlabel_txt, ylabel_txt):\n",
        "    '''\n",
        "    For the evolution of stack_size on x-axis, it plots the evolution of the evaluation metric on the y-axis\n",
        "    '''\n",
        "\n",
        "    analysis_range = [elem[0] for elem in crt_evaluation_metric]\n",
        "    mean_percentages = [100*elem[1]/elem[2] for elem in crt_evaluation_metric]\n",
        "\n",
        "    plt.figure(figsize=(30, 5))\n",
        "    plt.plot(analysis_range, mean_percentages)\n",
        "    plt.title(title_txt)\n",
        "    plt.xlabel(xlabel_txt)\n",
        "    plt.ylabel(ylabel_txt)\n",
        "    plt.xticks(analysis_range)\n",
        "    plt.show()"
      ]
    },
    {
      "cell_type": "code",
      "execution_count": 78,
      "metadata": {},
      "outputs": [
        {
          "data": {
            "image/png": "[encoded data removed]",
            "text/plain": [
              "<Figure size 3000x500 with 1 Axes>"
            ]
          },
          "metadata": {},
          "output_type": "display_data"
        }
      ],
      "source": [
        "plot_hyperparam_tuning(no_zero_batches, 'Percentage of batches with 0% tumour for different stack sizes', 'Stack size', 'Percentage of batches with 0% tumour')"
      ]
    },
    {
      "cell_type": "code",
      "execution_count": 79,
      "metadata": {},
      "outputs": [
        {
          "data": {
            "image/png": "[encoded data removed]",
            "text/plain": [
              "<Figure size 3000x500 with 1 Axes>"
            ]
          },
          "metadata": {},
          "output_type": "display_data"
        }
      ],
      "source": [
        "plot_hyperparam_tuning(tumour_percentage, 'Mean percentage of tumour in batches for different stack sizes', 'Stack size', 'Mean percentage of tumour in batches')"
      ]
    },
    {
      "cell_type": "code",
      "execution_count": 66,
      "metadata": {},
      "outputs": [
        {
          "data": {
            "text/html": [
              "<div>\n",
              "<style scoped>\n",
              "    .dataframe tbody tr th:only-of-type {\n",
              "        vertical-align: middle;\n",
              "    }\n",
              "\n",
              "    .dataframe tbody tr th {\n",
              "        vertical-align: top;\n",
              "    }\n",
              "\n",
              "    .dataframe thead th {\n",
              "        text-align: right;\n",
              "    }\n",
              "</style>\n",
              "<table border=\"1\" class=\"dataframe\">\n",
              "  <thead>\n",
              "    <tr style=\"text-align: right;\">\n",
              "      <th></th>\n",
              "      <th>Stack size</th>\n",
              "      <th>Mean percentage of tumour in batches</th>\n",
              "      <th>Total batches</th>\n",
              "    </tr>\n",
              "  </thead>\n",
              "  <tbody>\n",
              "    <tr>\n",
              "      <th>0</th>\n",
              "      <td>3</td>\n",
              "      <td>0.412485</td>\n",
              "      <td>474</td>\n",
              "    </tr>\n",
              "    <tr>\n",
              "      <th>1</th>\n",
              "      <td>4</td>\n",
              "      <td>0.404696</td>\n",
              "      <td>364</td>\n",
              "    </tr>\n",
              "    <tr>\n",
              "      <th>2</th>\n",
              "      <td>5</td>\n",
              "      <td>0.402691</td>\n",
              "      <td>293</td>\n",
              "    </tr>\n",
              "    <tr>\n",
              "      <th>3</th>\n",
              "      <td>6</td>\n",
              "      <td>0.392930</td>\n",
              "      <td>252</td>\n",
              "    </tr>\n",
              "    <tr>\n",
              "      <th>4</th>\n",
              "      <td>7</td>\n",
              "      <td>0.398914</td>\n",
              "      <td>212</td>\n",
              "    </tr>\n",
              "    <tr>\n",
              "      <th>5</th>\n",
              "      <td>8</td>\n",
              "      <td>0.384105</td>\n",
              "      <td>195</td>\n",
              "    </tr>\n",
              "    <tr>\n",
              "      <th>6</th>\n",
              "      <td>9</td>\n",
              "      <td>0.382102</td>\n",
              "      <td>175</td>\n",
              "    </tr>\n",
              "    <tr>\n",
              "      <th>7</th>\n",
              "      <td>10</td>\n",
              "      <td>0.376944</td>\n",
              "      <td>161</td>\n",
              "    </tr>\n",
              "    <tr>\n",
              "      <th>8</th>\n",
              "      <td>11</td>\n",
              "      <td>0.377896</td>\n",
              "      <td>147</td>\n",
              "    </tr>\n",
              "    <tr>\n",
              "      <th>9</th>\n",
              "      <td>12</td>\n",
              "      <td>0.371282</td>\n",
              "      <td>138</td>\n",
              "    </tr>\n",
              "    <tr>\n",
              "      <th>10</th>\n",
              "      <td>13</td>\n",
              "      <td>0.363729</td>\n",
              "      <td>131</td>\n",
              "    </tr>\n",
              "    <tr>\n",
              "      <th>11</th>\n",
              "      <td>14</td>\n",
              "      <td>0.376744</td>\n",
              "      <td>116</td>\n",
              "    </tr>\n",
              "    <tr>\n",
              "      <th>12</th>\n",
              "      <td>15</td>\n",
              "      <td>0.374271</td>\n",
              "      <td>110</td>\n",
              "    </tr>\n",
              "    <tr>\n",
              "      <th>13</th>\n",
              "      <td>16</td>\n",
              "      <td>0.368688</td>\n",
              "      <td>106</td>\n",
              "    </tr>\n",
              "    <tr>\n",
              "      <th>14</th>\n",
              "      <td>17</td>\n",
              "      <td>0.356944</td>\n",
              "      <td>104</td>\n",
              "    </tr>\n",
              "    <tr>\n",
              "      <th>15</th>\n",
              "      <td>18</td>\n",
              "      <td>0.357670</td>\n",
              "      <td>98</td>\n",
              "    </tr>\n",
              "    <tr>\n",
              "      <th>16</th>\n",
              "      <td>19</td>\n",
              "      <td>0.357280</td>\n",
              "      <td>94</td>\n",
              "    </tr>\n",
              "    <tr>\n",
              "      <th>17</th>\n",
              "      <td>20</td>\n",
              "      <td>0.357617</td>\n",
              "      <td>90</td>\n",
              "    </tr>\n",
              "    <tr>\n",
              "      <th>18</th>\n",
              "      <td>21</td>\n",
              "      <td>0.364912</td>\n",
              "      <td>85</td>\n",
              "    </tr>\n",
              "    <tr>\n",
              "      <th>19</th>\n",
              "      <td>22</td>\n",
              "      <td>0.356920</td>\n",
              "      <td>84</td>\n",
              "    </tr>\n",
              "    <tr>\n",
              "      <th>20</th>\n",
              "      <td>23</td>\n",
              "      <td>0.347256</td>\n",
              "      <td>83</td>\n",
              "    </tr>\n",
              "    <tr>\n",
              "      <th>21</th>\n",
              "      <td>24</td>\n",
              "      <td>0.344887</td>\n",
              "      <td>81</td>\n",
              "    </tr>\n",
              "    <tr>\n",
              "      <th>22</th>\n",
              "      <td>25</td>\n",
              "      <td>0.340644</td>\n",
              "      <td>79</td>\n",
              "    </tr>\n",
              "    <tr>\n",
              "      <th>23</th>\n",
              "      <td>26</td>\n",
              "      <td>0.335045</td>\n",
              "      <td>78</td>\n",
              "    </tr>\n",
              "    <tr>\n",
              "      <th>24</th>\n",
              "      <td>27</td>\n",
              "      <td>0.333048</td>\n",
              "      <td>76</td>\n",
              "    </tr>\n",
              "    <tr>\n",
              "      <th>25</th>\n",
              "      <td>28</td>\n",
              "      <td>0.334311</td>\n",
              "      <td>74</td>\n",
              "    </tr>\n",
              "    <tr>\n",
              "      <th>26</th>\n",
              "      <td>29</td>\n",
              "      <td>0.332089</td>\n",
              "      <td>73</td>\n",
              "    </tr>\n",
              "    <tr>\n",
              "      <th>27</th>\n",
              "      <td>30</td>\n",
              "      <td>0.327090</td>\n",
              "      <td>72</td>\n",
              "    </tr>\n",
              "  </tbody>\n",
              "</table>\n",
              "</div>"
            ],
            "text/plain": [
              "    Stack size  Mean percentage of tumour in batches  Total batches\n",
              "0            3                              0.412485            474\n",
              "1            4                              0.404696            364\n",
              "2            5                              0.402691            293\n",
              "3            6                              0.392930            252\n",
              "4            7                              0.398914            212\n",
              "5            8                              0.384105            195\n",
              "6            9                              0.382102            175\n",
              "7           10                              0.376944            161\n",
              "8           11                              0.377896            147\n",
              "9           12                              0.371282            138\n",
              "10          13                              0.363729            131\n",
              "11          14                              0.376744            116\n",
              "12          15                              0.374271            110\n",
              "13          16                              0.368688            106\n",
              "14          17                              0.356944            104\n",
              "15          18                              0.357670             98\n",
              "16          19                              0.357280             94\n",
              "17          20                              0.357617             90\n",
              "18          21                              0.364912             85\n",
              "19          22                              0.356920             84\n",
              "20          23                              0.347256             83\n",
              "21          24                              0.344887             81\n",
              "22          25                              0.340644             79\n",
              "23          26                              0.335045             78\n",
              "24          27                              0.333048             76\n",
              "25          28                              0.334311             74\n",
              "26          29                              0.332089             73\n",
              "27          30                              0.327090             72"
            ]
          },
          "execution_count": 66,
          "metadata": {},
          "output_type": "execute_result"
        }
      ],
      "source": [
        "# Create a pandas dataframe with the results\n",
        "# Saves the computational effort of running the notebook again\n",
        "# It is also easier to visualize the results in a table\n",
        "import pandas as pd\n",
        "\n",
        "df = pd.DataFrame(tumour_percentage, columns = ['Stack size', 'Mean percentage of tumour in batches', 'Total batches'])\n",
        "\n",
        "df"
      ]
    }
  ],
  "metadata": {
    "accelerator": "GPU",
    "colab": {
      "provenance": []
    },
    "gpuClass": "standard",
    "kernelspec": {
      "display_name": "Python 3 (ipykernel)",
      "language": "python",
      "name": "python3"
    },
    "language_info": {
      "codemirror_mode": {
        "name": "ipython",
        "version": 3
      },
      "file_extension": ".py",
      "mimetype": "text/x-python",
      "name": "python",
      "nbconvert_exporter": "python",
      "pygments_lexer": "ipython3",
      "version": "3.9.13"
    }
  },
  "nbformat": 4,
  "nbformat_minor": 0
}
