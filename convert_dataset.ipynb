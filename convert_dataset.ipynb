{
  "cells": [
    {
      "cell_type": "markdown",
      "metadata": {},
      "source": [
        "# Files tree\n",
        "\n",
        "```\n",
        "./datasets\n",
        "|\n",
        "+---------MedicalDecathlon\n",
        "|                   |\n",
        "|                   +-----training\n",
        "|                   |         |\n",
        "|                   |         |\n",
        "|                   |         +--- archives with the cts in nii.gz format\n",
        "|                   |\n",
        "|                   |\n",
        "|                   |\n",
        "|                   +-----validation\n",
        "|                             |\n",
        "|                             |\n",
        "|                             +--- archives with the cts in nii.gz format\n",
        "|\n",
        "|\n",
        "|\n",
        "+---------MedicalDecathlonTensors\n",
        "|                   |\n",
        "|                   +-----training\n",
        "|                   |         |\n",
        "|                   |         |\n",
        "|                   |         +--- files with the cts as tensors\n",
        "|                   |\n",
        "|                   |\n",
        "|                   |\n",
        "|                   +-----validation\n",
        "|                             |\n",
        "|                             |\n",
        "|                             +---  files with the cts as tensors\n",
        "|\n",
        "|\n",
        "|\n",
        "|\n",
        "+---------MedicalDecathlonJustLungs\n",
        "|                   |\n",
        "|                   +-----training\n",
        "|                   |         |\n",
        "|                   |         |\n",
        "|                   |         +--- files with the cts as tensors\n",
        "|                   |\n",
        "|                   |\n",
        "|                   |\n",
        "|                   +-----validation\n",
        "|                             |\n",
        "|                             |\n",
        "|                             +---  files with the cts as tensors\n",
        "|\n",
        "|\n",
        "|\n",
        "+---------MedicalDecathlonJustTumours\n",
        "                    |\n",
        "                    +-----training\n",
        "                    |         |\n",
        "                    |         |\n",
        "                    |         +--- files with the cts as tensors\n",
        "                    |\n",
        "                    |\n",
        "                    |\n",
        "                    +-----validation\n",
        "                              |\n",
        "                              |\n",
        "                              +---  files with the cts as tensors\n",
        "\n",
        "\n",
        "```\n"
      ]
    },
    {
      "cell_type": "markdown",
      "metadata": {},
      "source": [
        "### IMPORTS"
      ]
    },
    {
      "cell_type": "code",
      "execution_count": 14,
      "metadata": {},
      "outputs": [],
      "source": [
        "import os\n",
        "import warnings\n",
        "warnings.filterwarnings(\"ignore\") # remove some scikit-image warnings\n",
        "\n",
        "\n",
        "from monai.apps import DecathlonDataset\n",
        "from monai.data import DataLoader\n",
        "from monai.transforms import (\n",
        "    LoadImageD,\n",
        "    EnsureChannelFirstD,\n",
        "    Compose,\n",
        "    OrientationD,\n",
        "    OrientationD,\n",
        ")\n",
        "\n",
        "import torch\n",
        "import numpy as np\n",
        "import random\n",
        "import sys\n",
        "from tqdm import tqdm\n",
        "import pickle as pkl"
      ]
    },
    {
      "cell_type": "markdown",
      "metadata": {},
      "source": [
        "### HYPERPARAMS ###\n"
      ]
    },
    {
      "cell_type": "code",
      "execution_count": 15,
      "metadata": {},
      "outputs": [],
      "source": [
        "crt_dir = os.getcwd()\n",
        "datasets_path = f'{crt_dir}/datasets/MedicalDecathlon/'\n",
        "\n",
        "DOWNLOAD_FLAG = False\n",
        "BATCH_SIZE = 1\n",
        "\n",
        "KEYS = [\"image\", \"label\"]"
      ]
    },
    {
      "cell_type": "markdown",
      "metadata": {},
      "source": [
        "### PREPROCESSING TRANSFORMS"
      ]
    },
    {
      "cell_type": "code",
      "execution_count": 16,
      "metadata": {},
      "outputs": [],
      "source": [
        "base_transform = Compose([\n",
        "    LoadImageD(keys=KEYS),\n",
        "    EnsureChannelFirstD(keys=KEYS),\n",
        "    OrientationD(keys=KEYS, axcodes='RAS'),\n",
        "])"
      ]
    },
    {
      "cell_type": "markdown",
      "metadata": {},
      "source": [
        "### MAIN ###"
      ]
    },
    {
      "cell_type": "code",
      "execution_count": 17,
      "metadata": {},
      "outputs": [],
      "source": [
        "# We make sure to eliminate uncertainty in the data loading, by setting all the random seeds\n",
        "\n",
        "# Set random seeds\n",
        "torch.manual_seed(0)\n",
        "np.random.seed(0)\n",
        "random.seed(0)"
      ]
    },
    {
      "cell_type": "code",
      "execution_count": 18,
      "metadata": {},
      "outputs": [],
      "source": [
        "# Memoize stacks in between, where we find the lungs\n",
        "# Based on the radiologist, some CTs start from kidney area up to the cervical backbone\n",
        "patient_useful_slices = {\n",
        "    0 : {'start': 60, 'stop': 557},\n",
        "    1 : {'start': 20 , 'stop': 243},\n",
        "    2 : {'start': 0, 'stop': 213},\n",
        "    3 : {'start': 48, 'stop': 437},\n",
        "    4 : {'start': 52, 'stop': 258},\n",
        "    5 : {'start': 59, 'stop': 244},\n",
        "    6 : {'start': 9, 'stop': 122},\n",
        "    7 : {'start': 44, 'stop': 260},\n",
        "    8 : {'start': 3, 'stop': 237},\n",
        "    9 : {'start': 330 , 'stop': 623},\n",
        "    10 : {'start': 56, 'stop': 280},\n",
        "    11 : {'start': 26, 'stop': 292},\n",
        "    12 : {'start': 0, 'stop': 108},\n",
        "    13 : {'start': 10, 'stop': 227},\n",
        "    14 : {'start': 25, 'stop': 231},\n",
        "    15 : {'start': 35, 'stop': 280},\n",
        "    16 : {'start': 37, 'stop': 262},\n",
        "    17 : {'start': 29, 'stop': 266},\n",
        "    18 : {'start': 48, 'stop': 261},\n",
        "    19 : {'start': 65, 'stop': 275},\n",
        "    20 : {'start': 145, 'stop': 520},\n",
        "    21 : {'start': 0, 'stop': 397},\n",
        "    22 : {'start': 9, 'stop': 225},\n",
        "    23 : {'start': 6, 'stop': 227},\n",
        "    24 : {'start': 15, 'stop': 239},\n",
        "    25 : {'start': 40, 'stop': 149},\n",
        "    26 : {'start': 30, 'stop': 231},\n",
        "    27 : {'start': 49, 'stop': 295},\n",
        "    28 : {'start': 33, 'stop': 217},\n",
        "    29 : {'start': 50, 'stop': 311},\n",
        "    30 : {'start': 0, 'stop': 213},\n",
        "    31 : {'start': 22, 'stop': 248},\n",
        "    32 : {'start': 88, 'stop': 493},\n",
        "    33 : {'start': 116, 'stop': 439},\n",
        "    34 : {'start': 40, 'stop': 300},\n",
        "    35 : {'start': 0, 'stop': 227},\n",
        "    36 : {'start': 0, 'stop': 198},\n",
        "    37 : {'start': 0, 'stop': 120},\n",
        "    38 : {'start': 0, 'stop': 203},\n",
        "    39 : {'start': 44, 'stop': 228},\n",
        "    40 : {'start': 0, 'stop': 229},\n",
        "    41 : {'start': 35, 'stop': 250},\n",
        "    42 : {'start': 48, 'stop': 243},\n",
        "    43 : {'start': 5, 'stop': 230},\n",
        "    44 : {'start': 88, 'stop': 314},\n",
        "    45 : {'start': 7, 'stop': 220},\n",
        "    46 : {'start': 11, 'stop': 232},\n",
        "    47 : {'start': 21, 'stop': 229},\n",
        "    48 : {'start': 4, 'stop': 255},\n",
        "    49 : {'start': 2, 'stop': 122},\n",
        "    50 : {'start': 14, 'stop': 119}\n",
        "}"
      ]
    },
    {
      "cell_type": "code",
      "execution_count": 19,
      "metadata": {},
      "outputs": [],
      "source": [
        "# Memoize stacks where the tumor is present\n",
        "# Computed in MSD EDA notebook\n",
        "patient_tumorous_slices = {\n",
        "    0: {'start': 326, 'stop': 411},\n",
        "    1: {'start': 171, 'stop': 227},\n",
        "    2: {'start': 147, 'stop': 193},\n",
        "    3: {'start': 303, 'stop': 335},\n",
        "    4: {'start': 141, 'stop': 167},\n",
        "    5: {'start': 131, 'stop': 188},\n",
        "    6: {'start': 71, 'stop': 95},\n",
        "    7: {'start': 164, 'stop': 192},\n",
        "    8: {'start': 145, 'stop': 180},\n",
        "    9: {'start': 513, 'stop': 549},\n",
        "    10: {'start': 197, 'stop': 272},\n",
        "    11: {'start': 223, 'stop': 258},\n",
        "    12: {'start': 59, 'stop': 83},\n",
        "    13: {'start': 59, 'stop': 99},\n",
        "    14: {'start': 178, 'stop': 207},\n",
        "    15: {'start': 141, 'stop': 172},\n",
        "    16: {'start': 127, 'stop': 177},\n",
        "    17: {'start': 192, 'stop': 221},\n",
        "    18: {'start': 209, 'stop': 239},\n",
        "    19: {'start': 152, 'stop': 194},\n",
        "    20: {'start': 439, 'stop': 494},\n",
        "    21: {'start': 291, 'stop': 341},\n",
        "    22: {'start': 136, 'stop': 180},\n",
        "    23: {'start': 137, 'stop': 169},\n",
        "    24: {'start': 84, 'stop': 112},\n",
        "    25: {'start': 82, 'stop': 109},\n",
        "    26: {'start': 79, 'stop': 126},\n",
        "    27: {'start': 208, 'stop': 293},\n",
        "    28: {'start': 137, 'stop': 173},\n",
        "    29: {'start': 120, 'stop': 149},\n",
        "    30: {'start': 130, 'stop': 173},\n",
        "    31: {'start': 97, 'stop': 123},\n",
        "    32: {'start': 356, 'stop': 415},\n",
        "    33: {'start': 203, 'stop': 287},\n",
        "    34: {'start': 200, 'stop': 228},\n",
        "    35: {'start': 148, 'stop': 184},\n",
        "    36: {'start': 79, 'stop': 105},\n",
        "    37: {'start': 66, 'stop': 100},\n",
        "    38: {'start': 117, 'stop': 143},\n",
        "    39: {'start': 111, 'stop': 181},\n",
        "    40: {'start': 140, 'stop': 165},\n",
        "    41: {'start': 80, 'stop': 109},\n",
        "    42: {'start': 79, 'stop': 172},\n",
        "    43: {'start': 153, 'stop': 204},\n",
        "    44: {'start': 147, 'stop': 188},\n",
        "    45: {'start': 113, 'stop': 142},\n",
        "    46: {'start': 83, 'stop': 113},\n",
        "    47: {'start': 140, 'stop': 234},\n",
        "    48: {'start': 141, 'stop': 170},\n",
        "    49: {'start': 99, 'stop': 120},\n",
        "    50: {'start': 68, 'stop': 92}\n",
        "}"
      ]
    },
    {
      "cell_type": "code",
      "execution_count": 20,
      "metadata": {},
      "outputs": [
        {
          "name": "stderr",
          "output_type": "stream",
          "text": [
            "Loading dataset: 100%|██████████| 51/51 [03:24<00:00,  4.01s/it]\n"
          ]
        }
      ],
      "source": [
        "### TRAINING DATA ###\n",
        "train_name = 'training' # From Monai: ['training', 'validation', 'test']\n",
        "train_dataset = DecathlonDataset(root_dir = f'{datasets_path}{train_name}/',\n",
        "                        task = \"Task06_Lung\", section = train_name,\n",
        "                        transform = base_transform, download = DOWNLOAD_FLAG)\n",
        "\n",
        "train_loader = DataLoader(train_dataset, batch_size = BATCH_SIZE, shuffle = False) #, num_workers = num_workers)"
      ]
    },
    {
      "cell_type": "code",
      "execution_count": 35,
      "metadata": {},
      "outputs": [],
      "source": [
        "def save_dataset(dataset, dataset_name, split_name, take_slices_flag : bool = False, slices : {int : {str : int}} = None):\n",
        "    '''\n",
        "    Save the dataset to the disk per patient as two files: image and mask'''\n",
        "    i = 0\n",
        "\n",
        "    if not os.path.exists(f'{crt_dir}/datasets/{dataset_name}/'):\n",
        "        os.makedirs(f'{crt_dir}/datasets/{dataset_name}/')\n",
        "        os.makedirs(f'{crt_dir}/datasets/{dataset_name}/{split_name}/images/')\n",
        "        os.makedirs(f'{crt_dir}/datasets/{dataset_name}/{split_name}/labels/')\n",
        "\n",
        "\n",
        "    if not os.path.exists(f'{crt_dir}/datasets/{dataset_name}/{split_name}/'):\n",
        "        os.makedirs(f'{crt_dir}/datasets/{dataset_name}/{split_name}/')\n",
        "        os.makedirs(f'{crt_dir}/datasets/{dataset_name}/{split_name}/images/')\n",
        "        os.makedirs(f'{crt_dir}/datasets/{dataset_name}/{split_name}/labels/')\n",
        "\n",
        "    for data in tqdm(dataset):\n",
        "        img, label = data['image'], data['label']\n",
        "        \n",
        "        \n",
        "        img = img.cpu()\n",
        "        label = label.cpu()\n",
        "\n",
        "\n",
        "        if take_slices_flag:\n",
        "            img = img[:, :, :, slices[i]['start'] : slices[i]['stop']+1]\n",
        "            label = label[:, :, :, slices[i]['start'] : slices[i]['stop']+1]\n",
        "\n",
        "        print(f'Patient {i} has {img.shape[-1]} slices')\n",
        "\n",
        "        filename = f'{crt_dir}/datasets/{dataset_name}/{split_name}/images/patient_{i}.pt'\n",
        "        maskname = f'{crt_dir}/datasets/{dataset_name}/{split_name}/labels/patient_{i}.pt'\n",
        "\n",
        "        torch.save(img, filename)\n",
        "        torch.save(label, maskname)\n",
        "\n",
        "        i += 1\n",
        "\n",
        "    print(f'Saved {i} images and masks for {split_name} split')"
      ]
    },
    {
      "cell_type": "code",
      "execution_count": 31,
      "metadata": {},
      "outputs": [
        {
          "name": "stderr",
          "output_type": "stream",
          "text": [
            "100%|██████████| 51/51 [00:00<00:00, 6763.08it/s]"
          ]
        },
        {
          "name": "stdout",
          "output_type": "stream",
          "text": [
            "torch.Size([1, 512, 512, 589])\n",
            "Patient 0 has 589 slices\n",
            "torch.Size([1, 512, 512, 267])\n",
            "Patient 1 has 267 slices\n",
            "torch.Size([1, 512, 512, 227])\n",
            "Patient 2 has 227 slices\n",
            "torch.Size([1, 512, 512, 450])\n",
            "Patient 3 has 450 slices\n",
            "torch.Size([1, 512, 512, 277])\n",
            "Patient 4 has 277 slices\n",
            "torch.Size([1, 512, 512, 260])\n",
            "Patient 5 has 260 slices\n",
            "torch.Size([1, 512, 512, 125])\n",
            "Patient 6 has 125 slices\n",
            "torch.Size([1, 512, 512, 273])\n",
            "Patient 7 has 273 slices\n",
            "torch.Size([1, 512, 512, 251])\n",
            "Patient 8 has 251 slices\n",
            "torch.Size([1, 512, 512, 636])\n",
            "Patient 9 has 636 slices\n",
            "torch.Size([1, 512, 512, 301])\n",
            "Patient 10 has 301 slices\n",
            "torch.Size([1, 512, 512, 304])\n",
            "Patient 11 has 304 slices\n",
            "torch.Size([1, 512, 512, 115])\n",
            "Patient 12 has 115 slices\n",
            "torch.Size([1, 512, 512, 241])\n",
            "Patient 13 has 241 slices\n",
            "torch.Size([1, 512, 512, 249])\n",
            "Patient 14 has 249 slices\n",
            "torch.Size([1, 512, 512, 289])\n",
            "Patient 15 has 289 slices\n",
            "torch.Size([1, 512, 512, 282])\n",
            "Patient 16 has 282 slices\n",
            "torch.Size([1, 512, 512, 291])\n",
            "Patient 17 has 291 slices\n",
            "torch.Size([1, 512, 512, 276])\n",
            "Patient 18 has 276 slices\n",
            "torch.Size([1, 512, 512, 296])\n",
            "Patient 19 has 296 slices\n",
            "torch.Size([1, 512, 512, 567])\n",
            "Patient 20 has 567 slices\n",
            "torch.Size([1, 512, 512, 423])\n",
            "Patient 21 has 423 slices\n",
            "torch.Size([1, 512, 512, 242])\n",
            "Patient 22 has 242 slices\n",
            "torch.Size([1, 512, 512, 243])\n",
            "Patient 23 has 243 slices\n",
            "torch.Size([1, 512, 512, 251])\n",
            "Patient 24 has 251 slices\n",
            "torch.Size([1, 512, 512, 155])\n",
            "Patient 25 has 155 slices\n",
            "torch.Size([1, 512, 512, 241])\n",
            "Patient 26 has 241 slices\n",
            "torch.Size([1, 512, 512, 304])\n",
            "Patient 27 has 304 slices\n",
            "torch.Size([1, 512, 512, 228])\n",
            "Patient 28 has 228 slices\n",
            "torch.Size([1, 512, 512, 322])\n",
            "Patient 29 has 322 slices\n",
            "torch.Size([1, 512, 512, 226])\n",
            "Patient 30 has 226 slices\n",
            "torch.Size([1, 512, 512, 256])\n",
            "Patient 31 has 256 slices\n",
            "torch.Size([1, 512, 512, 531])\n",
            "Patient 32 has 531 slices\n",
            "torch.Size([1, 512, 512, 483])\n",
            "Patient 33 has 483 slices\n",
            "torch.Size([1, 512, 512, 314])\n",
            "Patient 34 has 314 slices\n",
            "torch.Size([1, 512, 512, 241])\n",
            "Patient 35 has 241 slices\n",
            "torch.Size([1, 512, 512, 211])\n",
            "Patient 36 has 211 slices\n",
            "torch.Size([1, 512, 512, 128])\n",
            "Patient 37 has 128 slices\n",
            "torch.Size([1, 512, 512, 218])\n",
            "Patient 38 has 218 slices\n",
            "torch.Size([1, 512, 512, 248])\n",
            "Patient 39 has 248 slices\n",
            "torch.Size([1, 512, 512, 241])\n",
            "Patient 40 has 241 slices\n",
            "torch.Size([1, 512, 512, 271])\n",
            "Patient 41 has 271 slices\n",
            "torch.Size([1, 512, 512, 251])\n",
            "Patient 42 has 251 slices\n",
            "torch.Size([1, 512, 512, 241])\n",
            "Patient 43 has 241 slices\n",
            "torch.Size([1, 512, 512, 329])\n",
            "Patient 44 has 329 slices\n",
            "torch.Size([1, 512, 512, 228])\n",
            "Patient 45 has 228 slices\n",
            "torch.Size([1, 512, 512, 242])\n",
            "Patient 46 has 242 slices\n",
            "torch.Size([1, 512, 512, 252])\n",
            "Patient 47 has 252 slices\n",
            "torch.Size([1, 512, 512, 266])\n",
            "Patient 48 has 266 slices\n",
            "torch.Size([1, 512, 512, 126])\n",
            "Patient 49 has 126 slices\n",
            "torch.Size([1, 512, 512, 125])\n",
            "Patient 50 has 125 slices\n",
            "Saved 51 images and masks for training split\n"
          ]
        },
        {
          "name": "stderr",
          "output_type": "stream",
          "text": [
            "\n"
          ]
        }
      ],
      "source": [
        "save_dataset(train_dataset, 'MedicalDecathlonTensors', train_name)"
      ]
    },
    {
      "cell_type": "code",
      "execution_count": 36,
      "metadata": {},
      "outputs": [
        {
          "name": "stderr",
          "output_type": "stream",
          "text": [
            "  0%|          | 0/51 [00:00<?, ?it/s]"
          ]
        },
        {
          "name": "stdout",
          "output_type": "stream",
          "text": [
            "Patient 0 has 498 slices\n"
          ]
        },
        {
          "name": "stderr",
          "output_type": "stream",
          "text": [
            "  2%|▏         | 1/51 [00:04<03:20,  4.02s/it]"
          ]
        },
        {
          "name": "stdout",
          "output_type": "stream",
          "text": [
            "Patient 1 has 224 slices\n"
          ]
        },
        {
          "name": "stderr",
          "output_type": "stream",
          "text": [
            "  4%|▍         | 2/51 [00:05<02:13,  2.73s/it]"
          ]
        },
        {
          "name": "stdout",
          "output_type": "stream",
          "text": [
            "Patient 2 has 214 slices\n"
          ]
        },
        {
          "name": "stderr",
          "output_type": "stream",
          "text": [
            "  6%|▌         | 3/51 [00:07<01:42,  2.14s/it]"
          ]
        },
        {
          "name": "stdout",
          "output_type": "stream",
          "text": [
            "Patient 3 has 390 slices\n"
          ]
        },
        {
          "name": "stderr",
          "output_type": "stream",
          "text": [
            "  8%|▊         | 4/51 [00:10<01:57,  2.50s/it]"
          ]
        },
        {
          "name": "stdout",
          "output_type": "stream",
          "text": [
            "Patient 4 has 207 slices\n"
          ]
        },
        {
          "name": "stderr",
          "output_type": "stream",
          "text": [
            " 10%|▉         | 5/51 [00:12<01:41,  2.21s/it]"
          ]
        },
        {
          "name": "stdout",
          "output_type": "stream",
          "text": [
            "Patient 5 has 186 slices\n"
          ]
        },
        {
          "name": "stderr",
          "output_type": "stream",
          "text": [
            " 12%|█▏        | 6/51 [00:13<01:31,  2.04s/it]"
          ]
        },
        {
          "name": "stdout",
          "output_type": "stream",
          "text": [
            "Patient 6 has 114 slices\n"
          ]
        },
        {
          "name": "stderr",
          "output_type": "stream",
          "text": [
            " 14%|█▎        | 7/51 [00:14<01:12,  1.64s/it]"
          ]
        },
        {
          "name": "stdout",
          "output_type": "stream",
          "text": [
            "Patient 7 has 217 slices\n"
          ]
        },
        {
          "name": "stderr",
          "output_type": "stream",
          "text": [
            " 16%|█▌        | 8/51 [00:16<01:12,  1.68s/it]"
          ]
        },
        {
          "name": "stdout",
          "output_type": "stream",
          "text": [
            "Patient 8 has 235 slices\n"
          ]
        },
        {
          "name": "stderr",
          "output_type": "stream",
          "text": [
            " 18%|█▊        | 9/51 [00:18<01:11,  1.71s/it]"
          ]
        },
        {
          "name": "stdout",
          "output_type": "stream",
          "text": [
            "Patient 9 has 294 slices\n"
          ]
        },
        {
          "name": "stderr",
          "output_type": "stream",
          "text": [
            " 20%|█▉        | 10/51 [00:22<01:42,  2.51s/it]"
          ]
        },
        {
          "name": "stdout",
          "output_type": "stream",
          "text": [
            "Patient 10 has 225 slices\n"
          ]
        },
        {
          "name": "stderr",
          "output_type": "stream",
          "text": [
            " 22%|██▏       | 11/51 [00:24<01:35,  2.38s/it]"
          ]
        },
        {
          "name": "stdout",
          "output_type": "stream",
          "text": [
            "Patient 11 has 267 slices\n"
          ]
        },
        {
          "name": "stderr",
          "output_type": "stream",
          "text": [
            " 24%|██▎       | 12/51 [00:26<01:28,  2.27s/it]"
          ]
        },
        {
          "name": "stdout",
          "output_type": "stream",
          "text": [
            "Patient 12 has 109 slices\n"
          ]
        },
        {
          "name": "stderr",
          "output_type": "stream",
          "text": [
            " 25%|██▌       | 13/51 [00:27<01:07,  1.78s/it]"
          ]
        },
        {
          "name": "stdout",
          "output_type": "stream",
          "text": [
            "Patient 13 has 218 slices\n"
          ]
        },
        {
          "name": "stderr",
          "output_type": "stream",
          "text": [
            " 27%|██▋       | 14/51 [00:28<01:03,  1.72s/it]"
          ]
        },
        {
          "name": "stdout",
          "output_type": "stream",
          "text": [
            "Patient 14 has 207 slices\n"
          ]
        },
        {
          "name": "stderr",
          "output_type": "stream",
          "text": [
            " 29%|██▉       | 15/51 [00:30<01:00,  1.69s/it]"
          ]
        },
        {
          "name": "stdout",
          "output_type": "stream",
          "text": [
            "Patient 15 has 246 slices\n"
          ]
        },
        {
          "name": "stderr",
          "output_type": "stream",
          "text": [
            " 31%|███▏      | 16/51 [00:32<01:01,  1.74s/it]"
          ]
        },
        {
          "name": "stdout",
          "output_type": "stream",
          "text": [
            "Patient 16 has 226 slices\n"
          ]
        },
        {
          "name": "stderr",
          "output_type": "stream",
          "text": [
            " 33%|███▎      | 17/51 [00:34<01:00,  1.77s/it]"
          ]
        },
        {
          "name": "stdout",
          "output_type": "stream",
          "text": [
            "Patient 17 has 238 slices\n"
          ]
        },
        {
          "name": "stderr",
          "output_type": "stream",
          "text": [
            " 35%|███▌      | 18/51 [00:35<00:59,  1.80s/it]"
          ]
        },
        {
          "name": "stdout",
          "output_type": "stream",
          "text": [
            "Patient 18 has 214 slices\n"
          ]
        },
        {
          "name": "stderr",
          "output_type": "stream",
          "text": [
            " 37%|███▋      | 19/51 [00:37<00:57,  1.81s/it]"
          ]
        },
        {
          "name": "stdout",
          "output_type": "stream",
          "text": [
            "Patient 19 has 211 slices\n"
          ]
        },
        {
          "name": "stderr",
          "output_type": "stream",
          "text": [
            " 39%|███▉      | 20/51 [00:39<00:57,  1.84s/it]"
          ]
        },
        {
          "name": "stdout",
          "output_type": "stream",
          "text": [
            "Patient 20 has 376 slices\n"
          ]
        },
        {
          "name": "stderr",
          "output_type": "stream",
          "text": [
            " 41%|████      | 21/51 [00:43<01:12,  2.42s/it]"
          ]
        },
        {
          "name": "stdout",
          "output_type": "stream",
          "text": [
            "Patient 21 has 398 slices\n"
          ]
        },
        {
          "name": "stderr",
          "output_type": "stream",
          "text": [
            " 43%|████▎     | 22/51 [00:46<01:13,  2.53s/it]"
          ]
        },
        {
          "name": "stdout",
          "output_type": "stream",
          "text": [
            "Patient 22 has 217 slices\n"
          ]
        },
        {
          "name": "stderr",
          "output_type": "stream",
          "text": [
            " 45%|████▌     | 23/51 [00:47<01:03,  2.27s/it]"
          ]
        },
        {
          "name": "stdout",
          "output_type": "stream",
          "text": [
            "Patient 23 has 222 slices\n"
          ]
        },
        {
          "name": "stderr",
          "output_type": "stream",
          "text": [
            " 47%|████▋     | 24/51 [00:49<00:55,  2.05s/it]"
          ]
        },
        {
          "name": "stdout",
          "output_type": "stream",
          "text": [
            "Patient 24 has 225 slices\n"
          ]
        },
        {
          "name": "stderr",
          "output_type": "stream",
          "text": [
            " 49%|████▉     | 25/51 [00:51<00:50,  1.93s/it]"
          ]
        },
        {
          "name": "stdout",
          "output_type": "stream",
          "text": [
            "Patient 25 has 110 slices\n"
          ]
        },
        {
          "name": "stderr",
          "output_type": "stream",
          "text": [
            " 51%|█████     | 26/51 [00:52<00:41,  1.66s/it]"
          ]
        },
        {
          "name": "stdout",
          "output_type": "stream",
          "text": [
            "Patient 26 has 202 slices\n"
          ]
        },
        {
          "name": "stderr",
          "output_type": "stream",
          "text": [
            " 53%|█████▎    | 27/51 [00:53<00:38,  1.62s/it]"
          ]
        },
        {
          "name": "stdout",
          "output_type": "stream",
          "text": [
            "Patient 27 has 247 slices\n"
          ]
        },
        {
          "name": "stderr",
          "output_type": "stream",
          "text": [
            " 55%|█████▍    | 28/51 [00:55<00:39,  1.73s/it]"
          ]
        },
        {
          "name": "stdout",
          "output_type": "stream",
          "text": [
            "Patient 28 has 185 slices\n"
          ]
        },
        {
          "name": "stderr",
          "output_type": "stream",
          "text": [
            " 57%|█████▋    | 29/51 [00:57<00:36,  1.68s/it]"
          ]
        },
        {
          "name": "stdout",
          "output_type": "stream",
          "text": [
            "Patient 29 has 262 slices\n"
          ]
        },
        {
          "name": "stderr",
          "output_type": "stream",
          "text": [
            " 59%|█████▉    | 30/51 [00:59<00:37,  1.81s/it]"
          ]
        },
        {
          "name": "stdout",
          "output_type": "stream",
          "text": [
            "Patient 30 has 214 slices\n"
          ]
        },
        {
          "name": "stderr",
          "output_type": "stream",
          "text": [
            " 61%|██████    | 31/51 [01:00<00:33,  1.70s/it]"
          ]
        },
        {
          "name": "stdout",
          "output_type": "stream",
          "text": [
            "Patient 31 has 227 slices\n"
          ]
        },
        {
          "name": "stderr",
          "output_type": "stream",
          "text": [
            " 63%|██████▎   | 32/51 [01:02<00:32,  1.69s/it]"
          ]
        },
        {
          "name": "stdout",
          "output_type": "stream",
          "text": [
            "Patient 32 has 406 slices\n"
          ]
        },
        {
          "name": "stderr",
          "output_type": "stream",
          "text": [
            " 65%|██████▍   | 33/51 [01:05<00:40,  2.24s/it]"
          ]
        },
        {
          "name": "stdout",
          "output_type": "stream",
          "text": [
            "Patient 33 has 324 slices\n"
          ]
        },
        {
          "name": "stderr",
          "output_type": "stream",
          "text": [
            " 67%|██████▋   | 34/51 [01:09<00:43,  2.53s/it]"
          ]
        },
        {
          "name": "stdout",
          "output_type": "stream",
          "text": [
            "Patient 34 has 261 slices\n"
          ]
        },
        {
          "name": "stderr",
          "output_type": "stream",
          "text": [
            " 69%|██████▊   | 35/51 [01:11<00:38,  2.41s/it]"
          ]
        },
        {
          "name": "stdout",
          "output_type": "stream",
          "text": [
            "Patient 35 has 228 slices\n"
          ]
        },
        {
          "name": "stderr",
          "output_type": "stream",
          "text": [
            " 71%|███████   | 36/51 [01:12<00:32,  2.17s/it]"
          ]
        },
        {
          "name": "stdout",
          "output_type": "stream",
          "text": [
            "Patient 36 has 199 slices\n"
          ]
        },
        {
          "name": "stderr",
          "output_type": "stream",
          "text": [
            " 73%|███████▎  | 37/51 [01:14<00:26,  1.90s/it]"
          ]
        },
        {
          "name": "stdout",
          "output_type": "stream",
          "text": [
            "Patient 37 has 121 slices\n"
          ]
        },
        {
          "name": "stderr",
          "output_type": "stream",
          "text": [
            " 75%|███████▍  | 38/51 [01:14<00:20,  1.57s/it]"
          ]
        },
        {
          "name": "stdout",
          "output_type": "stream",
          "text": [
            "Patient 38 has 204 slices\n"
          ]
        },
        {
          "name": "stderr",
          "output_type": "stream",
          "text": [
            " 76%|███████▋  | 39/51 [01:16<00:18,  1.53s/it]"
          ]
        },
        {
          "name": "stdout",
          "output_type": "stream",
          "text": [
            "Patient 39 has 185 slices\n"
          ]
        },
        {
          "name": "stderr",
          "output_type": "stream",
          "text": [
            " 78%|███████▊  | 40/51 [01:18<00:17,  1.59s/it]"
          ]
        },
        {
          "name": "stdout",
          "output_type": "stream",
          "text": [
            "Patient 40 has 230 slices\n"
          ]
        },
        {
          "name": "stderr",
          "output_type": "stream",
          "text": [
            " 80%|████████  | 41/51 [01:19<00:15,  1.57s/it]"
          ]
        },
        {
          "name": "stdout",
          "output_type": "stream",
          "text": [
            "Patient 41 has 216 slices\n"
          ]
        },
        {
          "name": "stderr",
          "output_type": "stream",
          "text": [
            " 82%|████████▏ | 42/51 [01:21<00:14,  1.63s/it]"
          ]
        },
        {
          "name": "stdout",
          "output_type": "stream",
          "text": [
            "Patient 42 has 196 slices\n"
          ]
        },
        {
          "name": "stderr",
          "output_type": "stream",
          "text": [
            " 84%|████████▍ | 43/51 [01:23<00:13,  1.63s/it]"
          ]
        },
        {
          "name": "stdout",
          "output_type": "stream",
          "text": [
            "Patient 43 has 226 slices\n"
          ]
        },
        {
          "name": "stderr",
          "output_type": "stream",
          "text": [
            " 86%|████████▋ | 44/51 [01:24<00:11,  1.61s/it]"
          ]
        },
        {
          "name": "stdout",
          "output_type": "stream",
          "text": [
            "Patient 44 has 227 slices\n"
          ]
        },
        {
          "name": "stderr",
          "output_type": "stream",
          "text": [
            " 88%|████████▊ | 45/51 [01:26<00:10,  1.80s/it]"
          ]
        },
        {
          "name": "stdout",
          "output_type": "stream",
          "text": [
            "Patient 45 has 214 slices\n"
          ]
        },
        {
          "name": "stderr",
          "output_type": "stream",
          "text": [
            " 90%|█████████ | 46/51 [01:28<00:08,  1.70s/it]"
          ]
        },
        {
          "name": "stdout",
          "output_type": "stream",
          "text": [
            "Patient 46 has 222 slices\n"
          ]
        },
        {
          "name": "stderr",
          "output_type": "stream",
          "text": [
            " 92%|█████████▏| 47/51 [01:29<00:06,  1.67s/it]"
          ]
        },
        {
          "name": "stdout",
          "output_type": "stream",
          "text": [
            "Patient 47 has 209 slices\n"
          ]
        },
        {
          "name": "stderr",
          "output_type": "stream",
          "text": [
            " 94%|█████████▍| 48/51 [01:31<00:04,  1.66s/it]"
          ]
        },
        {
          "name": "stdout",
          "output_type": "stream",
          "text": [
            "Patient 48 has 252 slices\n"
          ]
        },
        {
          "name": "stderr",
          "output_type": "stream",
          "text": [
            " 96%|█████████▌| 49/51 [01:33<00:03,  1.68s/it]"
          ]
        },
        {
          "name": "stdout",
          "output_type": "stream",
          "text": [
            "Patient 49 has 121 slices\n"
          ]
        },
        {
          "name": "stderr",
          "output_type": "stream",
          "text": [
            " 98%|█████████▊| 50/51 [01:34<00:01,  1.43s/it]"
          ]
        },
        {
          "name": "stdout",
          "output_type": "stream",
          "text": [
            "Patient 50 has 106 slices\n"
          ]
        },
        {
          "name": "stderr",
          "output_type": "stream",
          "text": [
            "100%|██████████| 51/51 [01:34<00:00,  1.86s/it]"
          ]
        },
        {
          "name": "stdout",
          "output_type": "stream",
          "text": [
            "Saved 51 images and masks for training split\n"
          ]
        },
        {
          "name": "stderr",
          "output_type": "stream",
          "text": [
            "\n"
          ]
        }
      ],
      "source": [
        "save_dataset(train_dataset, 'MedicalDecathlonJustLungs', train_name, take_slices_flag = True, slices = patient_useful_slices)"
      ]
    },
    {
      "cell_type": "code",
      "execution_count": 37,
      "metadata": {},
      "outputs": [
        {
          "name": "stderr",
          "output_type": "stream",
          "text": [
            "  0%|          | 0/51 [00:00<?, ?it/s]"
          ]
        },
        {
          "name": "stdout",
          "output_type": "stream",
          "text": [
            "Patient 0 has 86 slices\n"
          ]
        },
        {
          "name": "stderr",
          "output_type": "stream",
          "text": [
            "  2%|▏         | 1/51 [00:03<03:17,  3.96s/it]"
          ]
        },
        {
          "name": "stdout",
          "output_type": "stream",
          "text": [
            "Patient 1 has 57 slices\n"
          ]
        },
        {
          "name": "stderr",
          "output_type": "stream",
          "text": [
            "  4%|▍         | 2/51 [00:05<02:12,  2.71s/it]"
          ]
        },
        {
          "name": "stdout",
          "output_type": "stream",
          "text": [
            "Patient 2 has 47 slices\n"
          ]
        },
        {
          "name": "stderr",
          "output_type": "stream",
          "text": [
            "  6%|▌         | 3/51 [00:07<01:43,  2.16s/it]"
          ]
        },
        {
          "name": "stdout",
          "output_type": "stream",
          "text": [
            "Patient 3 has 33 slices\n"
          ]
        },
        {
          "name": "stderr",
          "output_type": "stream",
          "text": [
            "  8%|▊         | 4/51 [00:10<01:58,  2.52s/it]"
          ]
        },
        {
          "name": "stdout",
          "output_type": "stream",
          "text": [
            "Patient 4 has 27 slices\n"
          ]
        },
        {
          "name": "stderr",
          "output_type": "stream",
          "text": [
            " 10%|▉         | 5/51 [00:12<01:45,  2.29s/it]"
          ]
        },
        {
          "name": "stdout",
          "output_type": "stream",
          "text": [
            "Patient 5 has 58 slices\n"
          ]
        },
        {
          "name": "stderr",
          "output_type": "stream",
          "text": [
            " 12%|█▏        | 6/51 [00:13<01:34,  2.10s/it]"
          ]
        },
        {
          "name": "stdout",
          "output_type": "stream",
          "text": [
            "Patient 6 has 25 slices\n"
          ]
        },
        {
          "name": "stderr",
          "output_type": "stream",
          "text": [
            " 14%|█▎        | 7/51 [00:14<01:13,  1.67s/it]"
          ]
        },
        {
          "name": "stdout",
          "output_type": "stream",
          "text": [
            "Patient 7 has 29 slices\n"
          ]
        },
        {
          "name": "stderr",
          "output_type": "stream",
          "text": [
            " 16%|█▌        | 8/51 [00:16<01:13,  1.71s/it]"
          ]
        },
        {
          "name": "stdout",
          "output_type": "stream",
          "text": [
            "Patient 8 has 36 slices\n"
          ]
        },
        {
          "name": "stderr",
          "output_type": "stream",
          "text": [
            " 18%|█▊        | 9/51 [00:18<01:11,  1.70s/it]"
          ]
        },
        {
          "name": "stdout",
          "output_type": "stream",
          "text": [
            "Patient 9 has 37 slices\n"
          ]
        },
        {
          "name": "stderr",
          "output_type": "stream",
          "text": [
            " 20%|█▉        | 10/51 [00:22<01:41,  2.48s/it]"
          ]
        },
        {
          "name": "stdout",
          "output_type": "stream",
          "text": [
            "Patient 10 has 76 slices\n"
          ]
        },
        {
          "name": "stderr",
          "output_type": "stream",
          "text": [
            " 22%|██▏       | 11/51 [00:24<01:33,  2.34s/it]"
          ]
        },
        {
          "name": "stdout",
          "output_type": "stream",
          "text": [
            "Patient 11 has 36 slices\n"
          ]
        },
        {
          "name": "stderr",
          "output_type": "stream",
          "text": [
            " 24%|██▎       | 12/51 [00:26<01:27,  2.24s/it]"
          ]
        },
        {
          "name": "stdout",
          "output_type": "stream",
          "text": [
            "Patient 12 has 25 slices\n"
          ]
        },
        {
          "name": "stderr",
          "output_type": "stream",
          "text": [
            " 25%|██▌       | 13/51 [00:27<01:08,  1.79s/it]"
          ]
        },
        {
          "name": "stdout",
          "output_type": "stream",
          "text": [
            "Patient 13 has 41 slices\n"
          ]
        },
        {
          "name": "stderr",
          "output_type": "stream",
          "text": [
            " 27%|██▋       | 14/51 [00:28<01:04,  1.74s/it]"
          ]
        },
        {
          "name": "stdout",
          "output_type": "stream",
          "text": [
            "Patient 14 has 30 slices\n"
          ]
        },
        {
          "name": "stderr",
          "output_type": "stream",
          "text": [
            " 29%|██▉       | 15/51 [00:30<01:01,  1.70s/it]"
          ]
        },
        {
          "name": "stdout",
          "output_type": "stream",
          "text": [
            "Patient 15 has 32 slices\n"
          ]
        },
        {
          "name": "stderr",
          "output_type": "stream",
          "text": [
            " 31%|███▏      | 16/51 [00:32<01:01,  1.77s/it]"
          ]
        },
        {
          "name": "stdout",
          "output_type": "stream",
          "text": [
            "Patient 16 has 51 slices\n"
          ]
        },
        {
          "name": "stderr",
          "output_type": "stream",
          "text": [
            " 33%|███▎      | 17/51 [00:34<01:00,  1.79s/it]"
          ]
        },
        {
          "name": "stdout",
          "output_type": "stream",
          "text": [
            "Patient 17 has 30 slices\n"
          ]
        },
        {
          "name": "stderr",
          "output_type": "stream",
          "text": [
            " 35%|███▌      | 18/51 [00:36<01:00,  1.83s/it]"
          ]
        },
        {
          "name": "stdout",
          "output_type": "stream",
          "text": [
            "Patient 18 has 31 slices\n"
          ]
        },
        {
          "name": "stderr",
          "output_type": "stream",
          "text": [
            " 37%|███▋      | 19/51 [00:38<00:58,  1.84s/it]"
          ]
        },
        {
          "name": "stdout",
          "output_type": "stream",
          "text": [
            "Patient 19 has 43 slices\n"
          ]
        },
        {
          "name": "stderr",
          "output_type": "stream",
          "text": [
            " 39%|███▉      | 20/51 [00:40<00:58,  1.90s/it]"
          ]
        },
        {
          "name": "stdout",
          "output_type": "stream",
          "text": [
            "Patient 20 has 56 slices\n"
          ]
        },
        {
          "name": "stderr",
          "output_type": "stream",
          "text": [
            " 41%|████      | 21/51 [00:43<01:14,  2.47s/it]"
          ]
        },
        {
          "name": "stdout",
          "output_type": "stream",
          "text": [
            "Patient 21 has 51 slices\n"
          ]
        },
        {
          "name": "stderr",
          "output_type": "stream",
          "text": [
            " 43%|████▎     | 22/51 [00:46<01:15,  2.60s/it]"
          ]
        },
        {
          "name": "stdout",
          "output_type": "stream",
          "text": [
            "Patient 22 has 45 slices\n"
          ]
        },
        {
          "name": "stderr",
          "output_type": "stream",
          "text": [
            " 45%|████▌     | 23/51 [00:48<01:05,  2.32s/it]"
          ]
        },
        {
          "name": "stdout",
          "output_type": "stream",
          "text": [
            "Patient 23 has 33 slices\n"
          ]
        },
        {
          "name": "stderr",
          "output_type": "stream",
          "text": [
            " 47%|████▋     | 24/51 [00:50<00:57,  2.13s/it]"
          ]
        },
        {
          "name": "stdout",
          "output_type": "stream",
          "text": [
            "Patient 24 has 29 slices\n"
          ]
        },
        {
          "name": "stderr",
          "output_type": "stream",
          "text": [
            " 49%|████▉     | 25/51 [00:51<00:51,  1.99s/it]"
          ]
        },
        {
          "name": "stdout",
          "output_type": "stream",
          "text": [
            "Patient 25 has 28 slices\n"
          ]
        },
        {
          "name": "stderr",
          "output_type": "stream",
          "text": [
            " 51%|█████     | 26/51 [00:53<00:46,  1.85s/it]"
          ]
        },
        {
          "name": "stdout",
          "output_type": "stream",
          "text": [
            "Patient 26 has 48 slices\n"
          ]
        },
        {
          "name": "stderr",
          "output_type": "stream",
          "text": [
            " 53%|█████▎    | 27/51 [00:55<00:47,  1.97s/it]"
          ]
        },
        {
          "name": "stdout",
          "output_type": "stream",
          "text": [
            "Patient 27 has 86 slices\n"
          ]
        },
        {
          "name": "stderr",
          "output_type": "stream",
          "text": [
            " 55%|█████▍    | 28/51 [00:58<00:52,  2.28s/it]"
          ]
        },
        {
          "name": "stdout",
          "output_type": "stream",
          "text": [
            "Patient 28 has 37 slices\n"
          ]
        },
        {
          "name": "stderr",
          "output_type": "stream",
          "text": [
            " 57%|█████▋    | 29/51 [01:02<01:01,  2.79s/it]"
          ]
        },
        {
          "name": "stdout",
          "output_type": "stream",
          "text": [
            "Patient 29 has 30 slices\n"
          ]
        },
        {
          "name": "stderr",
          "output_type": "stream",
          "text": [
            " 59%|█████▉    | 30/51 [01:07<01:10,  3.36s/it]"
          ]
        },
        {
          "name": "stdout",
          "output_type": "stream",
          "text": [
            "Patient 30 has 44 slices\n"
          ]
        },
        {
          "name": "stderr",
          "output_type": "stream",
          "text": [
            " 61%|██████    | 31/51 [01:09<01:00,  3.04s/it]"
          ]
        },
        {
          "name": "stdout",
          "output_type": "stream",
          "text": [
            "Patient 31 has 27 slices\n"
          ]
        },
        {
          "name": "stderr",
          "output_type": "stream",
          "text": [
            " 63%|██████▎   | 32/51 [01:11<00:50,  2.65s/it]"
          ]
        },
        {
          "name": "stdout",
          "output_type": "stream",
          "text": [
            "Patient 32 has 60 slices\n"
          ]
        },
        {
          "name": "stderr",
          "output_type": "stream",
          "text": [
            " 67%|██████▋   | 34/51 [01:18<00:51,  3.03s/it]"
          ]
        },
        {
          "name": "stdout",
          "output_type": "stream",
          "text": [
            "Patient 33 has 85 slices\n",
            "Patient 34 has 29 slices\n"
          ]
        },
        {
          "name": "stderr",
          "output_type": "stream",
          "text": [
            " 69%|██████▊   | 35/51 [01:21<00:48,  3.06s/it]"
          ]
        },
        {
          "name": "stdout",
          "output_type": "stream",
          "text": [
            "Patient 35 has 37 slices\n"
          ]
        },
        {
          "name": "stderr",
          "output_type": "stream",
          "text": [
            " 71%|███████   | 36/51 [01:22<00:39,  2.62s/it]"
          ]
        },
        {
          "name": "stdout",
          "output_type": "stream",
          "text": [
            "Patient 36 has 27 slices\n"
          ]
        },
        {
          "name": "stderr",
          "output_type": "stream",
          "text": [
            " 73%|███████▎  | 37/51 [01:24<00:31,  2.27s/it]"
          ]
        },
        {
          "name": "stdout",
          "output_type": "stream",
          "text": [
            "Patient 37 has 35 slices\n"
          ]
        },
        {
          "name": "stderr",
          "output_type": "stream",
          "text": [
            " 75%|███████▍  | 38/51 [01:25<00:24,  1.86s/it]"
          ]
        },
        {
          "name": "stdout",
          "output_type": "stream",
          "text": [
            "Patient 38 has 27 slices\n"
          ]
        },
        {
          "name": "stderr",
          "output_type": "stream",
          "text": [
            " 76%|███████▋  | 39/51 [01:27<00:23,  1.95s/it]"
          ]
        },
        {
          "name": "stdout",
          "output_type": "stream",
          "text": [
            "Patient 39 has 71 slices\n"
          ]
        },
        {
          "name": "stderr",
          "output_type": "stream",
          "text": [
            " 78%|███████▊  | 40/51 [01:29<00:23,  2.12s/it]"
          ]
        },
        {
          "name": "stdout",
          "output_type": "stream",
          "text": [
            "Patient 40 has 26 slices\n"
          ]
        },
        {
          "name": "stderr",
          "output_type": "stream",
          "text": [
            " 80%|████████  | 41/51 [01:31<00:19,  1.99s/it]"
          ]
        },
        {
          "name": "stdout",
          "output_type": "stream",
          "text": [
            "Patient 41 has 30 slices\n"
          ]
        },
        {
          "name": "stderr",
          "output_type": "stream",
          "text": [
            " 82%|████████▏ | 42/51 [01:33<00:17,  1.96s/it]"
          ]
        },
        {
          "name": "stdout",
          "output_type": "stream",
          "text": [
            "Patient 42 has 94 slices\n"
          ]
        },
        {
          "name": "stderr",
          "output_type": "stream",
          "text": [
            " 84%|████████▍ | 43/51 [01:36<00:18,  2.32s/it]"
          ]
        },
        {
          "name": "stdout",
          "output_type": "stream",
          "text": [
            "Patient 43 has 52 slices\n"
          ]
        },
        {
          "name": "stderr",
          "output_type": "stream",
          "text": [
            " 86%|████████▋ | 44/51 [01:38<00:14,  2.14s/it]"
          ]
        },
        {
          "name": "stdout",
          "output_type": "stream",
          "text": [
            "Patient 44 has 42 slices\n"
          ]
        },
        {
          "name": "stderr",
          "output_type": "stream",
          "text": [
            " 88%|████████▊ | 45/51 [01:41<00:14,  2.41s/it]"
          ]
        },
        {
          "name": "stdout",
          "output_type": "stream",
          "text": [
            "Patient 45 has 30 slices\n"
          ]
        },
        {
          "name": "stderr",
          "output_type": "stream",
          "text": [
            " 90%|█████████ | 46/51 [01:44<00:12,  2.58s/it]"
          ]
        },
        {
          "name": "stdout",
          "output_type": "stream",
          "text": [
            "Patient 46 has 31 slices\n"
          ]
        },
        {
          "name": "stderr",
          "output_type": "stream",
          "text": [
            " 92%|█████████▏| 47/51 [01:45<00:09,  2.29s/it]"
          ]
        },
        {
          "name": "stdout",
          "output_type": "stream",
          "text": [
            "Patient 47 has 95 slices\n"
          ]
        },
        {
          "name": "stderr",
          "output_type": "stream",
          "text": [
            " 94%|█████████▍| 48/51 [01:48<00:07,  2.34s/it]"
          ]
        },
        {
          "name": "stdout",
          "output_type": "stream",
          "text": [
            "Patient 48 has 30 slices\n"
          ]
        },
        {
          "name": "stderr",
          "output_type": "stream",
          "text": [
            " 96%|█████████▌| 49/51 [01:51<00:04,  2.43s/it]"
          ]
        },
        {
          "name": "stdout",
          "output_type": "stream",
          "text": [
            "Patient 49 has 22 slices\n"
          ]
        },
        {
          "name": "stderr",
          "output_type": "stream",
          "text": [
            " 98%|█████████▊| 50/51 [01:51<00:01,  1.96s/it]"
          ]
        },
        {
          "name": "stdout",
          "output_type": "stream",
          "text": [
            "Patient 50 has 25 slices\n"
          ]
        },
        {
          "name": "stderr",
          "output_type": "stream",
          "text": [
            "100%|██████████| 51/51 [01:52<00:00,  2.21s/it]"
          ]
        },
        {
          "name": "stdout",
          "output_type": "stream",
          "text": [
            "Saved 51 images and masks for training split\n"
          ]
        },
        {
          "name": "stderr",
          "output_type": "stream",
          "text": [
            "\n"
          ]
        }
      ],
      "source": [
        "save_dataset(train_dataset, 'MedicalDecathlonJustTumors', train_name, take_slices_flag = True, slices = patient_tumorous_slices)"
      ]
    },
    {
      "cell_type": "code",
      "execution_count": 6,
      "metadata": {},
      "outputs": [
        {
          "name": "stderr",
          "output_type": "stream",
          "text": [
            "Loading dataset: 100%|██████████| 12/12 [00:46<00:00,  3.88s/it]\n"
          ]
        }
      ],
      "source": [
        "### VALIDATION DATA ###\n",
        "val_name = 'validation' # From Monai: ['training', 'validation', 'test']\n",
        "val_dataset = DecathlonDataset(root_dir = f'{datasets_path}{val_name}/',\n",
        "                        task = \"Task06_Lung\", section = val_name,\n",
        "                        transform = base_transform, download = DOWNLOAD_FLAG)\n",
        "\n",
        "val_loader = DataLoader(val_dataset, batch_size = BATCH_SIZE, shuffle = False) #, num_workers = num_workers)\n"
      ]
    },
    {
      "cell_type": "code",
      "execution_count": 10,
      "metadata": {},
      "outputs": [
        {
          "data": {
            "text/plain": [
              "{'image': metatensor([[[[ -836.,  -894.,  -940.,  ...,  -908.,  -908.,  -886.],\n",
              "           [ -839.,  -871.,  -923.,  ...,  -928.,  -955.,  -925.],\n",
              "           [ -928.,  -901.,  -914.,  ...,  -914.,  -930.,  -929.],\n",
              "           ...,\n",
              "           [ -988.,  -984.,  -985.,  ...,  -990., -1001.,  -965.],\n",
              "           [ -971.,  -975., -1014.,  ...,  -998., -1005.,  -986.],\n",
              "           [ -996., -1002., -1024.,  ...,  -987., -1011., -1015.]],\n",
              " \n",
              "          [[ -902.,  -909.,  -901.,  ...,  -910.,  -879.,  -899.],\n",
              "           [ -838.,  -899.,  -942.,  ...,  -890.,  -915.,  -920.],\n",
              "           [ -864.,  -901.,  -923.,  ...,  -891.,  -949.,  -923.],\n",
              "           ...,\n",
              "           [ -963.,  -973.,  -981.,  ..., -1002.,  -997.,  -993.],\n",
              "           [ -990.,  -994., -1024.,  ...,  -992.,  -999., -1003.],\n",
              "           [-1006., -1013., -1021.,  ...,  -975.,  -997., -1023.]],\n",
              " \n",
              "          [[ -942.,  -898.,  -882.,  ...,  -940.,  -901.,  -918.],\n",
              "           [ -884.,  -901.,  -889.,  ...,  -882.,  -888.,  -908.],\n",
              "           [ -850.,  -928.,  -922.,  ...,  -860.,  -909.,  -909.],\n",
              "           ...,\n",
              "           [ -998.,  -986., -1024.,  ..., -1016.,  -995., -1012.],\n",
              "           [-1009., -1003., -1024.,  ...,  -999.,  -999., -1014.],\n",
              "           [-1010., -1019., -1010.,  ..., -1014., -1014., -1017.]],\n",
              " \n",
              "          ...,\n",
              " \n",
              "          [[ -927.,  -935.,  -944.,  ...,  -924.,  -934.,  -922.],\n",
              "           [ -941.,  -930., -1003.,  ...,  -929.,  -944.,  -932.],\n",
              "           [ -904.,  -915.,  -947.,  ...,  -918.,  -904.,  -918.],\n",
              "           ...,\n",
              "           [-1020., -1018.,  -997.,  ...,  -990.,  -977.,  -962.],\n",
              "           [ -987., -1017.,  -999.,  ...,  -966.,  -971.,  -984.],\n",
              "           [ -991., -1011., -1023.,  ...,  -991.,  -992.,  -995.]],\n",
              " \n",
              "          [[ -921.,  -950.,  -980.,  ...,  -917.,  -955.,  -936.],\n",
              "           [ -924.,  -960.,  -978.,  ...,  -916.,  -944.,  -926.],\n",
              "           [ -885.,  -926.,  -888.,  ...,  -899.,  -911.,  -907.],\n",
              "           ...,\n",
              "           [-1008., -1005., -1013.,  ..., -1009., -1013.,  -997.],\n",
              "           [-1012.,  -993.,  -966.,  ...,  -989.,  -989.,  -992.],\n",
              "           [ -985., -1013.,  -982.,  ...,  -989.,  -993., -1006.]],\n",
              " \n",
              "          [[ -915.,  -972.,  -959.,  ...,  -908.,  -930.,  -929.],\n",
              "           [ -920.,  -943.,  -904.,  ...,  -902.,  -920.,  -907.],\n",
              "           [ -903.,  -890.,  -852.,  ...,  -896.,  -925.,  -888.],\n",
              "           ...,\n",
              "           [ -994., -1014., -1024.,  ..., -1018., -1019., -1005.],\n",
              "           [-1010., -1002., -1002.,  ..., -1009., -1005.,  -981.],\n",
              "           [-1016., -1021.,  -978.,  ...,  -995.,  -977.,  -986.]]]]),\n",
              " 'label': metatensor([[[[0., 0., 0.,  ..., 0., 0., 0.],\n",
              "           [0., 0., 0.,  ..., 0., 0., 0.],\n",
              "           [0., 0., 0.,  ..., 0., 0., 0.],\n",
              "           ...,\n",
              "           [0., 0., 0.,  ..., 0., 0., 0.],\n",
              "           [0., 0., 0.,  ..., 0., 0., 0.],\n",
              "           [0., 0., 0.,  ..., 0., 0., 0.]],\n",
              " \n",
              "          [[0., 0., 0.,  ..., 0., 0., 0.],\n",
              "           [0., 0., 0.,  ..., 0., 0., 0.],\n",
              "           [0., 0., 0.,  ..., 0., 0., 0.],\n",
              "           ...,\n",
              "           [0., 0., 0.,  ..., 0., 0., 0.],\n",
              "           [0., 0., 0.,  ..., 0., 0., 0.],\n",
              "           [0., 0., 0.,  ..., 0., 0., 0.]],\n",
              " \n",
              "          [[0., 0., 0.,  ..., 0., 0., 0.],\n",
              "           [0., 0., 0.,  ..., 0., 0., 0.],\n",
              "           [0., 0., 0.,  ..., 0., 0., 0.],\n",
              "           ...,\n",
              "           [0., 0., 0.,  ..., 0., 0., 0.],\n",
              "           [0., 0., 0.,  ..., 0., 0., 0.],\n",
              "           [0., 0., 0.,  ..., 0., 0., 0.]],\n",
              " \n",
              "          ...,\n",
              " \n",
              "          [[0., 0., 0.,  ..., 0., 0., 0.],\n",
              "           [0., 0., 0.,  ..., 0., 0., 0.],\n",
              "           [0., 0., 0.,  ..., 0., 0., 0.],\n",
              "           ...,\n",
              "           [0., 0., 0.,  ..., 0., 0., 0.],\n",
              "           [0., 0., 0.,  ..., 0., 0., 0.],\n",
              "           [0., 0., 0.,  ..., 0., 0., 0.]],\n",
              " \n",
              "          [[0., 0., 0.,  ..., 0., 0., 0.],\n",
              "           [0., 0., 0.,  ..., 0., 0., 0.],\n",
              "           [0., 0., 0.,  ..., 0., 0., 0.],\n",
              "           ...,\n",
              "           [0., 0., 0.,  ..., 0., 0., 0.],\n",
              "           [0., 0., 0.,  ..., 0., 0., 0.],\n",
              "           [0., 0., 0.,  ..., 0., 0., 0.]],\n",
              " \n",
              "          [[0., 0., 0.,  ..., 0., 0., 0.],\n",
              "           [0., 0., 0.,  ..., 0., 0., 0.],\n",
              "           [0., 0., 0.,  ..., 0., 0., 0.],\n",
              "           ...,\n",
              "           [0., 0., 0.,  ..., 0., 0., 0.],\n",
              "           [0., 0., 0.,  ..., 0., 0., 0.],\n",
              "           [0., 0., 0.,  ..., 0., 0., 0.]]]])}"
            ]
          },
          "execution_count": 10,
          "metadata": {},
          "output_type": "execute_result"
        }
      ],
      "source": [
        "val_dataset[0]"
      ]
    },
    {
      "cell_type": "code",
      "execution_count": 12,
      "metadata": {},
      "outputs": [
        {
          "name": "stderr",
          "output_type": "stream",
          "text": [
            "  0%|          | 0/12 [00:00<?, ?it/s]"
          ]
        },
        {
          "name": "stdout",
          "output_type": "stream",
          "text": [
            "Patient 0 has 369 slices\n"
          ]
        },
        {
          "name": "stderr",
          "output_type": "stream",
          "text": [
            " 25%|██▌       | 3/12 [00:02<00:05,  1.53it/s]"
          ]
        },
        {
          "name": "stdout",
          "output_type": "stream",
          "text": [
            "Patient 1 has 255 slices\n",
            "Patient 2 has 288 slices\n"
          ]
        },
        {
          "name": "stderr",
          "output_type": "stream",
          "text": [
            " 42%|████▏     | 5/12 [00:03<00:03,  1.82it/s]"
          ]
        },
        {
          "name": "stdout",
          "output_type": "stream",
          "text": [
            "Patient 3 has 376 slices\n",
            "Patient 4 has 112 slices\n"
          ]
        },
        {
          "name": "stderr",
          "output_type": "stream",
          "text": [
            " 58%|█████▊    | 7/12 [00:04<00:02,  1.82it/s]"
          ]
        },
        {
          "name": "stdout",
          "output_type": "stream",
          "text": [
            "Patient 5 has 245 slices\n",
            "Patient 6 has 252 slices\n"
          ]
        },
        {
          "name": "stderr",
          "output_type": "stream",
          "text": [
            " 75%|███████▌  | 9/12 [00:04<00:01,  2.19it/s]"
          ]
        },
        {
          "name": "stdout",
          "output_type": "stream",
          "text": [
            "Patient 7 has 231 slices\n",
            "Patient 8 has 129 slices\n"
          ]
        },
        {
          "name": "stderr",
          "output_type": "stream",
          "text": [
            " 92%|█████████▏| 11/12 [00:06<00:00,  1.51it/s]"
          ]
        },
        {
          "name": "stdout",
          "output_type": "stream",
          "text": [
            "Patient 9 has 240 slices\n",
            "Patient 10 has 493 slices\n"
          ]
        },
        {
          "name": "stderr",
          "output_type": "stream",
          "text": [
            "100%|██████████| 12/12 [00:07<00:00,  1.67it/s]"
          ]
        },
        {
          "name": "stdout",
          "output_type": "stream",
          "text": [
            "Patient 11 has 264 slices\n",
            "Saved 12 images and masks for validation split\n"
          ]
        },
        {
          "name": "stderr",
          "output_type": "stream",
          "text": [
            "\n"
          ]
        }
      ],
      "source": [
        "save_dataset(val_dataset, 'MedicalDecathlonJustTumors', val_name)"
      ]
    }
  ],
  "metadata": {
    "accelerator": "GPU",
    "colab": {
      "provenance": []
    },
    "gpuClass": "standard",
    "kernelspec": {
      "display_name": "Python 3 (ipykernel)",
      "language": "python",
      "name": "python3"
    },
    "language_info": {
      "codemirror_mode": {
        "name": "ipython",
        "version": 3
      },
      "file_extension": ".py",
      "mimetype": "text/x-python",
      "name": "python",
      "nbconvert_exporter": "python",
      "pygments_lexer": "ipython3",
      "version": "3.9.13"
    }
  },
  "nbformat": 4,
  "nbformat_minor": 0
}
