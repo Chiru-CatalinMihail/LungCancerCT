{
  "cells": [
    {
      "cell_type": "markdown",
      "metadata": {},
      "source": [
        "# Files tree\n",
        "\n",
        "```\n",
        "./datasets\n",
        "|\n",
        "+---------MedicalDecathlon\n",
        "|                   |\n",
        "|                   +-----training\n",
        "|                   |         |\n",
        "|                   |         |\n",
        "|                   |         +--- archives with the cts in nii.gz format\n",
        "|                   |\n",
        "|                   |\n",
        "|                   |\n",
        "|                   +-----validation\n",
        "|                             |\n",
        "|                             |\n",
        "|                             +--- archives with the cts in nii.gz format\n",
        "|\n",
        "|\n",
        "|\n",
        "+---------MedicalDecathlonTensors\n",
        "|                   |\n",
        "|                   +-----training\n",
        "|                   |         |\n",
        "|                   |         |\n",
        "|                   |         +--- files with the cts as tensors\n",
        "|                   |\n",
        "|                   |\n",
        "|                   |\n",
        "|                   +-----validation\n",
        "|                             |\n",
        "|                             |\n",
        "|                             +---  files with the cts as tensors\n",
        "|\n",
        "|\n",
        "|\n",
        "|\n",
        "+---------MedicalDecathlonJustLungs\n",
        "|                   |\n",
        "|                   +-----training\n",
        "|                   |         |\n",
        "|                   |         |\n",
        "|                   |         +--- files with the cts as tensors\n",
        "|                   |\n",
        "|                   |\n",
        "|                   |\n",
        "|                   +-----validation\n",
        "|                             |\n",
        "|                             |\n",
        "|                             +---  files with the cts as tensors\n",
        "|\n",
        "|\n",
        "|\n",
        "+---------MedicalDecathlonJustTumours\n",
        "                    |\n",
        "                    +-----training\n",
        "                    |         |\n",
        "                    |         |\n",
        "                    |         +--- files with the cts as tensors\n",
        "                    |\n",
        "                    |\n",
        "                    |\n",
        "                    +-----validation\n",
        "                              |\n",
        "                              |\n",
        "                              +---  files with the cts as tensors\n",
        "\n",
        "\n",
        "```\n"
      ]
    },
    {
      "cell_type": "markdown",
      "metadata": {},
      "source": [
        "### IMPORTS"
      ]
    },
    {
      "cell_type": "code",
      "execution_count": 22,
      "metadata": {},
      "outputs": [],
      "source": [
        "import os\n",
        "import warnings\n",
        "warnings.filterwarnings(\"ignore\") # remove some scikit-image warnings\n",
        "\n",
        "\n",
        "from monai.apps import DecathlonDataset\n",
        "from monai.data import DataLoader\n",
        "from monai.transforms import (\n",
        "    LoadImageD,\n",
        "    EnsureChannelFirstD,\n",
        "    Compose,\n",
        "    OrientationD,\n",
        "    OrientationD,\n",
        ")\n",
        "\n",
        "import torch\n",
        "import numpy as np\n",
        "import random\n",
        "import sys\n",
        "from tqdm import tqdm\n",
        "import pickle as pkl\n",
        "import matplotlib.pyplot as plt"
      ]
    },
    {
      "cell_type": "code",
      "execution_count": 23,
      "metadata": {},
      "outputs": [],
      "source": [
        "import cv2"
      ]
    },
    {
      "cell_type": "markdown",
      "metadata": {},
      "source": [
        "### HYPERPARAMS ###\n"
      ]
    },
    {
      "cell_type": "code",
      "execution_count": 24,
      "metadata": {},
      "outputs": [],
      "source": [
        "crt_dir = os.getcwd()\n",
        "datasets_path = f'{crt_dir}/datasets/MedicalDecathlon/'\n",
        "\n",
        "DOWNLOAD_FLAG = False\n",
        "BATCH_SIZE = 1\n",
        "\n",
        "KEYS = [\"image\", \"label\"]"
      ]
    },
    {
      "cell_type": "markdown",
      "metadata": {},
      "source": [
        "### PREPROCESSING TRANSFORMS"
      ]
    },
    {
      "cell_type": "code",
      "execution_count": 25,
      "metadata": {},
      "outputs": [],
      "source": [
        "base_transform = Compose([\n",
        "    LoadImageD(keys=KEYS),\n",
        "    EnsureChannelFirstD(keys=KEYS),\n",
        "    OrientationD(keys=KEYS, axcodes='RAS'),\n",
        "])"
      ]
    },
    {
      "cell_type": "code",
      "execution_count": 26,
      "metadata": {},
      "outputs": [
        {
          "name": "stderr",
          "output_type": "stream",
          "text": [
            "Loading dataset: 100%|██████████| 51/51 [03:24<00:00,  4.02s/it]\n"
          ]
        }
      ],
      "source": [
        "### TRAINING DATA ###\n",
        "train_name = 'training' # From Monai: ['training', 'validation', 'test']\n",
        "train_dataset = DecathlonDataset(root_dir = f'{datasets_path}{train_name}/',\n",
        "                        task = \"Task06_Lung\", section = train_name,\n",
        "                        transform = base_transform, download = DOWNLOAD_FLAG)\n",
        "\n",
        "train_loader = DataLoader(train_dataset, batch_size = BATCH_SIZE, shuffle = False) #, num_workers = num_workers)"
      ]
    },
    {
      "cell_type": "markdown",
      "metadata": {},
      "source": [
        "### MAIN ###"
      ]
    },
    {
      "cell_type": "code",
      "execution_count": 27,
      "metadata": {},
      "outputs": [],
      "source": [
        "# We make sure to eliminate uncertainty in the data loading, by setting all the random seeds\n",
        "\n",
        "# Set random seeds\n",
        "torch.manual_seed(0)\n",
        "np.random.seed(0)\n",
        "random.seed(0)"
      ]
    },
    {
      "cell_type": "code",
      "execution_count": 28,
      "metadata": {},
      "outputs": [],
      "source": [
        "# Memoize stacks in between, where we find the lungs\n",
        "# Based on the radiologist, some CTs start from kidney area up to the cervical backbone\n",
        "patient_useful_slices = {\n",
        "    0 : {'start': 60, 'stop': 557},\n",
        "    1 : {'start': 20 , 'stop': 243},\n",
        "    2 : {'start': 0, 'stop': 213},\n",
        "    3 : {'start': 48, 'stop': 437},\n",
        "    4 : {'start': 52, 'stop': 258},\n",
        "    5 : {'start': 59, 'stop': 244},\n",
        "    6 : {'start': 9, 'stop': 122},\n",
        "    7 : {'start': 44, 'stop': 260},\n",
        "    8 : {'start': 3, 'stop': 237},\n",
        "    9 : {'start': 330 , 'stop': 623},\n",
        "    10 : {'start': 56, 'stop': 280},\n",
        "    11 : {'start': 26, 'stop': 292},\n",
        "    12 : {'start': 0, 'stop': 108},\n",
        "    13 : {'start': 10, 'stop': 227},\n",
        "    14 : {'start': 25, 'stop': 231},\n",
        "    15 : {'start': 35, 'stop': 280},\n",
        "    16 : {'start': 37, 'stop': 262},\n",
        "    17 : {'start': 29, 'stop': 266},\n",
        "    18 : {'start': 48, 'stop': 261},\n",
        "    19 : {'start': 65, 'stop': 275},\n",
        "    20 : {'start': 145, 'stop': 520},\n",
        "    21 : {'start': 0, 'stop': 397},\n",
        "    22 : {'start': 9, 'stop': 225},\n",
        "    23 : {'start': 6, 'stop': 227},\n",
        "    24 : {'start': 15, 'stop': 239},\n",
        "    25 : {'start': 40, 'stop': 149},\n",
        "    26 : {'start': 30, 'stop': 231},\n",
        "    27 : {'start': 49, 'stop': 295},\n",
        "    28 : {'start': 33, 'stop': 217},\n",
        "    29 : {'start': 50, 'stop': 311},\n",
        "    30 : {'start': 0, 'stop': 213},\n",
        "    31 : {'start': 22, 'stop': 248},\n",
        "    32 : {'start': 88, 'stop': 493},\n",
        "    33 : {'start': 116, 'stop': 439},\n",
        "    34 : {'start': 40, 'stop': 300},\n",
        "    35 : {'start': 0, 'stop': 227},\n",
        "    36 : {'start': 0, 'stop': 198},\n",
        "    37 : {'start': 0, 'stop': 120},\n",
        "    38 : {'start': 0, 'stop': 203},\n",
        "    39 : {'start': 44, 'stop': 228},\n",
        "    40 : {'start': 0, 'stop': 229},\n",
        "    41 : {'start': 35, 'stop': 250},\n",
        "    42 : {'start': 48, 'stop': 243},\n",
        "    43 : {'start': 5, 'stop': 230},\n",
        "    44 : {'start': 88, 'stop': 314},\n",
        "    45 : {'start': 7, 'stop': 220},\n",
        "    46 : {'start': 11, 'stop': 232},\n",
        "    47 : {'start': 21, 'stop': 229},\n",
        "    48 : {'start': 4, 'stop': 255},\n",
        "    49 : {'start': 2, 'stop': 122},\n",
        "    50 : {'start': 14, 'stop': 119}\n",
        "}"
      ]
    },
    {
      "cell_type": "code",
      "execution_count": 29,
      "metadata": {},
      "outputs": [],
      "source": [
        "# Memoize stacks where the tumor is present\n",
        "# Computed in MSD EDA notebook\n",
        "patient_tumorous_slices = {\n",
        "    0: {'start': 326, 'stop': 411},\n",
        "    1: {'start': 171, 'stop': 227},\n",
        "    2: {'start': 147, 'stop': 193},\n",
        "    3: {'start': 303, 'stop': 335},\n",
        "    4: {'start': 141, 'stop': 167},\n",
        "    5: {'start': 131, 'stop': 188},\n",
        "    6: {'start': 71, 'stop': 95},\n",
        "    7: {'start': 164, 'stop': 192},\n",
        "    8: {'start': 145, 'stop': 180},\n",
        "    9: {'start': 513, 'stop': 549},\n",
        "    10: {'start': 197, 'stop': 272},\n",
        "    11: {'start': 223, 'stop': 258},\n",
        "    12: {'start': 59, 'stop': 83},\n",
        "    13: {'start': 59, 'stop': 99},\n",
        "    14: {'start': 178, 'stop': 207},\n",
        "    15: {'start': 141, 'stop': 172},\n",
        "    16: {'start': 127, 'stop': 177},\n",
        "    17: {'start': 192, 'stop': 221},\n",
        "    18: {'start': 209, 'stop': 239},\n",
        "    19: {'start': 152, 'stop': 194},\n",
        "    20: {'start': 439, 'stop': 494},\n",
        "    21: {'start': 291, 'stop': 341},\n",
        "    22: {'start': 136, 'stop': 180},\n",
        "    23: {'start': 137, 'stop': 169},\n",
        "    24: {'start': 84, 'stop': 112},\n",
        "    25: {'start': 82, 'stop': 109},\n",
        "    26: {'start': 79, 'stop': 126},\n",
        "    27: {'start': 208, 'stop': 293},\n",
        "    28: {'start': 137, 'stop': 173},\n",
        "    29: {'start': 120, 'stop': 149},\n",
        "    30: {'start': 130, 'stop': 173},\n",
        "    31: {'start': 97, 'stop': 123},\n",
        "    32: {'start': 356, 'stop': 415},\n",
        "    33: {'start': 203, 'stop': 287},\n",
        "    34: {'start': 200, 'stop': 228},\n",
        "    35: {'start': 148, 'stop': 184},\n",
        "    36: {'start': 79, 'stop': 105},\n",
        "    37: {'start': 66, 'stop': 100},\n",
        "    38: {'start': 117, 'stop': 143},\n",
        "    39: {'start': 111, 'stop': 181},\n",
        "    40: {'start': 140, 'stop': 165},\n",
        "    41: {'start': 80, 'stop': 109},\n",
        "    42: {'start': 79, 'stop': 172},\n",
        "    43: {'start': 153, 'stop': 204},\n",
        "    44: {'start': 147, 'stop': 188},\n",
        "    45: {'start': 113, 'stop': 142},\n",
        "    46: {'start': 83, 'stop': 113},\n",
        "    47: {'start': 140, 'stop': 234},\n",
        "    48: {'start': 141, 'stop': 170},\n",
        "    49: {'start': 99, 'stop': 120},\n",
        "    50: {'start': 68, 'stop': 92}\n",
        "}"
      ]
    },
    {
      "cell_type": "code",
      "execution_count": 30,
      "metadata": {},
      "outputs": [],
      "source": [
        "# Memoize the bounding boxes for 2D slices to remove the bed and other noise signals\n",
        "# More details in niibabel.ipynb\n",
        "bbox_2d = (60, 450, 119, 425)\n"
      ]
    },
    {
      "cell_type": "code",
      "execution_count": 31,
      "metadata": {},
      "outputs": [],
      "source": [
        "crt_patient = train_dataset[0]['image']"
      ]
    },
    {
      "cell_type": "code",
      "execution_count": 32,
      "metadata": {},
      "outputs": [],
      "source": [
        "from copy import deepcopy"
      ]
    },
    {
      "cell_type": "code",
      "execution_count": 33,
      "metadata": {},
      "outputs": [],
      "source": [
        "\n",
        "def min_max_normalize(img):\n",
        "    no_stacks = img.shape[-1]\n",
        "\n",
        "    for i in range(no_stacks):\n",
        "        img[:, :, :, i] = (img[:, :, :, i] - img[:, :, :, i].min()) / (img[:, :, :, i].max() - img[:, :, :, i].min())\n",
        "\n",
        "    return img\n",
        "\n",
        "def clahe_normalize(img, clahe_filter):\n",
        "    print('CLAHE normalization')\n",
        "    no_stacks = img.shape[-1]\n",
        "\n",
        "    for i in range(no_stacks):\n",
        "        img[0, ..., i]  = torch.Tensor(clahe_filter.apply(img[0, ..., i].numpy().astype(np.uint8)))\n",
        "\n",
        "    return img\n",
        "\n",
        "def remove_bed(img, bbox):\n",
        "    '''\n",
        "    Remove the bed from the image\n",
        "    '''\n",
        "\n",
        "    min_img = img.min()\n",
        "    new_img = torch.ones_like(img) * min_img\n",
        "\n",
        "    new_img[:, bbox[0]:bbox[1], bbox[2]:bbox[3], :] = img[:, bbox[0]:bbox[1], bbox[2]:bbox[3], :] \n",
        "\n",
        "    return new_img\n",
        "\n",
        "\n",
        "def save_dataset(dataset, dataset_name, split_name, take_slices_flag : bool = False, slices : {int : {str : int}} = None, normalize_flag : bool = False, normalization_method : str = 'min-max', remove_bed_flag : bool = False, lungs_bbox : (int, int, int, int) = None):\n",
        "    '''\n",
        "    Save the dataset to the disk per patient as two files: image and mask\n",
        "    '''\n",
        "\n",
        "    if not os.path.exists(f'{crt_dir}/datasets/{dataset_name}/'):\n",
        "        os.makedirs(f'{crt_dir}/datasets/{dataset_name}/')\n",
        "        os.makedirs(f'{crt_dir}/datasets/{dataset_name}/{split_name}/images/')\n",
        "        os.makedirs(f'{crt_dir}/datasets/{dataset_name}/{split_name}/labels/')\n",
        "\n",
        "\n",
        "    if not os.path.exists(f'{crt_dir}/datasets/{dataset_name}/{split_name}/'):\n",
        "        os.makedirs(f'{crt_dir}/datasets/{dataset_name}/{split_name}/')\n",
        "        os.makedirs(f'{crt_dir}/datasets/{dataset_name}/{split_name}/images/')\n",
        "        os.makedirs(f'{crt_dir}/datasets/{dataset_name}/{split_name}/labels/')\n",
        "\n",
        "    for i, data in enumerate(tqdm(dataset)):\n",
        "        img, label = data['image'], data['label']\n",
        "                \n",
        "        new_img = img.cpu()\n",
        "        new_label = label.cpu()\n",
        "\n",
        "        # plt.imshow(img[0, ..., 5], cmap='gray')\n",
        "        # plt.show()\n",
        "\n",
        "        if take_slices_flag:\n",
        "            print(slices[i]['start'], slices[i]['stop'])\n",
        "            new_img = new_img[:, :, :, slices[i]['start'] : (slices[i]['stop']+1)]\n",
        "            new_label = new_label[:, :, :, slices[i]['start'] : (slices[i]['stop']+1)]\n",
        "\n",
        "\n",
        "        # print(f'Patient {i} has {img.shape[-1]} slices')\n",
        "\n",
        "        # plt.imshow(new_img[0, ..., 5], cmap='gray')\n",
        "        # plt.show()\n",
        "        # sys.exit()\n",
        "\n",
        "\n",
        "        if normalize_flag:\n",
        "            if normalization_method == 'min-max':\n",
        "                new_img = min_max_normalize(new_img)\n",
        "            elif normalization_method == 'clahe':\n",
        "                _clipLimit = 4.0\n",
        "                clahe_filter = cv2.createCLAHE(clipLimit = _clipLimit)\n",
        "\n",
        "\n",
        "                # plt.imshow(img[0, ..., 5], cmap='gray')\n",
        "                # plt.show()\n",
        "\n",
        "\n",
        "                new_img = clahe_normalize(new_img, clahe_filter)\n",
        "            else:\n",
        "                raise ValueError('Invalid normalization method')\n",
        "\n",
        "        # plt.imshow(img[0, ..., 5], cmap='gray')\n",
        "        # plt.show()\n",
        "            \n",
        "        if remove_bed_flag:\n",
        "            new_img = remove_bed(new_img, lungs_bbox)\n",
        "\n",
        "        # plt.imshow(img[0, ..., 5], cmap='gray')\n",
        "        # plt.show()\n",
        "        # plt.figure().clear()\n",
        "        # plt.close('all')\n",
        "        # sys.exit()\n",
        "\n",
        "\n",
        "        print(f'Patient {i} has {img.shape[-1]} slices')\n",
        "\n",
        "        filename = f'{crt_dir}/datasets/{dataset_name}/{split_name}/images/patient_{i}.pt'\n",
        "        maskname = f'{crt_dir}/datasets/{dataset_name}/{split_name}/labels/patient_{i}.pt'\n",
        "\n",
        "        torch.save(new_img, filename)\n",
        "        torch.save(new_label, maskname)\n",
        "\n",
        "\n",
        "    print(f'Saved {i} images and masks for {split_name} split')"
      ]
    },
    {
      "cell_type": "code",
      "execution_count": 280,
      "metadata": {},
      "outputs": [
        {
          "name": "stderr",
          "output_type": "stream",
          "text": [
            "  0%|          | 0/51 [00:00<?, ?it/s]"
          ]
        },
        {
          "data": {
            "image/png": "[encoded data removed]",
            "text/plain": [
              "<Figure size 640x480 with 1 Axes>"
            ]
          },
          "metadata": {},
          "output_type": "display_data"
        },
        {
          "name": "stderr",
          "output_type": "stream",
          "text": [
            "  0%|          | 0/51 [00:00<?, ?it/s]\n"
          ]
        },
        {
          "name": "stdout",
          "output_type": "stream",
          "text": [
            "Patient 0 has 589 slices\n"
          ]
        },
        {
          "ename": "UnboundLocalError",
          "evalue": "local variable 'new_img' referenced before assignment",
          "output_type": "error",
          "traceback": [
            "\u001b[0;31m---------------------------------------------------------------------------\u001b[0m",
            "\u001b[0;31mUnboundLocalError\u001b[0m                         Traceback (most recent call last)",
            "\u001b[0;32m/tmp/ipykernel_130596/3529797347.py\u001b[0m in \u001b[0;36m<module>\u001b[0;34m\u001b[0m\n\u001b[0;32m----> 1\u001b[0;31m \u001b[0msave_dataset\u001b[0m\u001b[0;34m(\u001b[0m\u001b[0mtrain_dataset\u001b[0m\u001b[0;34m,\u001b[0m \u001b[0;34m'MedicalDecathlonTensors'\u001b[0m\u001b[0;34m,\u001b[0m \u001b[0mtrain_name\u001b[0m\u001b[0;34m)\u001b[0m\u001b[0;34m\u001b[0m\u001b[0;34m\u001b[0m\u001b[0m\n\u001b[0m",
            "\u001b[0;32m/tmp/ipykernel_130596/3475109346.py\u001b[0m in \u001b[0;36msave_dataset\u001b[0;34m(dataset, dataset_name, split_name, take_slices_flag, slices, normalize_flag, normalization_method, remove_bed_flag, lungs_bbox)\u001b[0m\n\u001b[1;32m     62\u001b[0m         \u001b[0mprint\u001b[0m\u001b[0;34m(\u001b[0m\u001b[0;34mf'Patient {i} has {img.shape[-1]} slices'\u001b[0m\u001b[0;34m)\u001b[0m\u001b[0;34m\u001b[0m\u001b[0;34m\u001b[0m\u001b[0m\n\u001b[1;32m     63\u001b[0m \u001b[0;34m\u001b[0m\u001b[0m\n\u001b[0;32m---> 64\u001b[0;31m         \u001b[0mplt\u001b[0m\u001b[0;34m.\u001b[0m\u001b[0mimshow\u001b[0m\u001b[0;34m(\u001b[0m\u001b[0mnew_img\u001b[0m\u001b[0;34m[\u001b[0m\u001b[0;36m0\u001b[0m\u001b[0;34m,\u001b[0m \u001b[0;34m...\u001b[0m\u001b[0;34m,\u001b[0m \u001b[0;36m5\u001b[0m\u001b[0;34m]\u001b[0m\u001b[0;34m,\u001b[0m \u001b[0mcmap\u001b[0m\u001b[0;34m=\u001b[0m\u001b[0;34m'gray'\u001b[0m\u001b[0;34m)\u001b[0m\u001b[0;34m\u001b[0m\u001b[0;34m\u001b[0m\u001b[0m\n\u001b[0m\u001b[1;32m     65\u001b[0m         \u001b[0mplt\u001b[0m\u001b[0;34m.\u001b[0m\u001b[0mshow\u001b[0m\u001b[0;34m(\u001b[0m\u001b[0;34m)\u001b[0m\u001b[0;34m\u001b[0m\u001b[0;34m\u001b[0m\u001b[0m\n\u001b[1;32m     66\u001b[0m         \u001b[0msys\u001b[0m\u001b[0;34m.\u001b[0m\u001b[0mexit\u001b[0m\u001b[0;34m(\u001b[0m\u001b[0;34m)\u001b[0m\u001b[0;34m\u001b[0m\u001b[0;34m\u001b[0m\u001b[0m\n",
            "\u001b[0;31mUnboundLocalError\u001b[0m: local variable 'new_img' referenced before assignment"
          ]
        }
      ],
      "source": [
        "# save_dataset(train_dataset, 'MedicalDecathlonTensors', train_name)"
      ]
    },
    {
      "cell_type": "code",
      "execution_count": 281,
      "metadata": {},
      "outputs": [
        {
          "name": "stderr",
          "output_type": "stream",
          "text": [
            "  0%|          | 0/51 [00:00<?, ?it/s]"
          ]
        },
        {
          "data": {
            "image/png": "[encoded data removed]",
            "text/plain": [
              "<Figure size 640x480 with 1 Axes>"
            ]
          },
          "metadata": {},
          "output_type": "display_data"
        },
        {
          "name": "stdout",
          "output_type": "stream",
          "text": [
            "60 557\n",
            "Patient 0 has 589 slices\n"
          ]
        },
        {
          "data": {
            "image/png": "[encoded data removed]",
            "text/plain": [
              "<Figure size 640x480 with 1 Axes>"
            ]
          },
          "metadata": {},
          "output_type": "display_data"
        },
        {
          "name": "stderr",
          "output_type": "stream",
          "text": [
            "  0%|          | 0/51 [00:00<?, ?it/s]\n"
          ]
        },
        {
          "ename": "SystemExit",
          "evalue": "",
          "output_type": "error",
          "traceback": [
            "An exception has occurred, use %tb to see the full traceback.\n",
            "\u001b[0;31mSystemExit\u001b[0m\n"
          ]
        }
      ],
      "source": [
        "save_dataset(train_dataset, 'MedicalDecathlonJustLungs', train_name, take_slices_flag = True, slices = patient_useful_slices)"
      ]
    },
    {
      "cell_type": "code",
      "execution_count": 310,
      "metadata": {},
      "outputs": [
        {
          "ename": "",
          "evalue": "",
          "output_type": "error",
          "traceback": [
            "\u001b[1;31mThe Kernel crashed while executing code in the current cell or a previous cell. \n",
            "\u001b[1;31mPlease review the code in the cell(s) to identify a possible cause of the failure. \n",
            "\u001b[1;31mClick <a href='https://aka.ms/vscodeJupyterKernelCrash'>here</a> for more info. \n",
            "\u001b[1;31mView Jupyter <a href='command:jupyter.viewOutput'>log</a> for further details."
          ]
        }
      ],
      "source": [
        "# save_dataset(train_dataset, 'MedicalDecathlonJustTumors', train_name, take_slices_flag = True, slices = patient_tumorous_slices)"
      ]
    },
    {
      "cell_type": "code",
      "execution_count": 34,
      "metadata": {},
      "outputs": [
        {
          "name": "stderr",
          "output_type": "stream",
          "text": [
            "  0%|          | 0/51 [00:00<?, ?it/s]"
          ]
        },
        {
          "name": "stdout",
          "output_type": "stream",
          "text": [
            "60 557\n",
            "Patient 0 has 589 slices\n"
          ]
        },
        {
          "name": "stderr",
          "output_type": "stream",
          "text": [
            "  2%|▏         | 1/51 [00:04<04:00,  4.81s/it]"
          ]
        },
        {
          "name": "stdout",
          "output_type": "stream",
          "text": [
            "20 243\n",
            "Patient 1 has 267 slices\n"
          ]
        },
        {
          "name": "stderr",
          "output_type": "stream",
          "text": [
            "  4%|▍         | 2/51 [00:06<02:36,  3.20s/it]"
          ]
        },
        {
          "name": "stdout",
          "output_type": "stream",
          "text": [
            "0 213\n",
            "Patient 2 has 227 slices\n"
          ]
        },
        {
          "name": "stderr",
          "output_type": "stream",
          "text": [
            "  6%|▌         | 3/51 [00:08<02:03,  2.57s/it]"
          ]
        },
        {
          "name": "stdout",
          "output_type": "stream",
          "text": [
            "48 437\n",
            "Patient 3 has 450 slices\n"
          ]
        },
        {
          "name": "stderr",
          "output_type": "stream",
          "text": [
            "  8%|▊         | 4/51 [00:12<02:18,  2.95s/it]"
          ]
        },
        {
          "name": "stdout",
          "output_type": "stream",
          "text": [
            "52 258\n",
            "Patient 4 has 277 slices\n"
          ]
        },
        {
          "name": "stderr",
          "output_type": "stream",
          "text": [
            " 10%|▉         | 5/51 [00:14<01:59,  2.59s/it]"
          ]
        },
        {
          "name": "stdout",
          "output_type": "stream",
          "text": [
            "59 244\n",
            "Patient 5 has 260 slices\n"
          ]
        },
        {
          "name": "stderr",
          "output_type": "stream",
          "text": [
            " 12%|█▏        | 6/51 [00:15<01:44,  2.33s/it]"
          ]
        },
        {
          "name": "stdout",
          "output_type": "stream",
          "text": [
            "9 122\n",
            "Patient 6 has 125 slices\n"
          ]
        },
        {
          "name": "stderr",
          "output_type": "stream",
          "text": [
            " 14%|█▎        | 7/51 [00:17<01:24,  1.91s/it]"
          ]
        },
        {
          "name": "stdout",
          "output_type": "stream",
          "text": [
            "44 260\n",
            "Patient 7 has 273 slices\n"
          ]
        },
        {
          "name": "stderr",
          "output_type": "stream",
          "text": [
            " 16%|█▌        | 8/51 [00:19<01:23,  1.94s/it]"
          ]
        },
        {
          "name": "stdout",
          "output_type": "stream",
          "text": [
            "3 237\n",
            "Patient 8 has 251 slices\n"
          ]
        },
        {
          "name": "stderr",
          "output_type": "stream",
          "text": [
            " 18%|█▊        | 9/51 [00:21<01:22,  1.96s/it]"
          ]
        },
        {
          "name": "stdout",
          "output_type": "stream",
          "text": [
            "330 623\n",
            "Patient 9 has 636 slices\n"
          ]
        },
        {
          "name": "stderr",
          "output_type": "stream",
          "text": [
            " 20%|█▉        | 10/51 [00:24<01:40,  2.45s/it]"
          ]
        },
        {
          "name": "stdout",
          "output_type": "stream",
          "text": [
            "56 280\n",
            "Patient 10 has 301 slices\n"
          ]
        },
        {
          "name": "stderr",
          "output_type": "stream",
          "text": [
            " 22%|██▏       | 11/51 [00:26<01:34,  2.36s/it]"
          ]
        },
        {
          "name": "stdout",
          "output_type": "stream",
          "text": [
            "26 292\n",
            "Patient 11 has 304 slices\n"
          ]
        },
        {
          "name": "stderr",
          "output_type": "stream",
          "text": [
            " 24%|██▎       | 12/51 [00:29<01:32,  2.38s/it]"
          ]
        },
        {
          "name": "stdout",
          "output_type": "stream",
          "text": [
            "0 108\n",
            "Patient 12 has 115 slices\n"
          ]
        },
        {
          "name": "stderr",
          "output_type": "stream",
          "text": [
            " 25%|██▌       | 13/51 [00:30<01:14,  1.95s/it]"
          ]
        },
        {
          "name": "stdout",
          "output_type": "stream",
          "text": [
            "10 227\n",
            "Patient 13 has 241 slices\n"
          ]
        },
        {
          "name": "stderr",
          "output_type": "stream",
          "text": [
            " 27%|██▋       | 14/51 [00:32<01:12,  1.95s/it]"
          ]
        },
        {
          "name": "stdout",
          "output_type": "stream",
          "text": [
            "25 231\n",
            "Patient 14 has 249 slices\n"
          ]
        },
        {
          "name": "stderr",
          "output_type": "stream",
          "text": [
            " 29%|██▉       | 15/51 [00:34<01:10,  1.95s/it]"
          ]
        },
        {
          "name": "stdout",
          "output_type": "stream",
          "text": [
            "35 280\n",
            "Patient 15 has 289 slices\n"
          ]
        },
        {
          "name": "stderr",
          "output_type": "stream",
          "text": [
            " 31%|███▏      | 16/51 [00:36<01:11,  2.03s/it]"
          ]
        },
        {
          "name": "stdout",
          "output_type": "stream",
          "text": [
            "37 262\n",
            "Patient 16 has 282 slices\n"
          ]
        },
        {
          "name": "stderr",
          "output_type": "stream",
          "text": [
            " 33%|███▎      | 17/51 [00:38<01:09,  2.04s/it]"
          ]
        },
        {
          "name": "stdout",
          "output_type": "stream",
          "text": [
            "29 266\n",
            "Patient 17 has 291 slices\n"
          ]
        },
        {
          "name": "stderr",
          "output_type": "stream",
          "text": [
            " 35%|███▌      | 18/51 [00:40<01:08,  2.08s/it]"
          ]
        },
        {
          "name": "stdout",
          "output_type": "stream",
          "text": [
            "48 261\n",
            "Patient 18 has 276 slices\n"
          ]
        },
        {
          "name": "stderr",
          "output_type": "stream",
          "text": [
            " 37%|███▋      | 19/51 [00:42<01:05,  2.03s/it]"
          ]
        },
        {
          "name": "stdout",
          "output_type": "stream",
          "text": [
            "65 275\n",
            "Patient 19 has 296 slices\n"
          ]
        },
        {
          "name": "stderr",
          "output_type": "stream",
          "text": [
            " 39%|███▉      | 20/51 [00:44<01:03,  2.06s/it]"
          ]
        },
        {
          "name": "stdout",
          "output_type": "stream",
          "text": [
            "145 520\n",
            "Patient 20 has 567 slices\n"
          ]
        },
        {
          "name": "stderr",
          "output_type": "stream",
          "text": [
            " 41%|████      | 21/51 [00:48<01:16,  2.57s/it]"
          ]
        },
        {
          "name": "stdout",
          "output_type": "stream",
          "text": [
            "0 397\n",
            "Patient 21 has 423 slices\n"
          ]
        },
        {
          "name": "stderr",
          "output_type": "stream",
          "text": [
            " 43%|████▎     | 22/51 [00:53<01:34,  3.25s/it]"
          ]
        },
        {
          "name": "stdout",
          "output_type": "stream",
          "text": [
            "9 225\n",
            "Patient 22 has 242 slices\n"
          ]
        },
        {
          "name": "stderr",
          "output_type": "stream",
          "text": [
            " 45%|████▌     | 23/51 [00:55<01:20,  2.86s/it]"
          ]
        },
        {
          "name": "stdout",
          "output_type": "stream",
          "text": [
            "6 227\n",
            "Patient 23 has 243 slices\n"
          ]
        },
        {
          "name": "stderr",
          "output_type": "stream",
          "text": [
            " 47%|████▋     | 24/51 [00:56<01:06,  2.47s/it]"
          ]
        },
        {
          "name": "stdout",
          "output_type": "stream",
          "text": [
            "15 239\n",
            "Patient 24 has 251 slices\n"
          ]
        },
        {
          "name": "stderr",
          "output_type": "stream",
          "text": [
            " 49%|████▉     | 25/51 [00:57<00:52,  2.02s/it]"
          ]
        },
        {
          "name": "stdout",
          "output_type": "stream",
          "text": [
            "40 149\n",
            "Patient 25 has 155 slices\n"
          ]
        },
        {
          "name": "stderr",
          "output_type": "stream",
          "text": [
            " 51%|█████     | 26/51 [00:58<00:39,  1.59s/it]"
          ]
        },
        {
          "name": "stdout",
          "output_type": "stream",
          "text": [
            "30 231\n",
            "Patient 26 has 241 slices\n"
          ]
        },
        {
          "name": "stderr",
          "output_type": "stream",
          "text": [
            " 53%|█████▎    | 27/51 [00:59<00:33,  1.40s/it]"
          ]
        },
        {
          "name": "stdout",
          "output_type": "stream",
          "text": [
            "49 295\n"
          ]
        },
        {
          "name": "stderr",
          "output_type": "stream",
          "text": [
            " 55%|█████▍    | 28/51 [01:00<00:29,  1.29s/it]"
          ]
        },
        {
          "name": "stdout",
          "output_type": "stream",
          "text": [
            "Patient 27 has 304 slices\n",
            "33 217\n"
          ]
        },
        {
          "name": "stderr",
          "output_type": "stream",
          "text": [
            " 57%|█████▋    | 29/51 [01:01<00:25,  1.14s/it]"
          ]
        },
        {
          "name": "stdout",
          "output_type": "stream",
          "text": [
            "Patient 28 has 228 slices\n",
            "50 311\n",
            "Patient 29 has 322 slices\n"
          ]
        },
        {
          "name": "stderr",
          "output_type": "stream",
          "text": [
            " 59%|█████▉    | 30/51 [01:02<00:24,  1.15s/it]"
          ]
        },
        {
          "name": "stdout",
          "output_type": "stream",
          "text": [
            "0 213\n",
            "Patient 30 has 226 slices\n"
          ]
        },
        {
          "name": "stderr",
          "output_type": "stream",
          "text": [
            " 61%|██████    | 31/51 [01:03<00:21,  1.07s/it]"
          ]
        },
        {
          "name": "stdout",
          "output_type": "stream",
          "text": [
            "22 248\n"
          ]
        },
        {
          "name": "stderr",
          "output_type": "stream",
          "text": [
            " 63%|██████▎   | 32/51 [01:04<00:21,  1.15s/it]"
          ]
        },
        {
          "name": "stdout",
          "output_type": "stream",
          "text": [
            "Patient 31 has 256 slices\n",
            "88 493\n",
            "Patient 32 has 531 slices\n"
          ]
        },
        {
          "name": "stderr",
          "output_type": "stream",
          "text": [
            " 65%|██████▍   | 33/51 [01:06<00:24,  1.35s/it]"
          ]
        },
        {
          "name": "stdout",
          "output_type": "stream",
          "text": [
            "116 439\n"
          ]
        },
        {
          "name": "stderr",
          "output_type": "stream",
          "text": [
            " 67%|██████▋   | 34/51 [01:07<00:24,  1.42s/it]"
          ]
        },
        {
          "name": "stdout",
          "output_type": "stream",
          "text": [
            "Patient 33 has 483 slices\n",
            "40 300\n",
            "Patient 34 has 314 slices\n"
          ]
        },
        {
          "name": "stderr",
          "output_type": "stream",
          "text": [
            " 69%|██████▊   | 35/51 [01:08<00:21,  1.33s/it]"
          ]
        },
        {
          "name": "stdout",
          "output_type": "stream",
          "text": [
            "0 227\n",
            "Patient 35 has 241 slices\n"
          ]
        },
        {
          "name": "stderr",
          "output_type": "stream",
          "text": [
            " 71%|███████   | 36/51 [01:09<00:18,  1.22s/it]"
          ]
        },
        {
          "name": "stdout",
          "output_type": "stream",
          "text": [
            "0 198\n"
          ]
        },
        {
          "name": "stderr",
          "output_type": "stream",
          "text": [
            " 73%|███████▎  | 37/51 [01:10<00:15,  1.11s/it]"
          ]
        },
        {
          "name": "stdout",
          "output_type": "stream",
          "text": [
            "Patient 36 has 211 slices\n",
            "0 120\n"
          ]
        },
        {
          "name": "stderr",
          "output_type": "stream",
          "text": [
            " 75%|███████▍  | 38/51 [01:11<00:13,  1.00s/it]"
          ]
        },
        {
          "name": "stdout",
          "output_type": "stream",
          "text": [
            "Patient 37 has 128 slices\n",
            "0 203\n"
          ]
        },
        {
          "name": "stderr",
          "output_type": "stream",
          "text": [
            " 76%|███████▋  | 39/51 [01:12<00:11,  1.03it/s]"
          ]
        },
        {
          "name": "stdout",
          "output_type": "stream",
          "text": [
            "Patient 38 has 218 slices\n",
            "44 228\n"
          ]
        },
        {
          "name": "stderr",
          "output_type": "stream",
          "text": [
            " 78%|███████▊  | 40/51 [01:13<00:10,  1.07it/s]"
          ]
        },
        {
          "name": "stdout",
          "output_type": "stream",
          "text": [
            "Patient 39 has 248 slices\n",
            "0 229\n",
            "Patient 40 has 241 slices\n"
          ]
        },
        {
          "name": "stderr",
          "output_type": "stream",
          "text": [
            " 80%|████████  | 41/51 [01:14<00:09,  1.07it/s]"
          ]
        },
        {
          "name": "stdout",
          "output_type": "stream",
          "text": [
            "35 250\n",
            "Patient 41 has 271 slices\n"
          ]
        },
        {
          "name": "stderr",
          "output_type": "stream",
          "text": [
            " 82%|████████▏ | 42/51 [01:15<00:08,  1.07it/s]"
          ]
        },
        {
          "name": "stdout",
          "output_type": "stream",
          "text": [
            "48 243\n"
          ]
        },
        {
          "name": "stderr",
          "output_type": "stream",
          "text": [
            " 84%|████████▍ | 43/51 [01:15<00:07,  1.11it/s]"
          ]
        },
        {
          "name": "stdout",
          "output_type": "stream",
          "text": [
            "Patient 42 has 251 slices\n",
            "5 230\n",
            "Patient 43 has 241 slices\n"
          ]
        },
        {
          "name": "stderr",
          "output_type": "stream",
          "text": [
            " 86%|████████▋ | 44/51 [01:16<00:06,  1.07it/s]"
          ]
        },
        {
          "name": "stdout",
          "output_type": "stream",
          "text": [
            "88 314\n",
            "Patient 44 has 329 slices\n"
          ]
        },
        {
          "name": "stderr",
          "output_type": "stream",
          "text": [
            " 88%|████████▊ | 45/51 [01:18<00:05,  1.01it/s]"
          ]
        },
        {
          "name": "stdout",
          "output_type": "stream",
          "text": [
            "7 220\n",
            "Patient 45 has 228 slices\n"
          ]
        },
        {
          "name": "stderr",
          "output_type": "stream",
          "text": [
            " 90%|█████████ | 46/51 [01:18<00:04,  1.05it/s]"
          ]
        },
        {
          "name": "stdout",
          "output_type": "stream",
          "text": [
            "11 232\n"
          ]
        },
        {
          "name": "stderr",
          "output_type": "stream",
          "text": [
            " 92%|█████████▏| 47/51 [01:19<00:03,  1.06it/s]"
          ]
        },
        {
          "name": "stdout",
          "output_type": "stream",
          "text": [
            "Patient 46 has 242 slices\n",
            "21 229\n",
            "Patient 47 has 252 slices\n"
          ]
        },
        {
          "name": "stderr",
          "output_type": "stream",
          "text": [
            " 94%|█████████▍| 48/51 [01:20<00:02,  1.09it/s]"
          ]
        },
        {
          "name": "stdout",
          "output_type": "stream",
          "text": [
            "4 255\n",
            "Patient 48 has 266 slices\n"
          ]
        },
        {
          "name": "stderr",
          "output_type": "stream",
          "text": [
            " 96%|█████████▌| 49/51 [01:21<00:01,  1.06it/s]"
          ]
        },
        {
          "name": "stdout",
          "output_type": "stream",
          "text": [
            "2 122\n",
            "Patient 49 has 126 slices\n"
          ]
        },
        {
          "name": "stderr",
          "output_type": "stream",
          "text": [
            " 98%|█████████▊| 50/51 [01:22<00:00,  1.24it/s]"
          ]
        },
        {
          "name": "stdout",
          "output_type": "stream",
          "text": [
            "14 119\n",
            "Patient 50 has 125 slices\n"
          ]
        },
        {
          "name": "stderr",
          "output_type": "stream",
          "text": [
            "100%|██████████| 51/51 [01:22<00:00,  1.62s/it]"
          ]
        },
        {
          "name": "stdout",
          "output_type": "stream",
          "text": [
            "Saved 50 images and masks for training split\n"
          ]
        },
        {
          "name": "stderr",
          "output_type": "stream",
          "text": [
            "\n"
          ]
        }
      ],
      "source": [
        "save_dataset(train_dataset, 'MedicalDecathlonAugmentedTumors2', train_name, take_slices_flag = True, slices = patient_useful_slices, normalize_flag = True, normalization_method = 'min-max', remove_bed_flag = True, lungs_bbox = bbox_2d)"
      ]
    },
    {
      "cell_type": "code",
      "execution_count": 254,
      "metadata": {},
      "outputs": [
        {
          "name": "stderr",
          "output_type": "stream",
          "text": [
            "  0%|          | 0/51 [00:00<?, ?it/s]"
          ]
        },
        {
          "name": "stdout",
          "output_type": "stream",
          "text": [
            "Patient 0 has 86 slices\n",
            "CLAHE normalization\n",
            "Patient 0 has 86 slices\n"
          ]
        },
        {
          "name": "stderr",
          "output_type": "stream",
          "text": [
            "  2%|▏         | 1/51 [00:01<01:00,  1.22s/it]"
          ]
        },
        {
          "name": "stdout",
          "output_type": "stream",
          "text": [
            "Patient 1 has 57 slices\n",
            "CLAHE normalization\n"
          ]
        },
        {
          "name": "stderr",
          "output_type": "stream",
          "text": [
            "  4%|▍         | 2/51 [00:01<00:44,  1.10it/s]"
          ]
        },
        {
          "name": "stdout",
          "output_type": "stream",
          "text": [
            "Patient 1 has 57 slices\n",
            "Patient 2 has 47 slices\n",
            "CLAHE normalization\n",
            "Patient 2 has 47 slices\n"
          ]
        },
        {
          "name": "stderr",
          "output_type": "stream",
          "text": [
            "  6%|▌         | 3/51 [00:02<00:34,  1.38it/s]"
          ]
        },
        {
          "name": "stdout",
          "output_type": "stream",
          "text": [
            "Patient 3 has 33 slices\n",
            "CLAHE normalization\n",
            "Patient 3 has 33 slices\n"
          ]
        },
        {
          "name": "stderr",
          "output_type": "stream",
          "text": [
            "  8%|▊         | 4/51 [00:03<00:33,  1.42it/s]"
          ]
        },
        {
          "name": "stdout",
          "output_type": "stream",
          "text": [
            "Patient 4 has 27 slices\n",
            "CLAHE normalization\n",
            "Patient 4 has 27 slices\n"
          ]
        },
        {
          "name": "stderr",
          "output_type": "stream",
          "text": [
            " 10%|▉         | 5/51 [00:03<00:28,  1.62it/s]"
          ]
        },
        {
          "name": "stdout",
          "output_type": "stream",
          "text": [
            "Patient 5 has 58 slices\n",
            "CLAHE normalization\n",
            "Patient 5 has 58 slices\n"
          ]
        },
        {
          "name": "stderr",
          "output_type": "stream",
          "text": [
            " 12%|█▏        | 6/51 [00:04<00:27,  1.63it/s]"
          ]
        },
        {
          "name": "stdout",
          "output_type": "stream",
          "text": [
            "Patient 6 has 25 slices\n",
            "CLAHE normalization\n",
            "Patient 6 has 25 slices\n"
          ]
        },
        {
          "name": "stderr",
          "output_type": "stream",
          "text": [
            " 14%|█▎        | 7/51 [00:04<00:22,  1.99it/s]"
          ]
        },
        {
          "name": "stdout",
          "output_type": "stream",
          "text": [
            "Patient 7 has 29 slices\n",
            "CLAHE normalization\n",
            "Patient 7 has 29 slices\n"
          ]
        },
        {
          "name": "stderr",
          "output_type": "stream",
          "text": [
            " 16%|█▌        | 8/51 [00:04<00:21,  2.04it/s]"
          ]
        },
        {
          "name": "stdout",
          "output_type": "stream",
          "text": [
            "Patient 8 has 36 slices\n",
            "CLAHE normalization\n",
            "Patient 8 has 36 slices\n"
          ]
        },
        {
          "name": "stderr",
          "output_type": "stream",
          "text": [
            " 18%|█▊        | 9/51 [00:05<00:20,  2.06it/s]"
          ]
        },
        {
          "name": "stdout",
          "output_type": "stream",
          "text": [
            "Patient 9 has 37 slices\n",
            "CLAHE normalization\n",
            "Patient 9 has 37 slices\n"
          ]
        },
        {
          "name": "stderr",
          "output_type": "stream",
          "text": [
            " 20%|█▉        | 10/51 [00:06<00:25,  1.63it/s]"
          ]
        },
        {
          "name": "stdout",
          "output_type": "stream",
          "text": [
            "Patient 10 has 76 slices\n",
            "CLAHE normalization\n",
            "Patient 10 has 76 slices\n"
          ]
        },
        {
          "name": "stderr",
          "output_type": "stream",
          "text": [
            " 22%|██▏       | 11/51 [00:07<00:26,  1.50it/s]"
          ]
        },
        {
          "name": "stdout",
          "output_type": "stream",
          "text": [
            "Patient 11 has 36 slices\n",
            "CLAHE normalization\n",
            "Patient 11 has 36 slices\n"
          ]
        },
        {
          "name": "stderr",
          "output_type": "stream",
          "text": [
            " 24%|██▎       | 12/51 [00:07<00:25,  1.55it/s]"
          ]
        },
        {
          "name": "stdout",
          "output_type": "stream",
          "text": [
            "Patient 12 has 25 slices\n",
            "CLAHE normalization\n",
            "Patient 12 has 25 slices\n"
          ]
        },
        {
          "name": "stderr",
          "output_type": "stream",
          "text": [
            " 25%|██▌       | 13/51 [00:07<00:20,  1.88it/s]"
          ]
        },
        {
          "name": "stdout",
          "output_type": "stream",
          "text": [
            "Patient 13 has 41 slices\n",
            "CLAHE normalization\n",
            "Patient 13 has 41 slices\n"
          ]
        },
        {
          "name": "stderr",
          "output_type": "stream",
          "text": [
            " 27%|██▋       | 14/51 [00:08<00:19,  1.93it/s]"
          ]
        },
        {
          "name": "stdout",
          "output_type": "stream",
          "text": [
            "Patient 14 has 30 slices\n",
            "CLAHE normalization\n",
            "Patient 14 has 30 slices\n"
          ]
        },
        {
          "name": "stderr",
          "output_type": "stream",
          "text": [
            " 29%|██▉       | 15/51 [00:08<00:17,  2.02it/s]"
          ]
        },
        {
          "name": "stdout",
          "output_type": "stream",
          "text": [
            "Patient 15 has 32 slices\n",
            "CLAHE normalization\n",
            "Patient 15 has 32 slices\n"
          ]
        },
        {
          "name": "stderr",
          "output_type": "stream",
          "text": [
            " 31%|███▏      | 16/51 [00:09<00:17,  2.02it/s]"
          ]
        },
        {
          "name": "stdout",
          "output_type": "stream",
          "text": [
            "Patient 16 has 51 slices\n",
            "CLAHE normalization\n",
            "Patient 16 has 51 slices\n"
          ]
        },
        {
          "name": "stderr",
          "output_type": "stream",
          "text": [
            " 33%|███▎      | 17/51 [00:09<00:17,  1.90it/s]"
          ]
        },
        {
          "name": "stdout",
          "output_type": "stream",
          "text": [
            "Patient 17 has 30 slices\n",
            "CLAHE normalization\n",
            "Patient 17 has 30 slices\n"
          ]
        },
        {
          "name": "stderr",
          "output_type": "stream",
          "text": [
            " 35%|███▌      | 18/51 [00:10<00:17,  1.89it/s]"
          ]
        },
        {
          "name": "stdout",
          "output_type": "stream",
          "text": [
            "Patient 18 has 31 slices\n",
            "CLAHE normalization\n",
            "Patient 18 has 31 slices\n"
          ]
        },
        {
          "name": "stderr",
          "output_type": "stream",
          "text": [
            " 37%|███▋      | 19/51 [00:10<00:16,  1.95it/s]"
          ]
        },
        {
          "name": "stdout",
          "output_type": "stream",
          "text": [
            "Patient 19 has 43 slices\n",
            "CLAHE normalization\n",
            "Patient 19 has 43 slices\n"
          ]
        },
        {
          "name": "stderr",
          "output_type": "stream",
          "text": [
            " 39%|███▉      | 20/51 [00:11<00:16,  1.90it/s]"
          ]
        },
        {
          "name": "stdout",
          "output_type": "stream",
          "text": [
            "Patient 20 has 56 slices\n",
            "CLAHE normalization\n",
            "Patient 20 has 56 slices\n"
          ]
        },
        {
          "name": "stderr",
          "output_type": "stream",
          "text": [
            " 41%|████      | 21/51 [00:12<00:19,  1.55it/s]"
          ]
        },
        {
          "name": "stdout",
          "output_type": "stream",
          "text": [
            "Patient 21 has 51 slices\n",
            "CLAHE normalization\n"
          ]
        },
        {
          "name": "stderr",
          "output_type": "stream",
          "text": [
            " 43%|████▎     | 22/51 [00:13<00:19,  1.48it/s]"
          ]
        },
        {
          "name": "stdout",
          "output_type": "stream",
          "text": [
            "Patient 21 has 51 slices\n",
            "Patient 22 has 45 slices\n",
            "CLAHE normalization\n",
            "Patient 22 has 45 slices\n"
          ]
        },
        {
          "name": "stderr",
          "output_type": "stream",
          "text": [
            " 45%|████▌     | 23/51 [00:13<00:17,  1.61it/s]"
          ]
        },
        {
          "name": "stdout",
          "output_type": "stream",
          "text": [
            "Patient 23 has 33 slices\n",
            "CLAHE normalization\n",
            "Patient 23 has 33 slices\n"
          ]
        },
        {
          "name": "stderr",
          "output_type": "stream",
          "text": [
            " 47%|████▋     | 24/51 [00:14<00:15,  1.70it/s]"
          ]
        },
        {
          "name": "stdout",
          "output_type": "stream",
          "text": [
            "Patient 24 has 29 slices\n",
            "CLAHE normalization\n",
            "Patient 24 has 29 slices\n"
          ]
        },
        {
          "name": "stderr",
          "output_type": "stream",
          "text": [
            " 49%|████▉     | 25/51 [00:14<00:14,  1.84it/s]"
          ]
        },
        {
          "name": "stdout",
          "output_type": "stream",
          "text": [
            "Patient 25 has 28 slices\n",
            "CLAHE normalization\n",
            "Patient 25 has 28 slices\n"
          ]
        },
        {
          "name": "stderr",
          "output_type": "stream",
          "text": [
            " 51%|█████     | 26/51 [00:14<00:11,  2.09it/s]"
          ]
        },
        {
          "name": "stdout",
          "output_type": "stream",
          "text": [
            "Patient 26 has 48 slices\n",
            "CLAHE normalization\n",
            "Patient 26 has 48 slices\n"
          ]
        },
        {
          "name": "stderr",
          "output_type": "stream",
          "text": [
            " 53%|█████▎    | 27/51 [00:15<00:11,  2.01it/s]"
          ]
        },
        {
          "name": "stdout",
          "output_type": "stream",
          "text": [
            "Patient 27 has 86 slices\n",
            "CLAHE normalization\n",
            "Patient 27 has 86 slices\n"
          ]
        },
        {
          "name": "stderr",
          "output_type": "stream",
          "text": [
            " 55%|█████▍    | 28/51 [00:16<00:13,  1.71it/s]"
          ]
        },
        {
          "name": "stdout",
          "output_type": "stream",
          "text": [
            "Patient 28 has 37 slices\n",
            "CLAHE normalization\n",
            "Patient 28 has 37 slices\n"
          ]
        },
        {
          "name": "stderr",
          "output_type": "stream",
          "text": [
            " 57%|█████▋    | 29/51 [00:16<00:11,  1.84it/s]"
          ]
        },
        {
          "name": "stdout",
          "output_type": "stream",
          "text": [
            "Patient 29 has 30 slices\n",
            "CLAHE normalization\n",
            "Patient 29 has 30 slices\n"
          ]
        },
        {
          "name": "stderr",
          "output_type": "stream",
          "text": [
            " 59%|█████▉    | 30/51 [00:17<00:11,  1.83it/s]"
          ]
        },
        {
          "name": "stdout",
          "output_type": "stream",
          "text": [
            "Patient 30 has 44 slices\n",
            "CLAHE normalization\n",
            "Patient 30 has 44 slices\n"
          ]
        },
        {
          "name": "stderr",
          "output_type": "stream",
          "text": [
            " 61%|██████    | 31/51 [00:17<00:10,  1.90it/s]"
          ]
        },
        {
          "name": "stdout",
          "output_type": "stream",
          "text": [
            "Patient 31 has 27 slices\n",
            "CLAHE normalization\n",
            "Patient 31 has 27 slices\n"
          ]
        },
        {
          "name": "stderr",
          "output_type": "stream",
          "text": [
            " 63%|██████▎   | 32/51 [00:18<00:09,  1.97it/s]"
          ]
        },
        {
          "name": "stdout",
          "output_type": "stream",
          "text": [
            "Patient 32 has 60 slices\n",
            "CLAHE normalization\n",
            "Patient 32 has 60 slices\n"
          ]
        },
        {
          "name": "stderr",
          "output_type": "stream",
          "text": [
            " 65%|██████▍   | 33/51 [00:19<00:11,  1.59it/s]"
          ]
        },
        {
          "name": "stdout",
          "output_type": "stream",
          "text": [
            "Patient 33 has 85 slices\n",
            "CLAHE normalization\n",
            "Patient 33 has 85 slices\n"
          ]
        },
        {
          "name": "stderr",
          "output_type": "stream",
          "text": [
            " 67%|██████▋   | 34/51 [00:20<00:12,  1.34it/s]"
          ]
        },
        {
          "name": "stdout",
          "output_type": "stream",
          "text": [
            "Patient 34 has 29 slices\n",
            "CLAHE normalization\n",
            "Patient 34 has 29 slices\n"
          ]
        },
        {
          "name": "stderr",
          "output_type": "stream",
          "text": [
            " 69%|██████▊   | 35/51 [00:20<00:11,  1.45it/s]"
          ]
        },
        {
          "name": "stdout",
          "output_type": "stream",
          "text": [
            "Patient 35 has 37 slices\n",
            "CLAHE normalization\n",
            "Patient 35 has 37 slices\n"
          ]
        },
        {
          "name": "stderr",
          "output_type": "stream",
          "text": [
            " 71%|███████   | 36/51 [00:21<00:09,  1.56it/s]"
          ]
        },
        {
          "name": "stdout",
          "output_type": "stream",
          "text": [
            "Patient 36 has 27 slices\n",
            "CLAHE normalization\n",
            "Patient 36 has 27 slices\n"
          ]
        },
        {
          "name": "stderr",
          "output_type": "stream",
          "text": [
            " 73%|███████▎  | 37/51 [00:21<00:07,  1.77it/s]"
          ]
        },
        {
          "name": "stdout",
          "output_type": "stream",
          "text": [
            "Patient 37 has 35 slices\n",
            "CLAHE normalization\n",
            "Patient 37 has 35 slices\n"
          ]
        },
        {
          "name": "stderr",
          "output_type": "stream",
          "text": [
            " 75%|███████▍  | 38/51 [00:21<00:06,  1.99it/s]"
          ]
        },
        {
          "name": "stdout",
          "output_type": "stream",
          "text": [
            "Patient 38 has 27 slices\n",
            "CLAHE normalization\n",
            "Patient 38 has 27 slices\n"
          ]
        },
        {
          "name": "stderr",
          "output_type": "stream",
          "text": [
            " 76%|███████▋  | 39/51 [00:22<00:05,  2.13it/s]"
          ]
        },
        {
          "name": "stdout",
          "output_type": "stream",
          "text": [
            "Patient 39 has 71 slices\n",
            "CLAHE normalization\n",
            "Patient 39 has 71 slices\n"
          ]
        },
        {
          "name": "stderr",
          "output_type": "stream",
          "text": [
            " 78%|███████▊  | 40/51 [00:23<00:05,  1.91it/s]"
          ]
        },
        {
          "name": "stdout",
          "output_type": "stream",
          "text": [
            "Patient 40 has 26 slices\n",
            "CLAHE normalization\n",
            "Patient 40 has 26 slices\n"
          ]
        },
        {
          "name": "stderr",
          "output_type": "stream",
          "text": [
            " 80%|████████  | 41/51 [00:23<00:04,  2.04it/s]"
          ]
        },
        {
          "name": "stdout",
          "output_type": "stream",
          "text": [
            "Patient 41 has 30 slices\n",
            "CLAHE normalization\n",
            "Patient 41 has 30 slices\n"
          ]
        },
        {
          "name": "stderr",
          "output_type": "stream",
          "text": [
            " 82%|████████▏ | 42/51 [00:23<00:04,  1.99it/s]"
          ]
        },
        {
          "name": "stdout",
          "output_type": "stream",
          "text": [
            "Patient 42 has 94 slices\n",
            "CLAHE normalization\n",
            "Patient 42 has 94 slices\n"
          ]
        },
        {
          "name": "stderr",
          "output_type": "stream",
          "text": [
            " 84%|████████▍ | 43/51 [00:24<00:04,  1.70it/s]"
          ]
        },
        {
          "name": "stdout",
          "output_type": "stream",
          "text": [
            "Patient 43 has 52 slices\n",
            "CLAHE normalization\n",
            "Patient 43 has 52 slices\n"
          ]
        },
        {
          "name": "stderr",
          "output_type": "stream",
          "text": [
            " 86%|████████▋ | 44/51 [00:25<00:04,  1.73it/s]"
          ]
        },
        {
          "name": "stdout",
          "output_type": "stream",
          "text": [
            "Patient 44 has 42 slices\n",
            "CLAHE normalization\n",
            "Patient 44 has 42 slices\n"
          ]
        },
        {
          "name": "stderr",
          "output_type": "stream",
          "text": [
            " 88%|████████▊ | 45/51 [00:25<00:03,  1.71it/s]"
          ]
        },
        {
          "name": "stdout",
          "output_type": "stream",
          "text": [
            "Patient 45 has 30 slices\n",
            "CLAHE normalization\n",
            "Patient 45 has 30 slices\n"
          ]
        },
        {
          "name": "stderr",
          "output_type": "stream",
          "text": [
            " 90%|█████████ | 46/51 [00:26<00:02,  1.88it/s]"
          ]
        },
        {
          "name": "stdout",
          "output_type": "stream",
          "text": [
            "Patient 46 has 31 slices\n",
            "CLAHE normalization\n",
            "Patient 46 has 31 slices\n"
          ]
        },
        {
          "name": "stderr",
          "output_type": "stream",
          "text": [
            " 92%|█████████▏| 47/51 [00:26<00:02,  2.00it/s]"
          ]
        },
        {
          "name": "stdout",
          "output_type": "stream",
          "text": [
            "Patient 47 has 95 slices\n",
            "CLAHE normalization\n",
            "Patient 47 has 95 slices\n"
          ]
        },
        {
          "name": "stderr",
          "output_type": "stream",
          "text": [
            " 94%|█████████▍| 48/51 [00:27<00:01,  1.68it/s]"
          ]
        },
        {
          "name": "stdout",
          "output_type": "stream",
          "text": [
            "Patient 48 has 30 slices\n",
            "CLAHE normalization\n",
            "Patient 48 has 30 slices\n"
          ]
        },
        {
          "name": "stderr",
          "output_type": "stream",
          "text": [
            " 96%|█████████▌| 49/51 [00:28<00:01,  1.79it/s]"
          ]
        },
        {
          "name": "stdout",
          "output_type": "stream",
          "text": [
            "Patient 49 has 22 slices\n",
            "CLAHE normalization\n",
            "Patient 49 has 22 slices\n"
          ]
        },
        {
          "name": "stderr",
          "output_type": "stream",
          "text": [
            " 98%|█████████▊| 50/51 [00:28<00:00,  2.13it/s]"
          ]
        },
        {
          "name": "stdout",
          "output_type": "stream",
          "text": [
            "Patient 50 has 25 slices\n",
            "CLAHE normalization\n",
            "Patient 50 has 25 slices\n"
          ]
        },
        {
          "name": "stderr",
          "output_type": "stream",
          "text": [
            "100%|██████████| 51/51 [00:28<00:00,  1.78it/s]"
          ]
        },
        {
          "name": "stdout",
          "output_type": "stream",
          "text": [
            "Saved 51 images and masks for training split\n"
          ]
        },
        {
          "name": "stderr",
          "output_type": "stream",
          "text": [
            "\n"
          ]
        }
      ],
      "source": [
        "# save_dataset(train_dataset, 'MedicalDecathlonClaheTumors', train_name, take_slices_flag = True, slices = patient_tumorous_slices, normalize_flag = True, normalization_method = 'clahe', remove_bed_flag = True, lungs_bbox = bbox_2d)"
      ]
    },
    {
      "cell_type": "code",
      "execution_count": 35,
      "metadata": {},
      "outputs": [
        {
          "name": "stderr",
          "output_type": "stream",
          "text": [
            "Loading dataset: 100%|██████████| 12/12 [00:54<00:00,  4.54s/it]\n"
          ]
        }
      ],
      "source": [
        "### VALIDATION DATA ###\n",
        "val_name = 'validation' # From Monai: ['training', 'validation', 'test']\n",
        "val_dataset = DecathlonDataset(root_dir = f'{datasets_path}{val_name}/',\n",
        "                        task = \"Task06_Lung\", section = val_name,\n",
        "                        transform = base_transform, download = DOWNLOAD_FLAG)\n",
        "\n",
        "val_loader = DataLoader(val_dataset, batch_size = BATCH_SIZE, shuffle = False) #, num_workers = num_workers)\n"
      ]
    },
    {
      "cell_type": "code",
      "execution_count": 12,
      "metadata": {},
      "outputs": [
        {
          "name": "stderr",
          "output_type": "stream",
          "text": [
            "  0%|          | 0/12 [00:00<?, ?it/s]"
          ]
        },
        {
          "name": "stdout",
          "output_type": "stream",
          "text": [
            "Patient 0 has 369 slices\n"
          ]
        },
        {
          "name": "stderr",
          "output_type": "stream",
          "text": [
            " 25%|██▌       | 3/12 [00:02<00:05,  1.53it/s]"
          ]
        },
        {
          "name": "stdout",
          "output_type": "stream",
          "text": [
            "Patient 1 has 255 slices\n",
            "Patient 2 has 288 slices\n"
          ]
        },
        {
          "name": "stderr",
          "output_type": "stream",
          "text": [
            " 42%|████▏     | 5/12 [00:03<00:03,  1.82it/s]"
          ]
        },
        {
          "name": "stdout",
          "output_type": "stream",
          "text": [
            "Patient 3 has 376 slices\n",
            "Patient 4 has 112 slices\n"
          ]
        },
        {
          "name": "stderr",
          "output_type": "stream",
          "text": [
            " 58%|█████▊    | 7/12 [00:04<00:02,  1.82it/s]"
          ]
        },
        {
          "name": "stdout",
          "output_type": "stream",
          "text": [
            "Patient 5 has 245 slices\n",
            "Patient 6 has 252 slices\n"
          ]
        },
        {
          "name": "stderr",
          "output_type": "stream",
          "text": [
            " 75%|███████▌  | 9/12 [00:04<00:01,  2.19it/s]"
          ]
        },
        {
          "name": "stdout",
          "output_type": "stream",
          "text": [
            "Patient 7 has 231 slices\n",
            "Patient 8 has 129 slices\n"
          ]
        },
        {
          "name": "stderr",
          "output_type": "stream",
          "text": [
            " 92%|█████████▏| 11/12 [00:06<00:00,  1.51it/s]"
          ]
        },
        {
          "name": "stdout",
          "output_type": "stream",
          "text": [
            "Patient 9 has 240 slices\n",
            "Patient 10 has 493 slices\n"
          ]
        },
        {
          "name": "stderr",
          "output_type": "stream",
          "text": [
            "100%|██████████| 12/12 [00:07<00:00,  1.67it/s]"
          ]
        },
        {
          "name": "stdout",
          "output_type": "stream",
          "text": [
            "Patient 11 has 264 slices\n",
            "Saved 12 images and masks for validation split\n"
          ]
        },
        {
          "name": "stderr",
          "output_type": "stream",
          "text": [
            "\n"
          ]
        }
      ],
      "source": [
        "# save_dataset(val_dataset, 'MedicalDecathlonJustTumors', val_name)"
      ]
    },
    {
      "cell_type": "code",
      "execution_count": 36,
      "metadata": {},
      "outputs": [
        {
          "name": "stderr",
          "output_type": "stream",
          "text": [
            "  0%|          | 0/12 [00:00<?, ?it/s]"
          ]
        },
        {
          "name": "stdout",
          "output_type": "stream",
          "text": [
            "Patient 0 has 369 slices\n"
          ]
        },
        {
          "name": "stderr",
          "output_type": "stream",
          "text": [
            "  8%|▊         | 1/12 [00:01<00:16,  1.54s/it]"
          ]
        },
        {
          "name": "stdout",
          "output_type": "stream",
          "text": [
            "Patient 1 has 255 slices\n"
          ]
        },
        {
          "name": "stderr",
          "output_type": "stream",
          "text": [
            " 17%|█▋        | 2/12 [00:02<00:12,  1.22s/it]"
          ]
        },
        {
          "name": "stdout",
          "output_type": "stream",
          "text": [
            "Patient 2 has 288 slices\n"
          ]
        },
        {
          "name": "stderr",
          "output_type": "stream",
          "text": [
            " 25%|██▌       | 3/12 [00:03<00:11,  1.22s/it]"
          ]
        },
        {
          "name": "stdout",
          "output_type": "stream",
          "text": [
            "Patient 3 has 376 slices\n"
          ]
        },
        {
          "name": "stderr",
          "output_type": "stream",
          "text": [
            " 42%|████▏     | 5/12 [00:05<00:07,  1.03s/it]"
          ]
        },
        {
          "name": "stdout",
          "output_type": "stream",
          "text": [
            "Patient 4 has 112 slices\n",
            "Patient 5 has 245 slices\n"
          ]
        },
        {
          "name": "stderr",
          "output_type": "stream",
          "text": [
            " 50%|█████     | 6/12 [00:06<00:06,  1.01s/it]"
          ]
        },
        {
          "name": "stdout",
          "output_type": "stream",
          "text": [
            "Patient 6 has 252 slices\n"
          ]
        },
        {
          "name": "stderr",
          "output_type": "stream",
          "text": [
            " 67%|██████▋   | 8/12 [00:09<00:04,  1.11s/it]"
          ]
        },
        {
          "name": "stdout",
          "output_type": "stream",
          "text": [
            "Patient 7 has 231 slices\n"
          ]
        },
        {
          "name": "stderr",
          "output_type": "stream",
          "text": [
            " 75%|███████▌  | 9/12 [00:09<00:02,  1.04it/s]"
          ]
        },
        {
          "name": "stdout",
          "output_type": "stream",
          "text": [
            "Patient 8 has 129 slices\n"
          ]
        },
        {
          "name": "stderr",
          "output_type": "stream",
          "text": [
            " 83%|████████▎ | 10/12 [00:11<00:02,  1.15s/it]"
          ]
        },
        {
          "name": "stdout",
          "output_type": "stream",
          "text": [
            "Patient 9 has 240 slices\n",
            "Patient 10 has 493 slices\n"
          ]
        },
        {
          "name": "stderr",
          "output_type": "stream",
          "text": [
            " 92%|█████████▏| 11/12 [00:24<00:04,  4.75s/it]"
          ]
        },
        {
          "name": "stdout",
          "output_type": "stream",
          "text": [
            "Patient 11 has 264 slices\n"
          ]
        },
        {
          "name": "stderr",
          "output_type": "stream",
          "text": [
            "100%|██████████| 12/12 [00:31<00:00,  2.58s/it]"
          ]
        },
        {
          "name": "stdout",
          "output_type": "stream",
          "text": [
            "Saved 11 images and masks for validation split\n"
          ]
        },
        {
          "name": "stderr",
          "output_type": "stream",
          "text": [
            "\n"
          ]
        }
      ],
      "source": [
        "save_dataset(val_dataset, 'MedicalDecathlonAugmentedTumors2', val_name, normalize_flag = True, normalization_method = 'min-max', remove_bed_flag = True, lungs_bbox = bbox_2d)"
      ]
    },
    {
      "cell_type": "code",
      "execution_count": 260,
      "metadata": {},
      "outputs": [
        {
          "name": "stderr",
          "output_type": "stream",
          "text": [
            "  0%|          | 0/12 [00:00<?, ?it/s]"
          ]
        },
        {
          "name": "stdout",
          "output_type": "stream",
          "text": [
            "Patient 0 has 369 slices\n",
            "CLAHE normalization\n",
            "Patient 0 has 369 slices\n"
          ]
        },
        {
          "name": "stderr",
          "output_type": "stream",
          "text": [
            "  8%|▊         | 1/12 [00:04<00:45,  4.14s/it]"
          ]
        },
        {
          "name": "stdout",
          "output_type": "stream",
          "text": [
            "Patient 1 has 255 slices\n",
            "CLAHE normalization\n",
            "Patient 1 has 255 slices\n"
          ]
        },
        {
          "name": "stderr",
          "output_type": "stream",
          "text": [
            " 17%|█▋        | 2/12 [00:07<00:34,  3.40s/it]"
          ]
        },
        {
          "name": "stdout",
          "output_type": "stream",
          "text": [
            "Patient 2 has 288 slices\n",
            "CLAHE normalization\n",
            "Patient 2 has 288 slices\n"
          ]
        },
        {
          "name": "stderr",
          "output_type": "stream",
          "text": [
            " 25%|██▌       | 3/12 [00:10<00:29,  3.26s/it]"
          ]
        },
        {
          "name": "stdout",
          "output_type": "stream",
          "text": [
            "Patient 3 has 376 slices\n",
            "CLAHE normalization\n",
            "Patient 3 has 376 slices\n"
          ]
        },
        {
          "name": "stderr",
          "output_type": "stream",
          "text": [
            " 33%|███▎      | 4/12 [00:14<00:28,  3.58s/it]"
          ]
        },
        {
          "name": "stdout",
          "output_type": "stream",
          "text": [
            "Patient 4 has 112 slices\n",
            "CLAHE normalization\n",
            "Patient 4 has 112 slices\n"
          ]
        },
        {
          "name": "stderr",
          "output_type": "stream",
          "text": [
            " 42%|████▏     | 5/12 [00:15<00:19,  2.73s/it]"
          ]
        },
        {
          "name": "stdout",
          "output_type": "stream",
          "text": [
            "Patient 5 has 245 slices\n",
            "CLAHE normalization\n",
            "Patient 5 has 245 slices\n"
          ]
        },
        {
          "name": "stderr",
          "output_type": "stream",
          "text": [
            " 50%|█████     | 6/12 [00:18<00:16,  2.70s/it]"
          ]
        },
        {
          "name": "stdout",
          "output_type": "stream",
          "text": [
            "Patient 6 has 252 slices\n",
            "CLAHE normalization\n",
            "Patient 6 has 252 slices\n"
          ]
        },
        {
          "name": "stderr",
          "output_type": "stream",
          "text": [
            " 58%|█████▊    | 7/12 [00:20<00:13,  2.69s/it]"
          ]
        },
        {
          "name": "stdout",
          "output_type": "stream",
          "text": [
            "Patient 7 has 231 slices\n",
            "CLAHE normalization\n",
            "Patient 7 has 231 slices\n"
          ]
        },
        {
          "name": "stderr",
          "output_type": "stream",
          "text": [
            " 67%|██████▋   | 8/12 [00:23<00:10,  2.65s/it]"
          ]
        },
        {
          "name": "stdout",
          "output_type": "stream",
          "text": [
            "Patient 8 has 129 slices\n",
            "CLAHE normalization\n",
            "Patient 8 has 129 slices\n"
          ]
        },
        {
          "name": "stderr",
          "output_type": "stream",
          "text": [
            " 75%|███████▌  | 9/12 [00:24<00:06,  2.28s/it]"
          ]
        },
        {
          "name": "stdout",
          "output_type": "stream",
          "text": [
            "Patient 9 has 240 slices\n",
            "CLAHE normalization\n",
            "Patient 9 has 240 slices\n"
          ]
        },
        {
          "name": "stderr",
          "output_type": "stream",
          "text": [
            " 83%|████████▎ | 10/12 [00:27<00:04,  2.49s/it]"
          ]
        },
        {
          "name": "stdout",
          "output_type": "stream",
          "text": [
            "Patient 10 has 493 slices\n",
            "CLAHE normalization\n",
            "Patient 10 has 493 slices\n"
          ]
        },
        {
          "name": "stderr",
          "output_type": "stream",
          "text": [
            " 92%|█████████▏| 11/12 [00:33<00:03,  3.43s/it]"
          ]
        },
        {
          "name": "stdout",
          "output_type": "stream",
          "text": [
            "Patient 11 has 264 slices\n",
            "CLAHE normalization\n",
            "Patient 11 has 264 slices\n"
          ]
        },
        {
          "name": "stderr",
          "output_type": "stream",
          "text": [
            "100%|██████████| 12/12 [00:36<00:00,  3.01s/it]"
          ]
        },
        {
          "name": "stdout",
          "output_type": "stream",
          "text": [
            "Saved 12 images and masks for validation split\n"
          ]
        },
        {
          "name": "stderr",
          "output_type": "stream",
          "text": [
            "\n"
          ]
        }
      ],
      "source": [
        "save_dataset(val_dataset, 'MedicalDecathlonClaheTumors', val_name, normalize_flag = True, normalization_method = 'clahe', remove_bed_flag = True, lungs_bbox = bbox_2d)"
      ]
    }
  ],
  "metadata": {
    "accelerator": "GPU",
    "colab": {
      "provenance": []
    },
    "gpuClass": "standard",
    "kernelspec": {
      "display_name": "Python 3 (ipykernel)",
      "language": "python",
      "name": "python3"
    },
    "language_info": {
      "codemirror_mode": {
        "name": "ipython",
        "version": 3
      },
      "file_extension": ".py",
      "mimetype": "text/x-python",
      "name": "python",
      "nbconvert_exporter": "python",
      "pygments_lexer": "ipython3",
      "version": "3.9.undefined"
    }
  },
  "nbformat": 4,
  "nbformat_minor": 0
}
