{
  "cells": [
    {
      "cell_type": "markdown",
      "metadata": {},
      "source": [
        "# Files tree\n",
        "\n",
        "```\n",
        "./datasets\n",
        "|\n",
        "+---------MedicalDecathlon\n",
        "|                   |\n",
        "|                   +-----training\n",
        "|                   |         |\n",
        "|                   |         |\n",
        "|                   |         +--- archives with the cts in nii.gz format\n",
        "|                   |\n",
        "|                   |\n",
        "|                   |\n",
        "|                   +-----validation\n",
        "|                             |\n",
        "|                             |\n",
        "|                             +--- archives with the cts in nii.gz format\n",
        "|\n",
        "|\n",
        "|\n",
        "+---------MedicalDecathlonTensors\n",
        "                    |\n",
        "                    +-----training\n",
        "                    |         |\n",
        "                    |         |\n",
        "                    |         +--- files with the cts as tensors\n",
        "                    |\n",
        "                    |\n",
        "                    |\n",
        "                    +-----validation\n",
        "                              |\n",
        "                              |\n",
        "                              +---  files with the cts as tensors\n",
        "\n",
        "```\n"
      ]
    },
    {
      "cell_type": "markdown",
      "metadata": {},
      "source": [
        "### IMPORTS"
      ]
    },
    {
      "cell_type": "code",
      "execution_count": 2,
      "metadata": {},
      "outputs": [],
      "source": [
        "import os\n",
        "import warnings\n",
        "warnings.filterwarnings(\"ignore\") # remove some scikit-image warnings\n",
        "\n",
        "\n",
        "from monai.apps import DecathlonDataset\n",
        "from monai.data import DataLoader\n",
        "from monai.transforms import (\n",
        "    LoadImageD,\n",
        "    EnsureChannelFirstD,\n",
        "    Compose,\n",
        "    OrientationD,\n",
        "    OrientationD,\n",
        ")\n",
        "\n",
        "import torch\n",
        "import numpy as np\n",
        "import random\n",
        "import sys\n",
        "from tqdm import tqdm\n",
        "import pickle as pkl"
      ]
    },
    {
      "cell_type": "markdown",
      "metadata": {},
      "source": [
        "### HYPERPARAMS ###\n"
      ]
    },
    {
      "cell_type": "code",
      "execution_count": 4,
      "metadata": {},
      "outputs": [],
      "source": [
        "crt_dir = os.getcwd()\n",
        "datasets_path = f'{crt_dir}/datasets/MedicalDecathlon/'\n",
        "\n",
        "DOWNLOAD_FLAG = False\n",
        "BATCH_SIZE = 1\n",
        "\n",
        "KEYS = [\"image\", \"label\"]"
      ]
    },
    {
      "cell_type": "markdown",
      "metadata": {},
      "source": [
        "### PREPROCESSING TRANSFORMS"
      ]
    },
    {
      "cell_type": "code",
      "execution_count": 5,
      "metadata": {},
      "outputs": [],
      "source": [
        "base_transform = Compose([\n",
        "    LoadImageD(keys=KEYS),\n",
        "    EnsureChannelFirstD(keys=KEYS),\n",
        "    OrientationD(keys=KEYS, axcodes='RAS'),\n",
        "])"
      ]
    },
    {
      "cell_type": "markdown",
      "metadata": {},
      "source": [
        "### MAIN ###"
      ]
    },
    {
      "cell_type": "code",
      "execution_count": 7,
      "metadata": {},
      "outputs": [],
      "source": [
        "# We make sure to eliminate uncertainty in the data loading, by setting all the random seeds\n",
        "\n",
        "# Set random seeds\n",
        "torch.manual_seed(0)\n",
        "np.random.seed(0)\n",
        "random.seed(0)"
      ]
    },
    {
      "cell_type": "code",
      "execution_count": 8,
      "metadata": {},
      "outputs": [
        {
          "name": "stderr",
          "output_type": "stream",
          "text": [
            "Loading dataset:   0%|          | 0/51 [00:00<?, ?it/s]"
          ]
        },
        {
          "name": "stderr",
          "output_type": "stream",
          "text": [
            "Loading dataset: 100%|██████████| 51/51 [03:28<00:00,  4.08s/it]\n"
          ]
        }
      ],
      "source": [
        "### TRAINING DATA ###\n",
        "train_name = 'training' # From Monai: ['training', 'validation', 'test']\n",
        "train_dataset = DecathlonDataset(root_dir = f'{datasets_path}{train_name}/',\n",
        "                        task = \"Task06_Lung\", section = train_name,\n",
        "                        transform = base_transform, download = DOWNLOAD_FLAG)\n",
        "\n",
        "train_loader = DataLoader(train_dataset, batch_size = BATCH_SIZE, shuffle = False) #, num_workers = num_workers)"
      ]
    },
    {
      "cell_type": "code",
      "execution_count": 9,
      "metadata": {},
      "outputs": [],
      "source": [
        "def save_dataset(dataset, dataset_name, split_name):\n",
        "    '''\n",
        "    Save the dataset to the disk per patient as two files: image and mask'''\n",
        "    i = 0\n",
        "\n",
        "    for data in tqdm(dataset):\n",
        "        img, seg = data['image'], data['label']\n",
        "        \n",
        "        \n",
        "        img = img.cpu()\n",
        "        seg = seg.cpu()\n",
        "\n",
        "        filename = f'{crt_dir}/datasets/{dataset_name}/{split_name}/images/patient_{i}.pt'\n",
        "        maskname = f'{crt_dir}/datasets/{dataset_name}/{split_name}/labels/patient_{i}.pt'\n",
        "\n",
        "        torch.save(img, filename)\n",
        "        torch.save(seg, maskname)\n",
        "\n",
        "        i += 1\n",
        "\n",
        "    print(f'Saved {i} images and masks for {split_name} split')"
      ]
    },
    {
      "cell_type": "code",
      "execution_count": 10,
      "metadata": {},
      "outputs": [
        {
          "name": "stderr",
          "output_type": "stream",
          "text": [
            "100%|██████████| 51/51 [00:31<00:00,  1.61it/s]"
          ]
        },
        {
          "name": "stdout",
          "output_type": "stream",
          "text": [
            "Saved 51 images and masks for training split\n"
          ]
        },
        {
          "name": "stderr",
          "output_type": "stream",
          "text": [
            "\n"
          ]
        }
      ],
      "source": [
        "save_dataset(train_dataset, 'MedicalDecathlonTensors', train_name)"
      ]
    },
    {
      "cell_type": "code",
      "execution_count": 8,
      "metadata": {},
      "outputs": [
        {
          "name": "stderr",
          "output_type": "stream",
          "text": [
            "Loading dataset:   0%|          | 0/12 [00:00<?, ?it/s]"
          ]
        },
        {
          "name": "stderr",
          "output_type": "stream",
          "text": [
            "Loading dataset: 100%|██████████| 12/12 [00:46<00:00,  3.91s/it]\n"
          ]
        }
      ],
      "source": [
        "### VALIDATION DATA ###\n",
        "val_name = 'validation' # From Monai: ['training', 'validation', 'test']\n",
        "val_dataset = DecathlonDataset(root_dir = f'{datasets_path}{val_name}/',\n",
        "                        task = \"Task06_Lung\", section = val_name,\n",
        "                        transform = base_transform, download = DOWNLOAD_FLAG)\n",
        "\n",
        "val_loader = DataLoader(val_dataset, batch_size = BATCH_SIZE, shuffle = False) #, num_workers = num_workers)\n"
      ]
    },
    {
      "cell_type": "code",
      "execution_count": 9,
      "metadata": {},
      "outputs": [
        {
          "name": "stderr",
          "output_type": "stream",
          "text": [
            "100%|██████████| 12/12 [00:07<00:00,  1.68it/s]"
          ]
        },
        {
          "name": "stdout",
          "output_type": "stream",
          "text": [
            "Saved 12 images and masks for validation split\n"
          ]
        },
        {
          "name": "stderr",
          "output_type": "stream",
          "text": [
            "\n"
          ]
        }
      ],
      "source": [
        "save_dataset(val_dataset, 'MedicalDecathlonTensors', val_name)"
      ]
    }
  ],
  "metadata": {
    "accelerator": "GPU",
    "colab": {
      "provenance": []
    },
    "gpuClass": "standard",
    "kernelspec": {
      "display_name": "Python 3 (ipykernel)",
      "language": "python",
      "name": "python3"
    },
    "language_info": {
      "codemirror_mode": {
        "name": "ipython",
        "version": 3
      },
      "file_extension": ".py",
      "mimetype": "text/x-python",
      "name": "python",
      "nbconvert_exporter": "python",
      "pygments_lexer": "ipython3",
      "version": "3.9.13"
    }
  },
  "nbformat": 4,
  "nbformat_minor": 0
}
