{
  "cells": [
    {
      "cell_type": "markdown",
      "metadata": {},
      "source": [
        "# Convert images to gifs"
      ]
    },
    {
      "cell_type": "code",
      "execution_count": 8,
      "metadata": {},
      "outputs": [],
      "source": [
        "import glob\n",
        "\n",
        "# Possible future TODO: imageio.imread is deprecated, import imageio2 as imageio instead\n",
        "import imageio\n",
        "import os"
      ]
    },
    {
      "cell_type": "code",
      "execution_count": 9,
      "metadata": {},
      "outputs": [],
      "source": [
        "# Number of patients in the validation set\n",
        "\n",
        "no_val_patients = 12\n",
        "\n",
        "model_name = 'unet'"
      ]
    },
    {
      "cell_type": "code",
      "execution_count": 10,
      "metadata": {},
      "outputs": [
        {
          "name": "stdout",
          "output_type": "stream",
          "text": [
            "Patient 0 has images\n",
            "Patient 1 has images\n",
            "Patient 2 has no images\n",
            "{0: ['./plots/UNET/images/patient0_slice0.png', './plots/UNET/images/patient0_slice1.png', './plots/UNET/images/patient0_slice2.png', './plots/UNET/images/patient0_slice3.png', './plots/UNET/images/patient0_slice4.png', './plots/UNET/images/patient0_slice5.png', './plots/UNET/images/patient0_slice6.png', './plots/UNET/images/patient0_slice7.png', './plots/UNET/images/patient0_slice8.png', './plots/UNET/images/patient0_slice9.png', './plots/UNET/images/patient0_slice10.png', './plots/UNET/images/patient0_slice11.png', './plots/UNET/images/patient0_slice12.png', './plots/UNET/images/patient0_slice13.png', './plots/UNET/images/patient0_slice14.png', './plots/UNET/images/patient0_slice15.png', './plots/UNET/images/patient0_slice16.png', './plots/UNET/images/patient0_slice17.png', './plots/UNET/images/patient0_slice18.png', './plots/UNET/images/patient0_slice19.png', './plots/UNET/images/patient0_slice20.png', './plots/UNET/images/patient0_slice21.png', './plots/UNET/images/patient0_slice22.png', './plots/UNET/images/patient0_slice23.png', './plots/UNET/images/patient0_slice24.png', './plots/UNET/images/patient0_slice25.png', './plots/UNET/images/patient0_slice26.png', './plots/UNET/images/patient0_slice27.png', './plots/UNET/images/patient0_slice28.png', './plots/UNET/images/patient0_slice29.png', './plots/UNET/images/patient0_slice30.png', './plots/UNET/images/patient0_slice31.png', './plots/UNET/images/patient0_slice32.png', './plots/UNET/images/patient0_slice33.png', './plots/UNET/images/patient0_slice34.png', './plots/UNET/images/patient0_slice35.png', './plots/UNET/images/patient0_slice36.png', './plots/UNET/images/patient0_slice37.png', './plots/UNET/images/patient0_slice38.png', './plots/UNET/images/patient0_slice39.png', './plots/UNET/images/patient0_slice40.png', './plots/UNET/images/patient0_slice41.png', './plots/UNET/images/patient0_slice42.png', './plots/UNET/images/patient0_slice43.png', './plots/UNET/images/patient0_slice44.png', './plots/UNET/images/patient0_slice45.png', './plots/UNET/images/patient0_slice46.png', './plots/UNET/images/patient0_slice47.png', './plots/UNET/images/patient0_slice48.png', './plots/UNET/images/patient0_slice49.png', './plots/UNET/images/patient0_slice50.png', './plots/UNET/images/patient0_slice51.png', './plots/UNET/images/patient0_slice52.png', './plots/UNET/images/patient0_slice53.png', './plots/UNET/images/patient0_slice54.png', './plots/UNET/images/patient0_slice55.png', './plots/UNET/images/patient0_slice56.png', './plots/UNET/images/patient0_slice57.png', './plots/UNET/images/patient0_slice58.png', './plots/UNET/images/patient0_slice59.png', './plots/UNET/images/patient0_slice60.png', './plots/UNET/images/patient0_slice61.png', './plots/UNET/images/patient0_slice62.png', './plots/UNET/images/patient0_slice63.png', './plots/UNET/images/patient0_slice64.png', './plots/UNET/images/patient0_slice65.png', './plots/UNET/images/patient0_slice66.png', './plots/UNET/images/patient0_slice67.png', './plots/UNET/images/patient0_slice68.png', './plots/UNET/images/patient0_slice69.png', './plots/UNET/images/patient0_slice70.png', './plots/UNET/images/patient0_slice71.png', './plots/UNET/images/patient0_slice72.png', './plots/UNET/images/patient0_slice74.png', './plots/UNET/images/patient0_slice76.png'], 1: ['./plots/UNET/images/patient1_slice0.png', './plots/UNET/images/patient1_slice2.png', './plots/UNET/images/patient1_slice4.png', './plots/UNET/images/patient1_slice6.png', './plots/UNET/images/patient1_slice8.png', './plots/UNET/images/patient1_slice10.png', './plots/UNET/images/patient1_slice12.png', './plots/UNET/images/patient1_slice14.png', './plots/UNET/images/patient1_slice16.png', './plots/UNET/images/patient1_slice18.png', './plots/UNET/images/patient1_slice20.png', './plots/UNET/images/patient1_slice22.png', './plots/UNET/images/patient1_slice24.png', './plots/UNET/images/patient1_slice26.png', './plots/UNET/images/patient1_slice28.png', './plots/UNET/images/patient1_slice72.png', './plots/UNET/images/patient1_slice73.png', './plots/UNET/images/patient1_slice74.png', './plots/UNET/images/patient1_slice75.png', './plots/UNET/images/patient1_slice76.png', './plots/UNET/images/patient1_slice77.png', './plots/UNET/images/patient1_slice78.png', './plots/UNET/images/patient1_slice79.png', './plots/UNET/images/patient1_slice80.png', './plots/UNET/images/patient1_slice81.png', './plots/UNET/images/patient1_slice82.png', './plots/UNET/images/patient1_slice83.png', './plots/UNET/images/patient1_slice84.png', './plots/UNET/images/patient1_slice85.png', './plots/UNET/images/patient1_slice86.png', './plots/UNET/images/patient1_slice87.png', './plots/UNET/images/patient1_slice88.png', './plots/UNET/images/patient1_slice89.png', './plots/UNET/images/patient1_slice90.png', './plots/UNET/images/patient1_slice91.png', './plots/UNET/images/patient1_slice92.png', './plots/UNET/images/patient1_slice93.png', './plots/UNET/images/patient1_slice94.png', './plots/UNET/images/patient1_slice95.png', './plots/UNET/images/patient1_slice96.png', './plots/UNET/images/patient1_slice97.png', './plots/UNET/images/patient1_slice98.png', './plots/UNET/images/patient1_slice99.png', './plots/UNET/images/patient1_slice100.png', './plots/UNET/images/patient1_slice101.png', './plots/UNET/images/patient1_slice102.png', './plots/UNET/images/patient1_slice103.png', './plots/UNET/images/patient1_slice104.png', './plots/UNET/images/patient1_slice105.png', './plots/UNET/images/patient1_slice106.png', './plots/UNET/images/patient1_slice107.png', './plots/UNET/images/patient1_slice108.png', './plots/UNET/images/patient1_slice109.png', './plots/UNET/images/patient1_slice110.png', './plots/UNET/images/patient1_slice111.png', './plots/UNET/images/patient1_slice112.png', './plots/UNET/images/patient1_slice113.png', './plots/UNET/images/patient1_slice114.png', './plots/UNET/images/patient1_slice115.png', './plots/UNET/images/patient1_slice116.png', './plots/UNET/images/patient1_slice117.png', './plots/UNET/images/patient1_slice118.png', './plots/UNET/images/patient1_slice119.png'], 2: [], 3: [], 4: [], 5: [], 6: [], 7: [], 8: [], 9: [], 10: [], 11: []}\n"
          ]
        },
        {
          "name": "stderr",
          "output_type": "stream",
          "text": [
            "/tmp/ipykernel_309590/2405909796.py:33: DeprecationWarning: Starting with ImageIO v3 the behavior of this function will switch to that of iio.v3.imread. To keep the current behavior (and make this warning dissapear) use `import imageio.v2 as imageio` or call `imageio.v2.imread` directly.\n",
            "  image = imageio.imread(filename)\n"
          ]
        },
        {
          "name": "stdout",
          "output_type": "stream",
          "text": [
            "Patient 2 has no images\n"
          ]
        }
      ],
      "source": [
        "# Get the frames corresponding to each patient\n",
        "patients_frames = {i : [] for i in range(no_val_patients)}\n",
        "\n",
        "images_directory = f'./plots/{model_name.upper()}/images/'\n",
        "\n",
        "for patient_id in range(no_val_patients):\n",
        "    if not os.path.exists(images_directory + f'patient{patient_id}_slice0.png'):\n",
        "        print(f'Patient {patient_id} has no images')\n",
        "        break\n",
        "    else:\n",
        "        # Get the images that have patient_id in their name\n",
        "        print(f'Patient {patient_id} has images')\n",
        "        patients_frames[patient_id] = glob.glob(images_directory + f'patient{patient_id}_slice*.png')\n",
        "\n",
        "# Sort the frames based on the slice number\n",
        "for key in patients_frames:\n",
        "    patients_frames[key] = sorted(patients_frames[key], key = lambda x: int(x.split('_slice')[-1].split('.')[0]))\n",
        "\n",
        "print(patients_frames)\n",
        "\n",
        "# Create the gifs for each patient\n",
        "for patient_id in range(no_val_patients):\n",
        "    if not os.path.exists(images_directory + f'patient{patient_id}_slice0.png'):\n",
        "        print(f'Patient {patient_id} has no images')\n",
        "        break\n",
        "\n",
        "    gif_name = f'./plots/{model_name.upper()}/gifs/patient{patient_id}.gif'\n",
        "    if os.path.exists(gif_name):\n",
        "        os.remove(gif_name)\n",
        "\n",
        "    with imageio.get_writer(f'./plots/{model_name.upper()}/gifs/patient{patient_id}.gif', mode='I') as writer:\n",
        "        for filename in patients_frames[patient_id]:\n",
        "            image = imageio.imread(filename)\n",
        "            writer.append_data(image)"
      ]
    }
  ],
  "metadata": {
    "accelerator": "GPU",
    "colab": {
      "provenance": []
    },
    "gpuClass": "standard",
    "kernelspec": {
      "display_name": "Python 3 (ipykernel)",
      "language": "python",
      "name": "python3"
    },
    "language_info": {
      "codemirror_mode": {
        "name": "ipython",
        "version": 3
      },
      "file_extension": ".py",
      "mimetype": "text/x-python",
      "name": "python",
      "nbconvert_exporter": "python",
      "pygments_lexer": "ipython3",
      "version": "3.9.13"
    }
  },
  "nbformat": 4,
  "nbformat_minor": 0
}
